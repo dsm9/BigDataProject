{
 "cells": [
  {
   "cell_type": "markdown",
   "metadata": {},
   "source": [
    "# Data Mining\n",
    "## Exercise 3 -  A-priori algorithm and association rules \n",
    "\n",
    "**Student: David Sánchez Marín**\n"
   ]
  },
  {
   "cell_type": "markdown",
   "metadata": {},
   "source": [
    "###  Mining Frequent Itemsets - A-priori algorithm for k up to 2"
   ]
  },
  {
   "cell_type": "code",
   "execution_count": 1,
   "metadata": {
    "collapsed": true
   },
   "outputs": [],
   "source": [
    "import pyspark\n",
    "import os\n",
    "import math\n",
    "import random\n",
    "import sys"
   ]
  },
  {
   "cell_type": "code",
   "execution_count": 2,
   "metadata": {},
   "outputs": [
    {
     "name": "stdout",
     "output_type": "stream",
     "text": [
      "None\n",
      "<SparkContext master=local[*] appName=pyspark-shell>\n"
     ]
    }
   ],
   "source": [
    "# Preliminary start-up code:\n",
    "spark_home = os.environ.get('SPARK_HOME', None)\n",
    "print ( spark_home )\n",
    "sc = pyspark.SparkContext('local[*]')\n",
    "print ( sc )"
   ]
  },
  {
   "cell_type": "code",
   "execution_count": 3,
   "metadata": {
    "collapsed": true
   },
   "outputs": [],
   "source": [
    "# From a transaction in a single string with items separated by white spaces\n",
    "# generate a list with the items of the transaction\n",
    "def parseTransaction( trans ):\n",
    "    return trans.strip().split('\\t')\n",
    "\n",
    "# Compute the rdd with frequent singletonsets (L_1)\n",
    "def computeL1 ( rddtrans, numtrans, theta ):\n",
    "  rddtemp = rddtrans.flatMap( lambda trans : [ (it,1) for it in trans ] ).reduceByKey( lambda a,b : a+b  )\n",
    "  rddtemp2 = rddtemp.filter( lambda x: x[0] != '')\n",
    "\n",
    "  rddL1 = rddtemp2.filter( lambda x : (float(x[1])/numtrans) >= theta )\n",
    "  return rddL1\n",
    "\n",
    "# This is a function to map transactions to transactions with only items in L1,\n",
    "# something that can increase the efficiency when computing L2\n",
    "def filterOutL1( transseq, L1 ):\n",
    "    for trans in transseq:\n",
    "       yield [ it for it in trans if (it in L1) ]\n"
   ]
  },
  {
   "cell_type": "code",
   "execution_count": 4,
   "metadata": {
    "collapsed": true
   },
   "outputs": [],
   "source": [
    "def generateC2( seqoftransactions,  L1  ):\n",
    "    \n",
    "    for trans1 in seqoftransactions:     \n",
    "        itemsetlist = []\n",
    "        if len(trans1) > 1:\n",
    "            trans2 = trans1.copy()\n",
    "            for it1 in trans1:\n",
    "                trans2.remove(it1)\n",
    "                for it2 in trans2:\n",
    "                    pair = (it1, it2)\n",
    "                    itemsetlist.append(pair)\n",
    "        yield itemsetlist\n"
   ]
  },
  {
   "cell_type": "code",
   "execution_count": 5,
   "metadata": {
    "collapsed": true
   },
   "outputs": [],
   "source": [
    "# And finally, the function for computing L_2 from L_1 and the rdd with\n",
    "# the set of transactions\n",
    "# This function should use your previous generateC2 function to compute L2 from C2\n",
    "#\n",
    "def computeL2( rddtrans, numtrans, L1, theta, verbose ):\n",
    "    #   Map the transactions in rddtrans to the set of candidate frquenquent pairs (C2) \n",
    "    #   using the previous function generateC2      \n",
    "        \n",
    "    candidatePairsrdd = rddtrans.mapPartitions( lambda trans: generateC2(trans, L1onlyitems) )\n",
    "    if verbose:\n",
    "        print (\"\\n  candidatePairsrdd: \", candidatePairsrdd.take(10))\n",
    "\n",
    "    candidatePairsfilteredrdd = candidatePairsrdd.filter( lambda x: len(x) > 0 ).map( lambda x: x[0])\n",
    "    if verbose:\n",
    "        print (\"\\n  candidatePairsfilteredrdd: \", candidatePairsfilteredrdd.take(10))\n",
    "\n",
    "    #  Count number of occurences in the transactions for  each pair in C2. \n",
    "    #  Use flatpMap and reduceByKey to get the final rdd\n",
    "    #rddL2temp = candidatePairsfilteredrdd.flatMap( lambda trans : [ (it,1) for it in trans ] ).reduceByKey( lambda a,b : a+b  ) \n",
    "    rddL2temp = candidatePairsfilteredrdd.map( lambda it : (it, 1) ).reduceByKey( lambda a,b : a+b  ) \n",
    "    if verbose:\n",
    "        print (\"\\n  rddL2temp: \", rddL2temp.take(10))\n",
    "    \n",
    "    # Finally, filter out from the previous rdd those pairs with frequency below theta\n",
    "    rddL2 = rddL2temp.filter( lambda x : (float(x[1])/numtrans) >= theta ) \n",
    "    \n",
    "    return rddL2"
   ]
  },
  {
   "cell_type": "code",
   "execution_count": 6,
   "metadata": {},
   "outputs": [
    {
     "name": "stdout",
     "output_type": "stream",
     "text": [
      "Number of registers:  430941\n",
      "[['0', '19790101', '197901', '1979', '1979.0027', '', '', '', '', '', '', '', '', '', '', 'AFR', 'AFRICA', 'AFR', '', '', '', '', '', '', '', '1', '040', '040', '04', '1', '1', '9', '1', '9', '5.52631578947368', '', '', '', '', '0', '0', '0', '', '', '', '', '0', '0', '0', '', '', '', '', '0', '0', '', '20130203'], ['1', '19790101', '197901', '1979', '1979.0027', '', '', '', '', '', '', '', '', '', '', 'AGR', 'FARMER', '', '', '', '', '', 'AGR', '', '', '1', '030', '030', '03', '1', '4', '10', '1', '10', '10.9792284866469', '', '', '', '', '0', '0', '0', '1', 'Nigeria', 'NI', 'NI', '10', '8', '0', '1', 'Nigeria', 'NI', 'NI', '10', '8', '0', '20130203'], ['2', '19790101', '197901', '1979', '1979.0027', '', '', '', '', '', '', '', '', '', '', 'AGR', 'FARMER', '', '', '', '', '', 'AGR', '', '', '1', '100', '100', '10', '3', '-5', '10', '1', '10', '10.9792284866469', '', '', '', '', '0', '0', '0', '1', 'Nigeria', 'NI', 'NI', '10', '8', '0', '1', 'Nigeria', 'NI', 'NI', '10', '8', '0', '20130203'], ['3', '19790101', '197901', '1979', '1979.0027', '', '', '', '', '', '', '', '', '', '', 'CHN', 'CHINA', 'CHN', '', '', '', '', '', '', '', '1', '043', '043', '04', '1', '2.8', '2', '1', '2', '7.73943889068043', '', '', '', '', '0', '0', '0', '4', 'Dizhou, Guangxi, China', 'CH', 'CH16', '23.0036', '106.359', '-1903584', '4', 'Dizhou, Guangxi, China', 'CH', 'CH16', '23.0036', '106.359', '-1903584', '20130203'], ['4', '19790101', '197901', '1979', '1979.0027', '', '', '', '', '', '', '', '', '', '', 'COP', 'POLICE', '', '', '', '', '', 'COP', '', '', '0', '190', '190', '19', '4', '-10', '5', '1', '5', '3.37909186906019', '', '', '', '', '0', '0', '0', '3', 'Dallas, Texas, United States', 'US', 'USTX', '32.7831', '-96.8067', '1380944', '3', 'Dallas, Texas, United States', 'US', 'USTX', '32.7831', '-96.8067', '1380944', '20130203']]\n"
     ]
    }
   ],
   "source": [
    "# Load information in Dataset\n",
    "\n",
    "rddlines = sc.textFile( \"../data/1979.csv\").map(parseTransaction)\n",
    "numtrans = rddlines.count()\n",
    "print (\"Number of registers: \", numtrans)\n",
    "print(rddlines.take(5))"
   ]
  },
  {
   "cell_type": "code",
   "execution_count": 7,
   "metadata": {},
   "outputs": [
    {
     "data": {
      "text/plain": [
       "[['AFR', '040', ''],\n",
       " ['AGR', '030', 'NI'],\n",
       " ['AGR', '100', 'NI'],\n",
       " ['CHN', '043', 'CH'],\n",
       " ['COP', '190', 'US'],\n",
       " ['CVL', '046', 'IS'],\n",
       " ['EGYEDU', '040', ''],\n",
       " ['GOV', '020', 'TU'],\n",
       " ['GOV', '040', 'CH'],\n",
       " ['GOV', '040', 'TW']]"
      ]
     },
     "execution_count": 7,
     "metadata": {},
     "output_type": "execute_result"
    }
   ],
   "source": [
    "# Select fields\n",
    "rddtrans = rddlines.map(lambda x: [x[15],x[27],x[44]])\n",
    "rddtrans.take(10)"
   ]
  },
  {
   "cell_type": "code",
   "execution_count": 8,
   "metadata": {},
   "outputs": [
    {
     "name": "stdout",
     "output_type": "stream",
     "text": [
      "*******************************************************************************************************\n",
      "                                THETA =  0.01\n",
      "*******************************************************************************************************\n",
      "\n",
      "L1 singleton with frequency information: \n",
      " [('CH', 25151), ('190', 17254), ('051', 21278), ('LEG', 4850), ('112', 7218), ('USA', 19484), ('036', 17954), ('111', 8545), ('110', 4808), ('040', 30785), ('US', 32488), ('CVL', 4575), ('042', 50824), ('ZI', 5869), ('057', 10552), ('RS', 20365), ('SF', 5247), ('VNM', 12557), ('120', 8467), ('FR', 6313), ('013', 6065), ('GBR', 6890), ('043', 48844), ('046', 25938), ('IS', 14897), ('GOV', 29969), ('020', 17660), ('IR', 16888), ('CB', 4996), ('MIL', 7756), ('VM', 17120), ('173', 8070), ('010', 25975), ('030', 7116), ('CHN', 15506), ('PL', 5223), ('IRN', 8552), ('JA', 5558), ('KHM', 4727), ('EG', 9533), ('RUS', 11368), ('080', 4396), ('050', 5186), ('EGY', 6679), ('ISR', 8928), ('012', 5941), ('GM', 5348), ('UK', 12641), ('TH', 5620)]\n",
      "\n",
      "L1 only items: \n",
      " ['CH', '190', '051', 'LEG', '112', 'USA', '036', '111', '110', '040', 'US', 'CVL', '042', 'ZI', '057', 'RS', 'SF', 'VNM', '120', 'FR', '013', 'GBR', '043', '046', 'IS', 'GOV', '020', 'IR', 'CB', 'MIL', 'VM', '173', '010', '030', 'CHN', 'PL', 'IRN', 'JA', 'KHM', 'EG', 'RUS', '080', '050', 'EGY', 'ISR', '012', 'GM', 'UK', 'TH']\n",
      "\n",
      "Transactions with only L1 items : \n",
      " [['040'], ['030'], [], ['CHN', '043', 'CH'], ['190', 'US'], ['CVL', '046', 'IS'], ['040'], ['GOV', '020'], ['GOV', '040', 'CH'], ['GOV', '040']]\n",
      "\n",
      "  candidatePairsrdd:  [[], [], [], [('CHN', '043'), ('CHN', 'CH'), ('043', 'CH')], [('190', 'US')], [('CVL', '046'), ('CVL', 'IS'), ('046', 'IS')], [], [('GOV', '020')], [('GOV', '040'), ('GOV', 'CH'), ('040', 'CH')], [('GOV', '040')]]\n",
      "\n",
      "  candidatePairsfilteredrdd:  [('CHN', '043'), ('190', 'US'), ('CVL', '046'), ('GOV', '020'), ('GOV', '040'), ('GOV', '040'), ('GOV', '040'), ('GOV', '042'), ('GOV', '043'), ('GOV', '046')]\n",
      "\n",
      "  rddL2temp:  [(('GOV', '051'), 1705), (('057', 'US'), 154), (('042', 'RS'), 839), (('USA', '020'), 936), (('GOV', '112'), 446), (('GOV', '036'), 1414), (('112', 'VM'), 72), (('MIL', 'CH'), 185), (('020', 'CH'), 265), (('CHN', '050'), 305)]\n",
      "\n",
      "L2 Pairs with frequency information :  [(('GOV', '043'), 5152)]\n",
      "\n",
      "L2 only items:  [('GOV', '043')]\n",
      "*******************************************************************************************************\n",
      "                                THETA =  0.0075\n",
      "*******************************************************************************************************\n",
      "\n",
      "L1 singleton with frequency information: \n",
      " [('AFR', 3828), ('CH', 25151), ('190', 17254), ('TU', 3825), ('051', 21278), ('LEG', 4850), ('112', 7218), ('USA', 19484), ('036', 17954), ('111', 8545), ('110', 4808), ('017', 3369), ('141', 3365), ('THA', 3646), ('AF', 3446), ('040', 30785), ('US', 32488), ('CVL', 4575), ('042', 50824), ('ZI', 5869), ('JPN', 3739), ('061', 3320), ('057', 10552), ('RS', 20365), ('SF', 5247), ('VNM', 12557), ('120', 8467), ('HU', 3890), ('IT', 3286), ('FR', 6313), ('060', 4163), ('UG', 3802), ('013', 6065), ('GBR', 6890), ('100', 4286), ('043', 48844), ('046', 25938), ('IS', 14897), ('GOV', 29969), ('020', 17660), ('IR', 16888), ('CB', 4996), ('084', 4213), ('MIL', 7756), ('VM', 17120), ('173', 8070), ('010', 25975), ('030', 7116), ('CHN', 15506), ('COP', 3483), ('PL', 5223), ('IRN', 8552), ('JA', 5558), ('KHM', 4727), ('EG', 9533), ('MED', 4015), ('RUS', 11368), ('080', 4396), ('FRA', 3783), ('050', 5186), ('193', 4237), ('EGY', 6679), ('ISR', 8928), ('012', 5941), ('PSE', 3507), ('NU', 3519), ('090', 3911), ('GM', 5348), ('UK', 12641), ('LE', 4131), ('TH', 5620)]\n",
      "\n",
      "L1 only items: \n",
      " ['AFR', 'CH', '190', 'TU', '051', 'LEG', '112', 'USA', '036', '111', '110', '017', '141', 'THA', 'AF', '040', 'US', 'CVL', '042', 'ZI', 'JPN', '061', '057', 'RS', 'SF', 'VNM', '120', 'HU', 'IT', 'FR', '060', 'UG', '013', 'GBR', '100', '043', '046', 'IS', 'GOV', '020', 'IR', 'CB', '084', 'MIL', 'VM', '173', '010', '030', 'CHN', 'COP', 'PL', 'IRN', 'JA', 'KHM', 'EG', 'MED', 'RUS', '080', 'FRA', '050', '193', 'EGY', 'ISR', '012', 'PSE', 'NU', '090', 'GM', 'UK', 'LE', 'TH']\n",
      "\n",
      "Transactions with only L1 items : \n",
      " [['AFR', '040'], ['030'], ['100'], ['CHN', '043', 'CH'], ['COP', '190', 'US'], ['CVL', '046', 'IS'], ['040'], ['GOV', '020', 'TU'], ['GOV', '040', 'CH'], ['GOV', '040']]\n",
      "\n",
      "L2 Pairs with frequency information :  [(('GOV', '043'), 5152), (('GOV', '040'), 3503)]\n",
      "\n",
      "L2 only items:  [('GOV', '043'), ('GOV', '040')]\n",
      "*******************************************************************************************************\n",
      "                                THETA =  0.005\n",
      "*******************************************************************************************************\n",
      "\n",
      "L1 singleton with frequency information: \n",
      " [('AFR', 3828), ('CH', 25151), ('190', 17254), ('TU', 3825), ('051', 21278), ('LEG', 4850), ('112', 7218), ('TZ', 2210), ('USA', 19484), ('036', 17954), ('111', 8545), ('110', 4808), ('017', 3369), ('192', 2392), ('IZ', 2939), ('POL', 3045), ('REB', 3030), ('141', 3365), ('DEU', 3110), ('THA', 3646), ('LBN', 2518), ('AF', 3446), ('040', 30785), ('US', 32488), ('CVL', 4575), ('042', 50824), ('ZI', 5869), ('JPN', 3739), ('061', 3320), ('057', 10552), ('RS', 20365), ('SF', 5247), ('VNM', 12557), ('120', 8467), ('SA', 2220), ('HU', 3890), ('IT', 3286), ('FR', 6313), ('060', 4163), ('UG', 3802), ('013', 6065), ('087', 2853), ('USAGOV', 2766), ('GBR', 6890), ('UGA', 2268), ('SY', 2775), ('100', 4286), ('043', 48844), ('046', 25938), ('IS', 14897), ('GOV', 29969), ('020', 17660), ('IR', 16888), ('CB', 4996), ('084', 4213), ('MIL', 7756), ('VM', 17120), ('173', 8070), ('010', 25975), ('014', 2926), ('070', 2892), ('LA', 2378), ('130', 3030), ('KS', 2331), ('MX', 2198), ('ZA', 2515), ('SP', 2331), ('ZWE', 2956), ('030', 7116), ('CHN', 15506), ('COP', 3483), ('PL', 5223), ('IRN', 8552), ('JA', 5558), ('KHM', 4727), ('EG', 9533), ('MED', 4015), ('PK', 2662), ('RUS', 11368), ('080', 4396), ('FRA', 3783), ('050', 5186), ('HUN', 2545), ('193', 4237), ('CU', 3215), ('EGY', 6679), ('ISR', 8928), ('012', 5941), ('PSE', 3507), ('TUR', 2246), ('NU', 3519), ('BUS', 2675), ('090', 3911), ('GM', 5348), ('UK', 12641), ('EZ', 2791), ('LE', 4131), ('TH', 5620), ('RO', 3214), ('BU', 2768)]\n",
      "\n",
      "L1 only items: \n",
      " ['AFR', 'CH', '190', 'TU', '051', 'LEG', '112', 'TZ', 'USA', '036', '111', '110', '017', '192', 'IZ', 'POL', 'REB', '141', 'DEU', 'THA', 'LBN', 'AF', '040', 'US', 'CVL', '042', 'ZI', 'JPN', '061', '057', 'RS', 'SF', 'VNM', '120', 'SA', 'HU', 'IT', 'FR', '060', 'UG', '013', '087', 'USAGOV', 'GBR', 'UGA', 'SY', '100', '043', '046', 'IS', 'GOV', '020', 'IR', 'CB', '084', 'MIL', 'VM', '173', '010', '014', '070', 'LA', '130', 'KS', 'MX', 'ZA', 'SP', 'ZWE', '030', 'CHN', 'COP', 'PL', 'IRN', 'JA', 'KHM', 'EG', 'MED', 'PK', 'RUS', '080', 'FRA', '050', 'HUN', '193', 'CU', 'EGY', 'ISR', '012', 'PSE', 'TUR', 'NU', 'BUS', '090', 'GM', 'UK', 'EZ', 'LE', 'TH', 'RO', 'BU']\n",
      "\n",
      "Transactions with only L1 items : \n",
      " [['AFR', '040'], ['030'], ['100'], ['CHN', '043', 'CH'], ['COP', '190', 'US'], ['CVL', '046', 'IS'], ['040'], ['GOV', '020', 'TU'], ['GOV', '040', 'CH'], ['GOV', '040']]\n",
      "\n",
      "L2 Pairs with frequency information :  [(('USA', '042'), 2703), (('GOV', '043'), 5152), (('GOV', '046'), 2808), (('CHN', '042'), 2701), (('CHN', '043'), 2188), (('GOV', '040'), 3503), (('GOV', '042'), 2459)]\n",
      "\n",
      "L2 only items:  [('USA', '042'), ('GOV', '043'), ('GOV', '046'), ('CHN', '042'), ('CHN', '043'), ('GOV', '040'), ('GOV', '042')]\n"
     ]
    }
   ],
   "source": [
    "# Generate L1 and L2 with differents theta values\n",
    "\n",
    "thetaList = [0.0100, 0.0075, 0.0050]\n",
    "\n",
    "for theta in thetaList:\n",
    "    print (\"*******************************************************************************************************\")\n",
    "    print (\"                                THETA = \", theta)\n",
    "    print (\"*******************************************************************************************************\\n\")\n",
    "    # First, let's compute the frequent singleton sets\n",
    "    #       \n",
    "    rddL1 = computeL1( rddtrans, float(numtrans), theta  )\n",
    "    L1 = rddL1.collect()\n",
    "    print (\"L1 singleton with frequency information: \\n\", L1 )\n",
    "\n",
    "    # Compute a version without the frequency information:\n",
    "    #\n",
    "    L1onlyitems = rddL1.map( lambda it : it[0] ).collect()\n",
    "    print ( \"\\nL1 only items: \\n\", L1onlyitems )\n",
    "\n",
    "    if theta == 0.010:\n",
    "        # Show details of calculation on first loop\n",
    "        verbose = 1\n",
    "    else:\n",
    "        verbose = 0\n",
    "    \n",
    "    # Next, compute frequent pairs (L2) from frequent items (L1)\n",
    "    # We  need to work with the collected back version (to the driver) of the L1 set\n",
    "    # (This will be Ok as far as L1 is small enough to fit in the memory\n",
    "    # of every single machine ). We use mapPartitions to distribute only one function call per partition,\n",
    "    # avoiding the overhead of executing many functions with the parameter L1\n",
    "    #\n",
    "    L1filteredtransrdd = rddtrans.mapPartitions( lambda transseq : filterOutL1( transseq, L1onlyitems )  )\n",
    "\n",
    "    # Let's check if the filtered transactions are correct:\n",
    "    #\n",
    "    print (\"\\nTransactions with only L1 items : \\n\", L1filteredtransrdd.take(10) )\n",
    "\n",
    "\n",
    "    # Next, compute the frequent pairs (L_2)\n",
    "    #\n",
    "    rddL2 = computeL2( L1filteredtransrdd, float(numtrans), L1onlyitems, theta, verbose )\n",
    "    print ( \"\\nL2 Pairs with frequency information : \", rddL2.collect() )\n",
    "\n",
    "    L2onlyitems = rddL2.map( lambda it : it[0] ).collect()\n",
    "    print ( \"\\nL2 only items: \", L2onlyitems )\n",
    "    "
   ]
  },
  {
   "cell_type": "markdown",
   "metadata": {
    "collapsed": true
   },
   "source": [
    "## Finding Association Rules"
   ]
  },
  {
   "cell_type": "code",
   "execution_count": 9,
   "metadata": {
    "collapsed": true
   },
   "outputs": [],
   "source": [
    "#\n",
    "#  Given a:\n",
    "#    - a frequent pair with its support information  like (('t', 'x'), 3)\n",
    "#    - an item j from the pair like  't'\n",
    "#    - the number of transactions\n",
    "#    - a list with the L1 information computed with the function computeL1 and then collected back\n",
    "#    to the driver\n",
    "#\n",
    "#   Compute the confidence and interest of the rule  freqitemset-{j} ->  {j}\n",
    "#   Return it with the format:  ( 'freqitemset-{j} ->  j', confidence, interest )\n",
    "def compConfidenceAndInterestForRule( freqpairWithFreq, j, numtrans, L1withfreqinfo ):\n",
    "    #\n",
    "    # INSERT YOUR SOLUTION HERE\n",
    "    #\n",
    "    print (\"PARAMETERS:\")\n",
    "    print (\"freqpairWithFreq: \", freqpairWithFreq )\n",
    "    print (\"j: \", j)\n",
    "    print (\"numtrans: \", numtrans)\n",
    "    print (\"L1withfreqinfo: \", L1withfreqinfo[:10])\n",
    "\n",
    "    premise = freqpairWithFreq[0]\n",
    "    L1filtered = [item for item in L1withfreqinfo if item[0] == j]\n",
    "    \n",
    "    supportL1 = L1filtered[0][1]\n",
    "    supportL2 = freqpairWithFreq[1]\n",
    "\n",
    "    print (\"rddL1filtered: \", L1filtered)\n",
    "    print (\"supportL1: \", supportL1)\n",
    "    print (\"supportL2: \", supportL2)\n",
    "    \n",
    "    confidence = supportL2 / supportL1\n",
    "    freqj = supportL1 / numtrans\n",
    "    interest = confidence - freqj\n",
    "    return ( str(premise)+\" -> \"+str(j), confidence, interest  )"
   ]
  },
  {
   "cell_type": "code",
   "execution_count": 10,
   "metadata": {
    "collapsed": true
   },
   "outputs": [],
   "source": [
    "#\n",
    "#    Map each freqpair of a partition, to its SET of different association rules\n",
    "#    together with their confidence and interest\n",
    "#\n",
    "#    This function should use the previous compConfidenceAndInterestForRule for each\n",
    "#    association rule generated\n",
    "#\n",
    "def genAssocRulesForPartition( fpair, numtrans, L1withfreqinfo ):\n",
    "    \n",
    "        rulesforpair = []\n",
    "\n",
    "        confAndInt = compConfidenceAndInterestForRule(fpair, fpair[0][0], numtrans, L1withfreqinfo)\n",
    "        rulesforpair.append(confAndInt)\n",
    "\n",
    "        confAndInt = compConfidenceAndInterestForRule(fpair, fpair[0][1], numtrans, L1withfreqinfo)\n",
    "        rulesforpair.append(confAndInt)\n",
    "        \n",
    "        return  rulesforpair"
   ]
  },
  {
   "cell_type": "code",
   "execution_count": 17,
   "metadata": {
    "collapsed": true
   },
   "outputs": [],
   "source": [
    "#\n",
    "#   Finally, map all the frequenitemsets of all the partitions of the input\n",
    "#   rddfreqsets using the previous function, and finally collect back all\n",
    "#   the association rules obtained, but show them on the screen ordered by\n",
    "#   descending order, using their interest to orden them\n",
    "#\n",
    "def mapFreqItemSetsToAssocRules( rddfreqsets, numtrans, L1withfreqinfo ):\n",
    "    # Compute an rdd with the assotiation rules for the freqsets, calling the previous function\n",
    "    # for each partition of the rddfreqsets \n",
    "    \n",
    "    print (\"freqpairWithFreq: \", freqpairWithFreq)\n",
    "    print (\"numtrans: \", numtrans)\n",
    "    \n",
    "    print (\"\\nConfidence and Interest of association rules:\")\n",
    "    rddConfAndInt = rddfreqsets.map( lambda x: genAssocRulesForPartition(x, numtrans, L1withfreqinfo))\n",
    "    print (rddConfAndInt.take(10))\n",
    "    \n",
    "    # Next, get a \"flat\" version of the previous set of rules (one rule per element of the RDD)\n",
    "    #   INSERT CODE HERE\n",
    "    print (\"\\nFlat map of association rules:\")\n",
    "    rddConfAndIntFlat = rddConfAndInt.flatMap(lambda x: x)\n",
    "    print (rddConfAndIntFlat.take(10))    \n",
    "    \n",
    "    # Next, collect back the obtained association rules, but sort them in descending order by their interest\n",
    "    # You can either sort in a new rdd and then collect back the sorted rdd, or sort them in the driver after\n",
    "    # collecting back the set of association rules.\n",
    "    #\n",
    "    #   INSERT YOUR SOLUTION HERE\n",
    "    print (\"\\nTop association rules\")\n",
    "    topInterest = rddConfAndIntFlat.takeOrdered(10, key = lambda x: -x[2])\n",
    "    for it in topInterest:\n",
    "        print (it)\n",
    "\n",
    "    return topInterest\n",
    "    "
   ]
  },
  {
   "cell_type": "code",
   "execution_count": null,
   "metadata": {
    "collapsed": true
   },
   "outputs": [],
   "source": []
  },
  {
   "cell_type": "code",
   "execution_count": 18,
   "metadata": {},
   "outputs": [
    {
     "name": "stdout",
     "output_type": "stream",
     "text": [
      "PARAMETERS:\n",
      "freqpairWithFreq:  (('USA', '042'), 2703)\n",
      "j:  USA\n",
      "numtrans:  430941\n",
      "L1withfreqinfo:  [('AFR', 3828), ('CH', 25151), ('190', 17254), ('TU', 3825), ('051', 21278), ('LEG', 4850), ('112', 7218), ('TZ', 2210), ('USA', 19484), ('036', 17954)]\n",
      "rddL1filtered:  [('USA', 19484)]\n",
      "supportL1:  19484\n",
      "supportL2:  2703\n",
      "confAndInt:  (\"('USA', '042') -> USA\", 0.13872921371381647, 0.09351652798653594)\n"
     ]
    }
   ],
   "source": [
    "# Test of first pair\n",
    "\n",
    "freqpairWithFreq = rddL2.take(1)[0]\n",
    "j = freqpairWithFreq[0][0]\n",
    "\n",
    "confAndInt = compConfidenceAndInterestForRule(freqpairWithFreq, j, numtrans, L1)\n",
    "print (\"confAndInt: \", confAndInt)"
   ]
  },
  {
   "cell_type": "code",
   "execution_count": 19,
   "metadata": {},
   "outputs": [
    {
     "name": "stdout",
     "output_type": "stream",
     "text": [
      "freqpairWithFreq:  (('USA', '042'), 2703)\n",
      "numtrans:  430941\n",
      "\n",
      "Confidence and Interest of association rules:\n",
      "[[(\"('USA', '042') -> USA\", 0.13872921371381647, 0.09351652798653594), (\"('USA', '042') -> 042\", 0.053183535337635764, -0.06475372289492973)], [(\"('GOV', '043') -> GOV\", 0.17191097467382963, 0.10236781215274206), (\"('GOV', '043') -> 043\", 0.10547866677585784, -0.007863994980623915)], [(\"('GOV', '046') -> GOV\", 0.09369682004738229, 0.024153657526294725), (\"('GOV', '046') -> 046\", 0.10825815405968078, 0.04806894022298388)], [(\"('CHN', '042') -> CHN\", 0.17419063588288405, 0.1382089121666445), (\"('CHN', '042') -> 042\", 0.05314418385014954, -0.06479307438241594)], [(\"('CHN', '043') -> CHN\", 0.14110666838643107, 0.1051249446701915), (\"('CHN', '043') -> 043\", 0.04479567602980919, -0.06854698572667256)], [(\"('GOV', '040') -> GOV\", 0.11688745036537755, 0.047344287844289984), (\"('GOV', '040') -> 040\", 0.11378918304369011, 0.04235248985367106)], [(\"('GOV', '042') -> GOV\", 0.08205145316827388, 0.01250829064718631), (\"('GOV', '042') -> 042\", 0.04838265386431607, -0.06955460436824942)]]\n",
      "\n",
      "Flat map of association rules:\n",
      "[(\"('USA', '042') -> USA\", 0.13872921371381647, 0.09351652798653594), (\"('USA', '042') -> 042\", 0.053183535337635764, -0.06475372289492973), (\"('GOV', '043') -> GOV\", 0.17191097467382963, 0.10236781215274206), (\"('GOV', '043') -> 043\", 0.10547866677585784, -0.007863994980623915), (\"('GOV', '046') -> GOV\", 0.09369682004738229, 0.024153657526294725), (\"('GOV', '046') -> 046\", 0.10825815405968078, 0.04806894022298388), (\"('CHN', '042') -> CHN\", 0.17419063588288405, 0.1382089121666445), (\"('CHN', '042') -> 042\", 0.05314418385014954, -0.06479307438241594), (\"('CHN', '043') -> CHN\", 0.14110666838643107, 0.1051249446701915), (\"('CHN', '043') -> 043\", 0.04479567602980919, -0.06854698572667256)]\n",
      "\n",
      "Top association rules\n",
      "(\"('CHN', '042') -> CHN\", 0.17419063588288405, 0.1382089121666445)\n",
      "(\"('CHN', '043') -> CHN\", 0.14110666838643107, 0.1051249446701915)\n",
      "(\"('GOV', '043') -> GOV\", 0.17191097467382963, 0.10236781215274206)\n",
      "(\"('USA', '042') -> USA\", 0.13872921371381647, 0.09351652798653594)\n",
      "(\"('GOV', '046') -> 046\", 0.10825815405968078, 0.04806894022298388)\n",
      "(\"('GOV', '040') -> GOV\", 0.11688745036537755, 0.047344287844289984)\n",
      "(\"('GOV', '040') -> 040\", 0.11378918304369011, 0.04235248985367106)\n",
      "(\"('GOV', '046') -> GOV\", 0.09369682004738229, 0.024153657526294725)\n",
      "(\"('GOV', '042') -> GOV\", 0.08205145316827388, 0.01250829064718631)\n",
      "(\"('GOV', '043') -> 043\", 0.10547866677585784, -0.007863994980623915)\n"
     ]
    }
   ],
   "source": [
    "# Calculation of Top Association rules with confidences and interest\n",
    "\n",
    "rddTopInterest = mapFreqItemSetsToAssocRules( rddL2, numtrans, L1)\n"
   ]
  },
  {
   "cell_type": "code",
   "execution_count": null,
   "metadata": {
    "collapsed": true
   },
   "outputs": [],
   "source": []
  }
 ],
 "metadata": {
  "kernelspec": {
   "display_name": "Python 3",
   "language": "python",
   "name": "python3"
  },
  "language_info": {
   "codemirror_mode": {
    "name": "ipython",
    "version": 3
   },
   "file_extension": ".py",
   "mimetype": "text/x-python",
   "name": "python",
   "nbconvert_exporter": "python",
   "pygments_lexer": "ipython3",
   "version": "3.6.3"
  }
 },
 "nbformat": 4,
 "nbformat_minor": 2
}
