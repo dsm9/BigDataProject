{
 "cells": [
  {
   "cell_type": "markdown",
   "metadata": {},
   "source": [
    "# Second Continous Evaluation: Spark\n",
    "In this second set of exercices you will have to develop two Machine Learning procedures. In both cases is mandatory to use Apache Spark 2.x and if you need any necessary library to manage data or to generate features you must use Apache MLlib (DataFrame version). Check the following aspects:\n",
    "\n",
    "**Problem 1:**\n",
    "\n",
    "Using the dataset, build a Machine Learning procedure to predict the price of houses having neighbourhood variables. The Boston House Price Dataset involves the prediction of a house price in thousands of dollars given details of the house and its neighborhood. You can download the data from here: https://raw.githubusercontent.com/jbrownlee/Datasets/master/housing.data. More info here: https://www.cs.toronto.edu/~delve/data/boston/bostonDetail.html.\n",
    "\n",
    "* Make sure that your dataset is technically correct\n",
    "* Check the consistency of your dataset\n",
    "* In this exercise is not mandatory to use Pipelines\n",
    "* Split your data into two sets: 80% of the data for training and 20% of the data for testing\n",
    "* Provide convenient measures to check how the model is behaving\n"
   ]
  },
  {
   "cell_type": "code",
   "execution_count": 1,
   "metadata": {
    "collapsed": true
   },
   "outputs": [],
   "source": [
    "import matplotlib.pyplot as plt\n",
    "import pyspark\n",
    "from pyspark.sql.types import IntegerType\n",
    "from pyspark.sql import SparkSession\n",
    "\n",
    "spark = SparkSession \\\n",
    "    .builder \\\n",
    "    .appName(\"Python Spark SQL basic example\") \\\n",
    "    .config(\"spark.some.config.option\", \"some-value\") \\\n",
    "    .getOrCreate()"
   ]
  },
  {
   "cell_type": "code",
   "execution_count": 2,
   "metadata": {},
   "outputs": [
    {
     "data": {
      "text/html": [
       "\n",
       "            <div>\n",
       "                <p><b>SparkSession - in-memory</b></p>\n",
       "                \n",
       "        <div>\n",
       "            <p><b>SparkContext</b></p>\n",
       "\n",
       "            <p><a href=\"http://SERVERSERMENA.sermena.com:4040\">Spark UI</a></p>\n",
       "\n",
       "            <dl>\n",
       "              <dt>Version</dt>\n",
       "                <dd><code>v2.3.1</code></dd>\n",
       "              <dt>Master</dt>\n",
       "                <dd><code>local[*]</code></dd>\n",
       "              <dt>AppName</dt>\n",
       "                <dd><code>Python Spark SQL basic example</code></dd>\n",
       "            </dl>\n",
       "        </div>\n",
       "        \n",
       "            </div>\n",
       "        "
      ],
      "text/plain": [
       "<pyspark.sql.session.SparkSession at 0xa9308f4ba8>"
      ]
     },
     "execution_count": 2,
     "metadata": {},
     "output_type": "execute_result"
    }
   ],
   "source": [
    "spark"
   ]
  },
  {
   "cell_type": "code",
   "execution_count": 3,
   "metadata": {},
   "outputs": [
    {
     "data": {
      "text/plain": [
       "506"
      ]
     },
     "execution_count": 3,
     "metadata": {},
     "output_type": "execute_result"
    }
   ],
   "source": [
    "file = spark.read.text(\"../data/housing.data\")\n",
    "file.count()"
   ]
  },
  {
   "cell_type": "code",
   "execution_count": 4,
   "metadata": {},
   "outputs": [
    {
     "data": {
      "text/plain": [
       "[Row(value=' 0.00632  18.00   2.310  0  0.5380  6.5750  65.20  4.0900   1  296.0  15.30 396.90   4.98  24.00'),\n",
       " Row(value=' 0.02731   0.00   7.070  0  0.4690  6.4210  78.90  4.9671   2  242.0  17.80 396.90   9.14  21.60'),\n",
       " Row(value=' 0.02729   0.00   7.070  0  0.4690  7.1850  61.10  4.9671   2  242.0  17.80 392.83   4.03  34.70'),\n",
       " Row(value=' 0.03237   0.00   2.180  0  0.4580  6.9980  45.80  6.0622   3  222.0  18.70 394.63   2.94  33.40'),\n",
       " Row(value=' 0.06905   0.00   2.180  0  0.4580  7.1470  54.20  6.0622   3  222.0  18.70 396.90   5.33  36.20')]"
      ]
     },
     "execution_count": 4,
     "metadata": {},
     "output_type": "execute_result"
    }
   ],
   "source": [
    "# File is fixed with columns. We can load with csv\n",
    "file.take(5)"
   ]
  },
  {
   "cell_type": "code",
   "execution_count": 5,
   "metadata": {},
   "outputs": [
    {
     "name": "stdout",
     "output_type": "stream",
     "text": [
      "root\n",
      " |-- value: string (nullable = true)\n",
      "\n"
     ]
    }
   ],
   "source": [
    "# Only 1 columns with all the string line\n",
    "file.printSchema()"
   ]
  },
  {
   "cell_type": "code",
   "execution_count": 6,
   "metadata": {},
   "outputs": [
    {
     "name": "stdout",
     "output_type": "stream",
     "text": [
      "+-------+------+--------+----+--------+--------+-------+--------+----+-------+-------+-------+------+-------+\n",
      "|   crim|    zn|   indus|chas|     nox|      rm|    age|     dis| rad|    tax|ptratio|  b1000| lstat|   medv|\n",
      "+-------+------+--------+----+--------+--------+-------+--------+----+-------+-------+-------+------+-------+\n",
      "|0.00632|  18.0|   2.310|   0|  0.5380|  6.5750|  65.20|  4.0900|   1|  296.0|  15.30| 396.90|  4.98|  24.00|\n",
      "|0.02731|   0.0|   7.070|   0|  0.4690|  6.4210|  78.90|  4.9671|   2|  242.0|  17.80| 396.90|  9.14|  21.60|\n",
      "|0.02729|   0.0|   7.070|   0|  0.4690|  7.1850|  61.10|  4.9671|   2|  242.0|  17.80| 392.83|  4.03|  34.70|\n",
      "|0.03237|   0.0|   2.180|   0|  0.4580|  6.9980|  45.80|  6.0622|   3|  222.0|  18.70| 394.63|  2.94|  33.40|\n",
      "|0.06905|   0.0|   2.180|   0|  0.4580|  7.1470|  54.20|  6.0622|   3|  222.0|  18.70| 396.90|  5.33|  36.20|\n",
      "+-------+------+--------+----+--------+--------+-------+--------+----+-------+-------+-------+------+-------+\n",
      "only showing top 5 rows\n",
      "\n"
     ]
    }
   ],
   "source": [
    "# Creating columns\n",
    "dfcols = file.withColumn(\"crim\", file[\"value\"][2:7])\n",
    "dfcols = dfcols.withColumn(\"zn\", file[\"value\"][9:6])\n",
    "dfcols = dfcols.withColumn(\"indus\", file[\"value\"][16:8])\n",
    "dfcols = dfcols.withColumn(\"chas\", file[\"value\"][24:3])\n",
    "dfcols = dfcols.withColumn(\"nox\", file[\"value\"][27:8])\n",
    "dfcols = dfcols.withColumn(\"rm\", file[\"value\"][35:8])\n",
    "dfcols = dfcols.withColumn(\"age\", file[\"value\"][43:7])\n",
    "dfcols = dfcols.withColumn(\"dis\", file[\"value\"][50:8])\n",
    "dfcols = dfcols.withColumn(\"rad\", file[\"value\"][58:4])\n",
    "dfcols = dfcols.withColumn(\"tax\", file[\"value\"][62:7])\n",
    "dfcols = dfcols.withColumn(\"ptratio\", file[\"value\"][69:7])\n",
    "dfcols = dfcols.withColumn(\"b1000\", file[\"value\"][76:7])\n",
    "dfcols = dfcols.withColumn(\"lstat\", file[\"value\"][84:6])\n",
    "dfcols = dfcols.withColumn(\"medv\", file[\"value\"][90:7])\n",
    "\n",
    "dfcols = dfcols.drop(\"value\")\n",
    "dfcols.show(5)"
   ]
  },
  {
   "cell_type": "code",
   "execution_count": 7,
   "metadata": {},
   "outputs": [
    {
     "name": "stdout",
     "output_type": "stream",
     "text": [
      "root\n",
      " |-- crim: string (nullable = true)\n",
      " |-- zn: string (nullable = true)\n",
      " |-- indus: string (nullable = true)\n",
      " |-- chas: string (nullable = true)\n",
      " |-- nox: string (nullable = true)\n",
      " |-- rm: string (nullable = true)\n",
      " |-- age: string (nullable = true)\n",
      " |-- dis: string (nullable = true)\n",
      " |-- rad: string (nullable = true)\n",
      " |-- tax: string (nullable = true)\n",
      " |-- ptratio: string (nullable = true)\n",
      " |-- b1000: string (nullable = true)\n",
      " |-- lstat: string (nullable = true)\n",
      " |-- medv: string (nullable = true)\n",
      "\n"
     ]
    }
   ],
   "source": [
    "#  All columns are string type\n",
    "dfcols.printSchema()"
   ]
  },
  {
   "cell_type": "code",
   "execution_count": 8,
   "metadata": {
    "collapsed": true
   },
   "outputs": [],
   "source": [
    "# Convert to correct type\n",
    "dftypes = dfcols.withColumn(\"crim\", dfcols[\"crim\"].cast(\"double\"))\n",
    "dftypes = dftypes.withColumn(\"zn\", dftypes[\"zn\"].cast(\"double\"))\n",
    "dftypes = dftypes.withColumn(\"indus\", dftypes[\"indus\"].cast(\"double\"))\n",
    "dftypes = dftypes.withColumn(\"chas\", dftypes[\"chas\"].cast(\"double\"))\n",
    "dftypes = dftypes.withColumn(\"nox\", dftypes[\"nox\"].cast(\"double\"))\n",
    "dftypes = dftypes.withColumn(\"rm\", dftypes[\"rm\"].cast(\"double\"))\n",
    "dftypes = dftypes.withColumn(\"age\", dftypes[\"age\"].cast(\"double\"))\n",
    "dftypes = dftypes.withColumn(\"dis\", dftypes[\"dis\"].cast(\"double\"))\n",
    "dftypes = dftypes.withColumn(\"rad\", dftypes[\"rad\"].cast(\"double\"))\n",
    "dftypes = dftypes.withColumn(\"tax\", dftypes[\"tax\"].cast(\"double\"))\n",
    "dftypes = dftypes.withColumn(\"ptratio\", dftypes[\"ptratio\"].cast(\"double\"))\n",
    "dftypes = dftypes.withColumn(\"b1000\", dftypes[\"b1000\"].cast(\"double\"))\n",
    "dftypes = dftypes.withColumn(\"lstat\", dftypes[\"lstat\"].cast(\"double\"))\n",
    "dftypes = dftypes.withColumn(\"medv\", dftypes[\"medv\"].cast(\"double\"))\n"
   ]
  },
  {
   "cell_type": "code",
   "execution_count": 9,
   "metadata": {},
   "outputs": [
    {
     "name": "stdout",
     "output_type": "stream",
     "text": [
      "root\n",
      " |-- crim: double (nullable = true)\n",
      " |-- zn: double (nullable = true)\n",
      " |-- indus: double (nullable = true)\n",
      " |-- chas: double (nullable = true)\n",
      " |-- nox: double (nullable = true)\n",
      " |-- rm: double (nullable = true)\n",
      " |-- age: double (nullable = true)\n",
      " |-- dis: double (nullable = true)\n",
      " |-- rad: double (nullable = true)\n",
      " |-- tax: double (nullable = true)\n",
      " |-- ptratio: double (nullable = true)\n",
      " |-- b1000: double (nullable = true)\n",
      " |-- lstat: double (nullable = true)\n",
      " |-- medv: double (nullable = true)\n",
      "\n"
     ]
    }
   ],
   "source": [
    "dftypes.printSchema()"
   ]
  },
  {
   "cell_type": "code",
   "execution_count": 10,
   "metadata": {},
   "outputs": [
    {
     "name": "stdout",
     "output_type": "stream",
     "text": [
      "+-------+----+-----+----+-----+-----+----+------+---+-----+-------+------+-----+----+\n",
      "|   crim|  zn|indus|chas|  nox|   rm| age|   dis|rad|  tax|ptratio| b1000|lstat|medv|\n",
      "+-------+----+-----+----+-----+-----+----+------+---+-----+-------+------+-----+----+\n",
      "|0.00632|18.0| 2.31| 0.0|0.538|6.575|65.2|  4.09|1.0|296.0|   15.3| 396.9| 4.98|24.0|\n",
      "|0.02731| 0.0| 7.07| 0.0|0.469|6.421|78.9|4.9671|2.0|242.0|   17.8| 396.9| 9.14|21.6|\n",
      "|0.02729| 0.0| 7.07| 0.0|0.469|7.185|61.1|4.9671|2.0|242.0|   17.8|392.83| 4.03|34.7|\n",
      "|0.03237| 0.0| 2.18| 0.0|0.458|6.998|45.8|6.0622|3.0|222.0|   18.7|394.63| 2.94|33.4|\n",
      "|0.06905| 0.0| 2.18| 0.0|0.458|7.147|54.2|6.0622|3.0|222.0|   18.7| 396.9| 5.33|36.2|\n",
      "+-------+----+-----+----+-----+-----+----+------+---+-----+-------+------+-----+----+\n",
      "only showing top 5 rows\n",
      "\n"
     ]
    }
   ],
   "source": [
    "dftypes.show(5)"
   ]
  },
  {
   "cell_type": "code",
   "execution_count": 11,
   "metadata": {},
   "outputs": [
    {
     "name": "stdout",
     "output_type": "stream",
     "text": [
      "+-------+------------------+------------------+------------------+------------------+-------------------+\n",
      "|summary|              crim|                zn|             indus|              chas|                nox|\n",
      "+-------+------------------+------------------+------------------+------------------+-------------------+\n",
      "|  count|               506|               506|               506|               506|                506|\n",
      "|   mean|1.7162903557312246|11.363636363636363|11.136778656126504|0.0691699604743083| 0.5546950592885372|\n",
      "| stddev|2.6535100411937975| 23.32245299451514| 6.860352940897589|0.2539940413404101|0.11587767566755584|\n",
      "|    min|           0.00632|               0.0|              0.46|               0.0|              0.385|\n",
      "|    max|           9.96654|             100.0|             27.74|               1.0|              0.871|\n",
      "+-------+------------------+------------------+------------------+------------------+-------------------+\n",
      "\n"
     ]
    }
   ],
   "source": [
    "# Range of values in every column\n",
    "dftypes.select(\"crim\",\"zn\",\"indus\",\"chas\",\"nox\").describe().show()"
   ]
  },
  {
   "cell_type": "code",
   "execution_count": 12,
   "metadata": {},
   "outputs": [
    {
     "name": "stdout",
     "output_type": "stream",
     "text": [
      "+-------+------------------+------------------+-----------------+-----------------+------------------+\n",
      "|summary|                rm|               age|              dis|              rad|               tax|\n",
      "+-------+------------------+------------------+-----------------+-----------------+------------------+\n",
      "|  count|               506|               506|              506|              506|               506|\n",
      "|   mean| 6.284634387351787| 68.57490118577078|3.795042687747034|9.549407114624506| 408.2371541501976|\n",
      "| stddev|0.7026171434153232|28.148861406903595| 2.10571012662761|8.707259384239366|168.53711605495903|\n",
      "|    min|             3.561|               2.9|           1.1296|              1.0|             187.0|\n",
      "|    max|              8.78|             100.0|          12.1265|             24.0|             711.0|\n",
      "+-------+------------------+------------------+-----------------+-----------------+------------------+\n",
      "\n"
     ]
    }
   ],
   "source": [
    "dftypes.select(\"rm\",\"age\",\"dis\",\"rad\",\"tax\").describe().show()"
   ]
  },
  {
   "cell_type": "code",
   "execution_count": 13,
   "metadata": {},
   "outputs": [
    {
     "name": "stdout",
     "output_type": "stream",
     "text": [
      "+-------+------------------+------------------+------------------+------------------+\n",
      "|summary|           ptratio|             b1000|             lstat|              medv|\n",
      "+-------+------------------+------------------+------------------+------------------+\n",
      "|  count|               506|               506|               506|               506|\n",
      "|   mean|18.455533596837967|356.67403162055257|12.653063241106723|22.532806324110698|\n",
      "| stddev|2.1649455237144455| 91.29486438415782| 7.141061511348571| 9.197104087379815|\n",
      "|    min|              12.6|              0.32|              1.73|               5.0|\n",
      "|    max|              22.0|             396.9|             37.97|              50.0|\n",
      "+-------+------------------+------------------+------------------+------------------+\n",
      "\n"
     ]
    }
   ],
   "source": [
    "dftypes.select(\"ptratio\",\"b1000\",\"lstat\",\"medv\").describe().show()"
   ]
  },
  {
   "cell_type": "code",
   "execution_count": 14,
   "metadata": {},
   "outputs": [
    {
     "name": "stdout",
     "output_type": "stream",
     "text": [
      "crim is null: 0\n",
      "zn is null: 0\n",
      "indus is null: 0\n",
      "chas is null: 0\n",
      "nox is null: 0\n",
      "rm is null: 0\n",
      "age is null: 0\n",
      "dis is null: 0\n",
      "rad is null: 0\n",
      "tax is null: 0\n",
      "ptratio is null: 0\n",
      "b1000 is null: 0\n",
      "lstat is null: 0\n",
      "medv is null: 0\n"
     ]
    }
   ],
   "source": [
    "# DataFrame don't have nulls\n",
    "for col in dftypes.columns:\n",
    "    print(col + \" is null:\", dftypes.filter(dftypes[col].isNull()).count())"
   ]
  },
  {
   "cell_type": "code",
   "execution_count": 15,
   "metadata": {
    "collapsed": true
   },
   "outputs": [],
   "source": [
    "dfok = dftypes"
   ]
  },
  {
   "cell_type": "code",
   "execution_count": 26,
   "metadata": {},
   "outputs": [
    {
     "name": "stdout",
     "output_type": "stream",
     "text": [
      "crim\n",
      "zn\n",
      "indus\n",
      "chas\n",
      "nox\n",
      "rm\n",
      "age\n",
      "dis\n",
      "rad\n",
      "tax\n",
      "ptratio\n",
      "b1000\n",
      "lstat\n",
      "medv\n"
     ]
    }
   ],
   "source": [
    "i=1\n",
    "df_plt = []\n",
    "for col in dfok.columns:\n",
    "    print (col)\n",
    "    df_plt.append(dfok.select(col).rdd.flatMap(lambda x: x).collect())\n",
    "    i+=1"
   ]
  },
  {
   "cell_type": "code",
   "execution_count": 30,
   "metadata": {},
   "outputs": [
    {
     "data": {
      "image/png": "[encoded data removed]",
      "text/plain": [
       "<matplotlib.figure.Figure at 0xa934510a58>"
      ]
     },
     "metadata": {},
     "output_type": "display_data"
    }
   ],
   "source": [
    "fig, axs = plt.subplots(4, 4, figsize=(18,12), sharey=True)\n",
    "i = 0\n",
    "for col in dfok.columns:\n",
    "#    df_plt = dfok.select(col).rdd.flatMap(lambda x: x).collect()   \n",
    "    plt.subplot(4,4, i+1)\n",
    "    plt.hist(df_plt[i], bins=20)\n",
    "    plt.title(col)\n",
    "\n",
    "    i = i +1\n",
    "plt.show()"
   ]
  },
  {
   "cell_type": "code",
   "execution_count": 31,
   "metadata": {
    "collapsed": true
   },
   "outputs": [],
   "source": [
    "# Spliting training and testing datasets\n",
    "dftrain, dftest = dfok.randomSplit([0.8, 0.2], seed=1)"
   ]
  },
  {
   "cell_type": "code",
   "execution_count": 32,
   "metadata": {},
   "outputs": [
    {
     "name": "stdout",
     "output_type": "stream",
     "text": [
      "Train:  411\n",
      "Test :  95\n"
     ]
    }
   ],
   "source": [
    "print (\"Train: \", dftrain.count())\n",
    "print (\"Test : \", dftest.count())"
   ]
  },
  {
   "cell_type": "code",
   "execution_count": 33,
   "metadata": {
    "collapsed": true
   },
   "outputs": [],
   "source": [
    "# Regression: Predicting a Continuous Variable\n",
    "pred_vars = ['crim','zn','indus','chas','nox','rm','age','dis','rad','tax','ptratio','b1000','lstat']"
   ]
  },
  {
   "cell_type": "code",
   "execution_count": 34,
   "metadata": {
    "collapsed": true
   },
   "outputs": [],
   "source": [
    "# Generating training dataset\n",
    "from pyspark.ml.feature import VectorAssembler\n",
    "from pyspark.ml.regression import LinearRegression"
   ]
  },
  {
   "cell_type": "code",
   "execution_count": 35,
   "metadata": {},
   "outputs": [
    {
     "name": "stdout",
     "output_type": "stream",
     "text": [
      "+--------------------------------------------------------------------------+-----+\n",
      "|features                                                                  |label|\n",
      "+--------------------------------------------------------------------------+-----+\n",
      "|[0.00632,18.0,2.31,0.0,0.538,6.575,65.2,4.09,1.0,296.0,15.3,396.9,4.98]   |24.0 |\n",
      "|[0.00906,90.0,2.97,0.0,0.4,7.088,20.8,7.3073,1.0,285.0,15.3,394.72,7.85]  |32.2 |\n",
      "|[0.01096,55.0,2.25,0.0,0.389,6.453,31.9,7.3073,1.0,300.0,15.3,394.72,8.23]|22.0 |\n",
      "|[0.01301,35.0,1.52,0.0,0.442,7.241,49.3,7.0379,1.0,284.0,15.5,394.74,5.49]|32.7 |\n",
      "|[0.0136,75.0,4.0,0.0,0.41,5.888,47.6,7.3197,3.0,469.0,21.1,396.9,14.8]    |18.9 |\n",
      "+--------------------------------------------------------------------------+-----+\n",
      "only showing top 5 rows\n",
      "\n"
     ]
    }
   ],
   "source": [
    "vectorAssembler = VectorAssembler(\n",
    "    inputCols = pred_vars, \n",
    "    outputCol = 'features')\n",
    "train_df = vectorAssembler.transform(dftrain)\n",
    "\n",
    "train_df = train_df.withColumn(\"label\", dftrain[\"medv\"])\n",
    "\n",
    "train_df = train_df.select(['features', 'label'])\n",
    "train_df.show(5, False)"
   ]
  },
  {
   "cell_type": "code",
   "execution_count": 36,
   "metadata": {},
   "outputs": [
    {
     "data": {
      "text/plain": [
       "pyspark.ml.regression.LinearRegressionModel"
      ]
     },
     "execution_count": 36,
     "metadata": {},
     "output_type": "execute_result"
    }
   ],
   "source": [
    "# LinearRegression is an Estimator\n",
    "lr = LinearRegression(maxIter=10, \n",
    "                      regParam=0.3, \n",
    "                      elasticNetParam=0.8)\n",
    "\n",
    "# Fit the model\n",
    "lrModel = lr.fit(train_df)\n",
    "# lrModel will contain a Transformer\n",
    "type(lrModel)"
   ]
  },
  {
   "cell_type": "code",
   "execution_count": 37,
   "metadata": {},
   "outputs": [
    {
     "name": "stdout",
     "output_type": "stream",
     "text": [
      "+--------------------------------------------------------------------------+------------------+\n",
      "|features                                                                  |prediction        |\n",
      "+--------------------------------------------------------------------------+------------------+\n",
      "|[0.00632,18.0,2.31,0.0,0.538,6.575,65.2,4.09,1.0,296.0,15.3,396.9,4.98]   |30.508663584106266|\n",
      "|[0.00906,90.0,2.97,0.0,0.4,7.088,20.8,7.3073,1.0,285.0,15.3,394.72,7.85]  |30.515519471109343|\n",
      "|[0.01096,55.0,2.25,0.0,0.389,6.453,31.9,7.3073,1.0,300.0,15.3,394.72,8.23]|27.226672242168195|\n",
      "|[0.01301,35.0,1.52,0.0,0.442,7.241,49.3,7.0379,1.0,284.0,15.5,394.74,5.49]|32.21324511425827 |\n",
      "|[0.0136,75.0,4.0,0.0,0.41,5.888,47.6,7.3197,3.0,469.0,21.1,396.9,14.8]    |16.27881150610996 |\n",
      "+--------------------------------------------------------------------------+------------------+\n",
      "only showing top 5 rows\n",
      "\n"
     ]
    }
   ],
   "source": [
    "# Test predictions\n",
    "predictions = lrModel.transform(train_df.select(['features']))\n",
    "\n",
    "predictions.show(5, False)"
   ]
  },
  {
   "cell_type": "code",
   "execution_count": 38,
   "metadata": {},
   "outputs": [
    {
     "name": "stdout",
     "output_type": "stream",
     "text": [
      "+--------------------------------------------------------------------------+\n",
      "|features                                                                  |\n",
      "+--------------------------------------------------------------------------+\n",
      "|[0.01311,90.0,1.22,0.0,0.403,7.249,21.9,8.6966,5.0,226.0,17.9,395.93,4.81]|\n",
      "|[0.01501,90.0,1.21,1.0,0.401,7.923,24.8,5.885,1.0,198.0,13.6,395.52,3.16] |\n",
      "|[0.02055,85.0,0.74,0.0,0.41,6.383,35.7,9.1876,2.0,313.0,17.3,396.9,5.77]  |\n",
      "|[0.02187,60.0,2.93,0.0,0.401,6.8,9.9,6.2196,1.0,265.0,15.6,393.37,5.03]   |\n",
      "|[0.02731,0.0,7.07,0.0,0.469,6.421,78.9,4.9671,2.0,242.0,17.8,396.9,9.14]  |\n",
      "+--------------------------------------------------------------------------+\n",
      "only showing top 5 rows\n",
      "\n"
     ]
    }
   ],
   "source": [
    "# Make new predictions\n",
    "vectorAssembler = VectorAssembler(\n",
    "    inputCols = pred_vars, \n",
    "    outputCol = 'features')\n",
    "test_df = vectorAssembler.transform(dftest)\n",
    "test_df.select([\"features\"]).show(5, False)"
   ]
  },
  {
   "cell_type": "code",
   "execution_count": 39,
   "metadata": {},
   "outputs": [
    {
     "name": "stdout",
     "output_type": "stream",
     "text": [
      "+--------------------------------------------------------------------------+------------------+\n",
      "|features                                                                  |prediction        |\n",
      "+--------------------------------------------------------------------------+------------------+\n",
      "|[0.01311,90.0,1.22,0.0,0.403,7.249,21.9,8.6966,5.0,226.0,17.9,395.93,4.81]|30.17805119391589 |\n",
      "|[0.01501,90.0,1.21,1.0,0.401,7.923,24.8,5.885,1.0,198.0,13.6,395.52,3.16] |41.72224828403033 |\n",
      "|[0.02055,85.0,0.74,0.0,0.41,6.383,35.7,9.1876,2.0,313.0,17.3,396.9,5.77]  |25.38596068437163 |\n",
      "|[0.02187,60.0,2.93,0.0,0.401,6.8,9.9,6.2196,1.0,265.0,15.6,393.37,5.03]   |30.878172837967547|\n",
      "|[0.02731,0.0,7.07,0.0,0.469,6.421,78.9,4.9671,2.0,242.0,17.8,396.9,9.14]  |25.761034017624066|\n",
      "+--------------------------------------------------------------------------+------------------+\n",
      "only showing top 5 rows\n",
      "\n"
     ]
    }
   ],
   "source": [
    "predictions_test = lrModel.transform(test_df.select(['features']))\n",
    "\n",
    "predictions_test.show(5, False)"
   ]
  },
  {
   "cell_type": "markdown",
   "metadata": {},
   "source": [
    "**Problem 2:**\n",
    "\n",
    "Using the dataset, build a Machine Learning procedure to classify if the return of a SONAR signal is a Rock or a Mine. You have all the data available at: https://archive.ics.uci.edu/ml/datasets/Connectionist+Bench+%28Sonar%2C+Mines+vs.+Rocks%29. \n",
    "Make sure that you use `sonar.all-data` dataset. Check the following aspects:\n",
    "\n",
    "* Make sure that your dataset is technically correct\n",
    "* Check the consistency of your dataset\n",
    "* In this exercise is mandatory to use Pipelines\n",
    "* Split your data into two sets: 80% of the data for training and 20% of the data for testing\n",
    "* Check that the labels in both sets are equaly distributed (hint: this is called stratified sampling)\n",
    "* Provide convenient measures to check how the model is behaving"
   ]
  },
  {
   "cell_type": "code",
   "execution_count": null,
   "metadata": {},
   "outputs": [],
   "source": [
    "file = spark.read.csv(\"../data/sonar.all-data\")\n",
    "file.count()"
   ]
  },
  {
   "cell_type": "code",
   "execution_count": null,
   "metadata": {},
   "outputs": [],
   "source": [
    "file.take(2)"
   ]
  },
  {
   "cell_type": "code",
   "execution_count": null,
   "metadata": {},
   "outputs": [],
   "source": [
    "file.printSchema()"
   ]
  },
  {
   "cell_type": "code",
   "execution_count": null,
   "metadata": {},
   "outputs": [],
   "source": [
    "\n",
    "for col in file.columns:\n",
    "    print (col)"
   ]
  },
  {
   "cell_type": "code",
   "execution_count": null,
   "metadata": {
    "collapsed": true
   },
   "outputs": [],
   "source": []
  }
 ],
 "metadata": {
  "kernelspec": {
   "display_name": "Python 3",
   "language": "python",
   "name": "python3"
  },
  "language_info": {
   "codemirror_mode": {
    "name": "ipython",
    "version": 3
   },
   "file_extension": ".py",
   "mimetype": "text/x-python",
   "name": "python",
   "nbconvert_exporter": "python",
   "pygments_lexer": "ipython3",
   "version": "3.6.3"
  }
 },
 "nbformat": 4,
 "nbformat_minor": 2
}
