{
 "cells": [
  {
   "cell_type": "markdown",
   "metadata": {},
   "source": [
    "# What is Apache Spark?\n",
    "* distributed framework\n",
    "* in-memory data structures \n",
    "* data processing\n",
    "* it improves (most of the times) Hadoop workloads\n",
    "\n",
    "Spark enables data scientists to tackle problems with larger data sizes than they could before with tools like R or Pandas\n",
    "\n",
    "## First Steps with Apache Spark Interactive Programming\n",
    "\n",
    "First of all check that PySpark is running properly. You can check if PySpark is correctly loaded:\n",
    "In case it is not, you can follow these posts:\n",
    "\n",
    "  * Windows (IPython): http://jmdvinodjmd.blogspot.com.es/2015/08/installing-ipython-notebook-with-apache.html \n",
    "  * Windows (Jupyter): http://www.ithinkcloud.com/tutorials/tutorial-on-how-to-install-apache-spark-on-windows/\n"
   ]
  },
  {
   "cell_type": "code",
   "execution_count": 1,
   "metadata": {
    "collapsed": true
   },
   "outputs": [],
   "source": [
    "import pyspark\n",
    "sc = pyspark.SparkContext(appName=\"my_spark_app\")"
   ]
  },
  {
   "cell_type": "markdown",
   "metadata": {},
   "source": [
    "The first thing to note is that with Spark all computation is parallelized by means of distributed data structures that are spread through the cluster. These collections are called Resilient Distributed Datasets (RDD). We will talk more about RDD, as they are the main piece in Spark.\n",
    "\n",
    "As we have successfully loaded the Spark Context, we are ready to do some interactive analysis. We can read a simple file:"
   ]
  },
  {
   "cell_type": "code",
   "execution_count": 2,
   "metadata": {},
   "outputs": [
    {
     "data": {
      "text/plain": [
       "11"
      ]
     },
     "execution_count": 2,
     "metadata": {},
     "output_type": "execute_result"
    }
   ],
   "source": [
    "lines = sc.textFile(\"../data/people.csv\")\n",
    "lines.count()"
   ]
  },
  {
   "cell_type": "code",
   "execution_count": 3,
   "metadata": {},
   "outputs": [
    {
     "data": {
      "text/plain": [
       "',Age[years],Sex,Weight[kg],Eye Color,Body Temperature[C]'"
      ]
     },
     "execution_count": 3,
     "metadata": {},
     "output_type": "execute_result"
    }
   ],
   "source": [
    "lines.first()"
   ]
  },
  {
   "cell_type": "markdown",
   "metadata": {},
   "source": [
    "This is a very simple first example, where we create an RDD (variable lines) and then we apply some operations (count and first) in a parallel manner. It has to be noted, that as we are running all our examples in a single computer the parallelization is not applied. \n",
    "\n",
    "In the next section we will cover the core Spark concepts that allow Spark users to do parallel computation.\n",
    "\n",
    "## Core Spark Concepts\n",
    "\n",
    "We will talk about **Spark applications** that are in charge of loading data and applying some distributed computation over it. Every application has a **driver program** that launches parallel operations to the cluster. In the case of interactive programming, the driver program is the shell (or Notebook) itself.\n",
    "\n",
    "The \"access point\" to Spark from the driver program is the Spark Context object. \n",
    "\n",
    "Once we have an Spark Context we can use it to build RDDs. In the previous examples we used sc.textFile() to represent the lines of the textFile. Then we run different operations over the RDD lines. \n",
    "\n",
    "To run these operations over RDDs, driver programs manage different nodes called executors. For example, for the count operation, it is possible to run count in different ranges of the file. \n",
    "\n",
    "Spark's API allows passing functions to its operators to run them on the cluster. For example, we could extend our example by filtering the lines in the file that contain a word, such as individuum.\n"
   ]
  },
  {
   "cell_type": "code",
   "execution_count": 4,
   "metadata": {},
   "outputs": [
    {
     "data": {
      "text/plain": [
       "'individuum 1, 42, female, 52.9, brown, 36.9'"
      ]
     },
     "execution_count": 4,
     "metadata": {},
     "output_type": "execute_result"
    }
   ],
   "source": [
    "lines = sc.textFile(\"../data/people.csv\")\n",
    "filtered_lines = lines.filter(lambda line: \"individuum\" in line)\n",
    "filtered_lines.first()"
   ]
  },
  {
   "cell_type": "markdown",
   "metadata": {},
   "source": [
    "## RDD Basics\n",
    "\n",
    "An RDD can be defined as a distributed collection of elements. \n",
    "\n",
    "All work done with Spark can be summarized as **creating**, **transforming** and **applying** operations over RDDs to compute a result. \n",
    "\n",
    "Under the hood, Spark automatically **distributes the data contained in RDDs** across your cluster and **parallelizes the operations** you perform on them.\n",
    "\n",
    "RDD properties:\n",
    "* it is an **immutable distributed** collection of objects\n",
    "* it is split into multiple **partitions**\n",
    "* it is computed on different nodes of the cluster\n",
    "* it can contain any type of Python object (user defined ones included)\n",
    "\n",
    "An RDD can be created in **two ways**:\n",
    "1. loading an external dataset\n",
    "2. distributing a collection of objects in the driver program\n",
    "\n",
    "We have already seen the two ways of creating an RDD. "
   ]
  },
  {
   "cell_type": "code",
   "execution_count": 5,
   "metadata": {},
   "outputs": [
    {
     "name": "stdout",
     "output_type": "stream",
     "text": [
      "<class 'pyspark.rdd.RDD'>\n"
     ]
    }
   ],
   "source": [
    "# loading an external dataset\n",
    "lines = sc.textFile(\"../data/people.csv\")\n",
    "print(type(lines))"
   ]
  },
  {
   "cell_type": "code",
   "execution_count": 6,
   "metadata": {},
   "outputs": [
    {
     "name": "stdout",
     "output_type": "stream",
     "text": [
      "<class 'pyspark.rdd.PipelinedRDD'>\n"
     ]
    }
   ],
   "source": [
    "# applying a transformation to an existing RDD\n",
    "filtered_lines = lines.filter(lambda line: \"individuum\" in line)\n",
    "print(type(filtered_lines))"
   ]
  },
  {
   "cell_type": "code",
   "execution_count": 10,
   "metadata": {},
   "outputs": [
    {
     "name": "stdout",
     "output_type": "stream",
     "text": [
      "PythonRDD[9] at RDD at PythonRDD.scala:49\n"
     ]
    }
   ],
   "source": [
    "print(filtered_lines)"
   ]
  },
  {
   "cell_type": "markdown",
   "metadata": {},
   "source": [
    "It is important to note that once we have an RDD, we can run **two kind of operations**:\n",
    "* **transformations**: construct a new RDD from a previous one. For example, by filtering lines RDD we create a new RDD that holds the lines that contain \"individuum\" string. Note that the returning result is an RDD.\n",
    "* **actions**: *compute* a result based on an RDD, and returns the result to the driver program or stores it to an external storage system (e.g. HDFS). Note that the returning result is not an RDD but another variable type.\n",
    "\n",
    "Notice how when we go to print it, it prints out that it is an RDD and that the type is a PipelinedRDD not a list of values as we might expect. That's because we haven't performed an action yet, we've only performed a transformation."
   ]
  },
  {
   "cell_type": "code",
   "execution_count": 12,
   "metadata": {},
   "outputs": [
    {
     "name": "stdout",
     "output_type": "stream",
     "text": [
      "../data/people.csv MapPartitionsRDD[8] at textFile at NativeMethodAccessorImpl.java:0\n"
     ]
    }
   ],
   "source": [
    "# if we print lines we get only this\n",
    "print(lines)"
   ]
  },
  {
   "cell_type": "code",
   "execution_count": 13,
   "metadata": {},
   "outputs": [
    {
     "name": "stdout",
     "output_type": "stream",
     "text": [
      "<class 'str'>\n"
     ]
    },
    {
     "data": {
      "text/plain": [
       "',Age[years],Sex,Weight[kg],Eye Color,Body Temperature[C]'"
      ]
     },
     "execution_count": 13,
     "metadata": {},
     "output_type": "execute_result"
    }
   ],
   "source": [
    "# when we perform an action, then we get the result\n",
    "action_result = lines.first()\n",
    "print(type(action_result))\n",
    "action_result"
   ]
  },
  {
   "cell_type": "markdown",
   "metadata": {},
   "source": [
    "Transformations and actions are very different because of the way Spark computes RDDs. \n",
    "\n",
    "Transformations are defined in a **lazy** manner this is they are **only computed once they are used in an action**."
   ]
  },
  {
   "cell_type": "code",
   "execution_count": 14,
   "metadata": {},
   "outputs": [
    {
     "data": {
      "text/plain": [
       "'individuum 1, 42, female, 52.9, brown, 36.9'"
      ]
     },
     "execution_count": 14,
     "metadata": {},
     "output_type": "execute_result"
    }
   ],
   "source": [
    "# filtered_lines is not computed until the next action is applied over it\n",
    "# it make sense when working with big data sets, as it is not necessary to \n",
    "# transform the whole RDD to get an action over a subset\n",
    "# Spark doesn't even reads the complete file!\n",
    "filtered_lines.first()"
   ]
  },
  {
   "cell_type": "markdown",
   "metadata": {},
   "source": [
    "The drawback is that Spark  **recomputes** again the RDD at **each action application**. \n",
    "\n",
    "This means that the computing effort over an already computed RDD may be lost. \n",
    "\n",
    "To mitigate this drawback, the user can take the decision of **persisting** the RDD after computing it the first time, **Spark will store the RDD contents in memory**  (partitioned across the machines in your cluster), and reuse them in future actions. \n",
    "\n",
    "**Persisting RDDs on disk** instead of memory is also possible.\n",
    "\n",
    "Let's see an example on the impact of persisting:"
   ]
  },
  {
   "cell_type": "code",
   "execution_count": 15,
   "metadata": {},
   "outputs": [
    {
     "name": "stdout",
     "output_type": "stream",
     "text": [
      "Word count 1: 63.91743326187134\n",
      "Word count 2: 69.20805025100708\n",
      "Word count persisted 1: 130.77776765823364\n",
      "Word count persisted 2: 71.35891151428223\n"
     ]
    }
   ],
   "source": [
    "import time\n",
    "\n",
    "lines = sc.textFile(\"../data/REFERENCE/*\")\n",
    "lines_nonempty = lines.filter( lambda x: len(x) > 0 )\n",
    "words = lines_nonempty.flatMap(lambda x: x.split())\n",
    "words_persisted = lines_nonempty.flatMap(lambda x: x.split())\n",
    "\n",
    "t1 = time.time()\n",
    "words.count()\n",
    "print(\"Word count 1:\",time.time() - t1)\n",
    "\n",
    "t1 = time.time()\n",
    "words.count()\n",
    "print(\"Word count 2:\",time.time() - t1)\n",
    "\n",
    "t1 = time.time()\n",
    "words_persisted.persist()\n",
    "words_persisted.count()\n",
    "print(\"Word count persisted 1:\",time.time() - t1)\n",
    "\n",
    "t1 = time.time()\n",
    "words_persisted.count()\n",
    "print(\"Word count persisted 2:\", time.time() - t1)\n"
   ]
  },
  {
   "cell_type": "code",
   "execution_count": 16,
   "metadata": {},
   "outputs": [
    {
     "name": "stdout",
     "output_type": "stream",
     "text": [
      "Word count persisted 3: 67.91311740875244\n"
     ]
    }
   ],
   "source": [
    "t1 = time.time()\n",
    "words_persisted.count()\n",
    "print(\"Word count persisted 3:\", time.time() - t1)"
   ]
  },
  {
   "cell_type": "markdown",
   "metadata": {},
   "source": [
    "## RDD Operations\n",
    "\n",
    "We have already seen that RDDs have two basic operations: **transformations** and **actions**.\n",
    "\n",
    "* **Transformations** are operations that return a new RDD. *Examples:* filter, map.\n",
    "\n",
    "    Remember that , transformed RDDs are **computed lazily**, only when you use them in an action.\n",
    "\n",
    "    Lazy evaluation means that when we call a transformation on an RDD (for instance, calling map()), the operation is **not immediately performed**. \n",
    "\n",
    "    Instead, Spark internally records **metadata** to indicate that this operation has been requested. \n",
    "\n",
    "    **Loading data** into an RDD is lazily evaluated in the same way trans formations are. So, when we call sc.textFile(), the data is **not loaded** until it is necessary. \n",
    "\n",
    "    As with transformations, the operation (in this case, reading the data) can occur multiple times. Take in mind that transformations **DO HAVE** impact over computation time.\n",
    "\n",
    "    Many transformations are **element-wise**; that is, they work on one element at a time; but this is not true for all transformations.\n"
   ]
  },
  {
   "cell_type": "code",
   "execution_count": 17,
   "metadata": {},
   "outputs": [
    {
     "name": "stdout",
     "output_type": "stream",
     "text": [
      "-> lines_nonepmty is: <class 'pyspark.rdd.PipelinedRDD'> and if we print it we get\n",
      "     PythonRDD[24] at RDD at PythonRDD.scala:49\n",
      "-> words is: <class 'pyspark.rdd.PipelinedRDD'> and if we print it we get\n",
      "     PythonRDD[25] at RDD at PythonRDD.scala:49\n",
      "-> words_persisted is: <class 'pyspark.rdd.PipelinedRDD'> and if we print it we get\n",
      "     PythonRDD[26] at RDD at PythonRDD.scala:49\n",
      "-> final_result is: <class 'list'> and if we print it we get\n",
      "     ['Newsgroups:', 'freenet.shrine.songs', 'From:', 'aa300', '(Jerry', 'Murphy)', 'Subject:', 'Songs', 'from', 'the']\n"
     ]
    }
   ],
   "source": [
    "# load a file\n",
    "lines = sc.textFile(\"../data/REFERENCE/*\")\n",
    "# make a transformation filtering positive length lines\n",
    "lines_nonempty = lines.filter( lambda x: len(x) > 0 )\n",
    "print(\"-> lines_nonepmty is: {} and if we print it we get\\n     {}\".format(type(lines_nonempty), lines_nonempty))\n",
    "\n",
    "# we transform again\n",
    "words = lines_nonempty.flatMap(lambda x: x.split())\n",
    "print(\"-> words is: {} and if we print it we get\\n     {}\".format(type(words), words))\n",
    "\n",
    "words_persisted = lines_nonempty.flatMap(lambda x: x.split())\n",
    "print(\"-> words_persisted is: {} and if we print it we get\\n     {}\".format(type(words_persisted), words_persisted))\n",
    "\n",
    "final_result = words.take(10)\n",
    "print(\"-> final_result is: {} and if we print it we get\\n     {}\".format(type(final_result), final_result))"
   ]
  },
  {
   "cell_type": "markdown",
   "metadata": {},
   "source": [
    "* **filter** applies the lambda function to each line in lines RDD, only lines that accomplish the condition that the length is greater than zero are in lines_nonempty variable (**this RDD is not computed yet!**)\n",
    "* **flatMap** applies the lambda function to each element of the RDD and then the result is flattened (i.e. a list of lists would be converted to a simple list)"
   ]
  },
  {
   "cell_type": "markdown",
   "metadata": {},
   "source": [
    "* **Actions** are operations that return an object to the driver program or write to external storage, they kick a computation. *Examples:* first, count."
   ]
  },
  {
   "cell_type": "code",
   "execution_count": null,
   "metadata": {
    "collapsed": true
   },
   "outputs": [],
   "source": [
    "import time\n",
    "\n",
    "# we checkpint the initial time\n",
    "t1 = time.time()\n",
    "words.count()\n",
    "# and count the time expmended on the computation\n",
    "print(\"Word count 1:\",time.time() - t1)\n",
    "\n",
    "t1 = time.time()\n",
    "words.count()\n",
    "print(\"Word count 2:\",time.time() - t1)\n",
    "\n",
    "t1 = time.time()\n",
    "words_persisted.persist()\n",
    "words_persisted.count()\n",
    "print(\"Word count persisted 1:\",time.time() - t1)\n",
    "\n",
    "t1 = time.time()\n",
    "words_persisted.count()\n",
    "print(\"Word count persisted 2:\", time.time() - t1)"
   ]
  },
  {
   "cell_type": "markdown",
   "metadata": {},
   "source": [
    "Actions are the operations that return a **final value** to the driver program or write data to an external storage system. \n",
    "\n",
    "Actions **force the evaluation** of the transformations required for the **RDD** they were called on, since they need to actually produce output.\n",
    "\n",
    "Returning to the previous example, until we call count over words and words persisted, the RDD are not computed. See that we persisted words_persisted, and until its second computation we cannot see the impact of persisting that RDD in memory.\n",
    "\n",
    "If we want to see a part of the RDD, we can use **take**, and to have the full RDD we can use **collect**."
   ]
  },
  {
   "cell_type": "code",
   "execution_count": 18,
   "metadata": {},
   "outputs": [
    {
     "name": "stdout",
     "output_type": "stream",
     "text": [
      "-> Three elements:\n",
      " [',Age[years],Sex,Weight[kg],Eye Color,Body Temperature[C]', 'individuum 1, 42, female, 52.9, brown, 36.9', 'individuum 2, 37, male, 87.0, green, 36.3']\n",
      "-> The whole RDD:\n",
      " [',Age[years],Sex,Weight[kg],Eye Color,Body Temperature[C]', 'individuum 1, 42, female, 52.9, brown, 36.9', 'individuum 2, 37, male, 87.0, green, 36.3', 'individuum 3, 29, male, 82.1, blue, 36.4', 'individuum 4, 61, female, 62.5, blue, 36.7', 'individuum 5, 77, female, 55.5, gray, 36.6', 'individuum 6, 33, male, 95.2, green, 36.5', 'individuum 7, 32, female, 81.8, brown, 37.0', 'individuum 8, 45, male, 78.9, brown, 36.3', 'individuum 9, 18, male, 83.4, green, 36.6', 'individuum 10, 19, male, 84.7, gray, 36.1']\n"
     ]
    }
   ],
   "source": [
    "lines = sc.textFile(\"../data/people.csv\")\n",
    "print(\"-> Three elements:\\n\", lines.take(3))\n",
    "print(\"-> The whole RDD:\\n\", lines.collect())"
   ]
  },
  {
   "cell_type": "markdown",
   "metadata": {},
   "source": [
    "Question: **Why is not a god idea to collect an RDD?**"
   ]
  },
  {
   "cell_type": "markdown",
   "metadata": {},
   "source": [
    "## Passing functions to Spark\n",
    "\n",
    "Most of Spark’s transformations, and some of its actions, depend on **passing in functions** that are used by Spark to **compute** data.\n",
    "\n",
    "In Python, we have three options for passing functions into Spark. \n",
    " * For shorter functions, we can pass in lambda expressions\n",
    " * We can pass in top-level functions, or \n",
    " * Locally defined functions."
   ]
  },
  {
   "cell_type": "code",
   "execution_count": 19,
   "metadata": {},
   "outputs": [
    {
     "name": "stdout",
     "output_type": "stream",
     "text": [
      "['', 'individuum 1', 'individuum 2', 'individuum 3', 'individuum 4', 'individuum 5', 'individuum 6', 'individuum 7', 'individuum 8', 'individuum 9', 'individuum 10']\n",
      "['', 'individuum 1', 'individuum 2', 'individuum 3', 'individuum 4', 'individuum 5', 'individuum 6', 'individuum 7', 'individuum 8', 'individuum 9', 'individuum 10']\n"
     ]
    }
   ],
   "source": [
    "lines = sc.textFile(\"../data/people.csv\")\n",
    "\n",
    "# we create a lambda function to apply tp all lines of the dataset\n",
    "# WARNING, see that after splitting we get only the first element\n",
    "first_cells = lines.map(lambda x: x.split(\",\")[0])\n",
    "print(first_cells.collect())\n",
    "\n",
    "# we can define a function as well\n",
    "def get_cell(x):\n",
    "    return x.split(\",\")[0]\n",
    "first_cells = lines.map(get_cell)\n",
    "print(first_cells.collect())"
   ]
  },
  {
   "cell_type": "markdown",
   "metadata": {},
   "source": [
    "## Working with common Spark transformations\n",
    "\n",
    "The two most common transformations you will likely be using are **map** and **filter**. \n",
    "\n",
    "The **map()** transformation takes in a function and applies it to each element in the RDD with the result of the function being the new value of each element in the resulting RDD. \n",
    "\n",
    "The **filter()** transformation takes in a function and returns an RDD that only has elements that pass the filter() function.\n",
    "\n",
    "Sometimes **map()** returns nested lists, to flatten these nested lists we can use **flatMap()**. \n",
    "\n",
    "So, **flatMap()** is called individually for each element in our input RDD. Instead of returning a single element, we return an iterator with our return values. Rather than producing an RDD of iterators, we get back an RDD that consists of the elements from all of the iterators.\n",
    "\n",
    "### Set operations\n",
    "\n",
    "* **distinct()** transformation to produce a new RDD with only distinct items. \n",
    "    \n",
    "    **Note that distinct() is expensive**, however, as it requires shuffling all the data over the network to ensure that we receive only one copy of each element\n",
    "    \n",
    "\n",
    "* **RDD.union(other)** back an RDD consisting of the data from both sources. \n",
    "\n",
    "    Unlike the mathematical union(), if there are duplicates in the input RDDs, the result of Spark’s union() will contain duplicates (which we can fix if desired with distinct()).\n",
    "\n",
    "\n",
    "* **RDD.intersection(other)**  returns only elements in both RDDs. intersection() also removes all duplicates (including duplicates from a single RDD) while running. \n",
    "\n",
    "    While intersection() and union() are two similar concepts, the performance of intersection() is much worse since it requires a shuffle over the network to identify common elements.\n",
    "\n",
    "\n",
    "* **RDD.subtract(other)** function takes in another RDD and returns an RDD that has only values present in the first RDD and not the second RDD. Like intersection(), it performs a shuffle.\n",
    "\n",
    "\n",
    "* **RDD.cartesian(other)** transformation returns all possible pairs of (a,b) where a is in the source RDD and b is in the other RDD. \n",
    "\n",
    "    The Cartesian product can be useful when we wish to consider the similarity between all possible pairs, such as computing every user’s expected interest in each offer. We can also take the Cartesian product of an RDD with itself, which can be useful for tasks like user similarity. Be warned, however, that the Cartesian product is very expensive for large RDDs.\n",
    "\n",
    "### Actions\n",
    "\n",
    "* **reduce():** which takes a function that operates on two elements of the type in your RDD and returns a new element of the same type. \n",
    "\n",
    "\n",
    "* **aggregate():** takes an initial zero value of the type we want to return. We then supply a function to combine the elements from our RDD with the accumulator. Finally, we need to supply a second function to merge two accumulators, given that each node accumulates its own results locally. To know more:\n",
    "    * http://stackoverflow.com/questions/28240706/explain-the-aggregate-functionality-in-spark\n",
    "    * http://atlantageek.com/2015/05/30/python-aggregate-rdd/\n",
    "    \n",
    "    \n",
    "* **collect():** returns the entire RDD’s contents. collect() is commonly used in unit tests where the entire contents of the RDD are expected to fit in memory, as that makes it easy to compare the value of our RDD with our expected result.\n",
    "\n",
    "\n",
    "* **take(n):** returns n elements from the RDD and attempts to minimize the number of partitions it accesses, so it may represent a biased collection\n",
    "\n",
    "\n",
    "* **top():** will use the default ordering on the data, but we can supply our own comparison function to extract the top elements. "
   ]
  },
  {
   "cell_type": "markdown",
   "metadata": {},
   "source": [
    "### Exercises\n",
    "\n",
    "We have a file (../data/books.csv) with a lot of links to books. We want to perform an analysis to the books and its contents.\n",
    "\n",
    "**Exercise 1:** Download all books, from books.csv using the map function.\n",
    "\n",
    "**Exercise 2:** Identify transformations and actions. When the returned data is calculated?\n",
    "\n",
    "**Exercise 3:** Imagine that you only want to download Dickens books, how would you do that? Which is the impact of not persisting dickens_books_content?\n",
    "\n",
    "**Exercise 4:** Use flatMap() in the resulting RDD of the previous exercise, how the result is different?\n",
    "\n",
    "**Exercise 5:** You want to know the different books authors there are.\n",
    "\n",
    "**Exercise 6:** Return Poe's and Dickens' books URLs (use union function).\n",
    "\n",
    "**Exercise 7:** Return the list of books without Dickens' and Poe's books.\n",
    "\n",
    "**Exercise 8:** Count the number of books using reduce function.\n",
    "\n",
    "For the following two exercices, we will use ../data/Sacramentorealestatetransactions.csv\n",
    "\n",
    "**Exercise 9:** Compute the mean price of estates from csv containing Sacramento's estate price using aggregate function.\n",
    "\n",
    "**Exercise 10:** Get top 5 highest and lowest prices in Sacramento estate's transactions"
   ]
  },
  {
   "cell_type": "markdown",
   "metadata": {},
   "source": [
    "**Exercise 1:** Download all books, from books.csv using the map function.\n",
    "\n",
    "**Answer 1:**"
   ]
  },
  {
   "cell_type": "code",
   "execution_count": 20,
   "metadata": {
    "collapsed": true
   },
   "outputs": [],
   "source": [
    "import urllib3\n",
    "\n",
    "def download_file(csv_line):\n",
    "    link = csv_line[0]\n",
    "    http = urllib3.PoolManager()\n",
    "    r = http.request('GET', link, preload_content=False)\n",
    "    response = r.read()\n",
    "    return response"
   ]
  },
  {
   "cell_type": "code",
   "execution_count": 21,
   "metadata": {},
   "outputs": [
    {
     "name": "stdout",
     "output_type": "stream",
     "text": [
      "[['http://www.textfiles.com/etext/REFERENCE/15-songs.txt', '15-songs.txt', '17619', 'A Civil War Songbook (January 1990)'], ['http://www.textfiles.com/etext/REFERENCE/1776-va.rts', '1776-va.rts', '5907', 'The Virginia Declaration of Rights'], ['http://www.textfiles.com/etext/REFERENCE/1mlkd11.txt', '1mlkd11.txt', '817486', '\"Project Gutenberg: Martin Luther King\\'s \"\"I have a Dream\"\" Speech\"'], ['http://www.textfiles.com/etext/REFERENCE/1st_than.txt', '1st_than.txt', '2979', '\"The First Thanksgiving Proclomation', ' June 20', ' 1676\"'], ['http://www.textfiles.com/etext/REFERENCE/2sqrt10a.txt', '2sqrt10a.txt', '5262079', '\"Project Gutenberg: The Square Root of Two', ' to 5 Million digits\"'], ['http://www.textfiles.com/etext/REFERENCE/32pri10.txt', '32pri10.txt', '247391', 'Project Gutenberg: The 32nd Mersenne prime'], ['http://www.textfiles.com/etext/REFERENCE/all11.txt', 'all11.txt', '85580', 'Project Gutenberg: The Declaration of Independence of The United States of America'], ['http://www.textfiles.com/etext/REFERENCE/berne10.txt', 'berne10.txt', '63397', 'Project Gutenberg: The Berne Copyright Convention'], ['http://www.textfiles.com/etext/REFERENCE/bill11.txt', 'bill11.txt', '2974', 'The United States Bill of Rights'], ['http://www.textfiles.com/etext/REFERENCE/charlrsl.txt', 'charlrsl.txt', '8446', '\"The Charlotte Town Resolves: Resolves Adopted in Charlotte Town', ' North Carolina', ' May 31', ' 1775\"']]\n"
     ]
    }
   ],
   "source": [
    "books_info = sc.textFile(\"../data/books.csv\").map(lambda x: x.split(\",\"))\n",
    "print(books_info.take(10))"
   ]
  },
  {
   "cell_type": "code",
   "execution_count": 22,
   "metadata": {},
   "outputs": [
    {
     "name": "stdout",
     "output_type": "stream",
     "text": [
      "b'THE VIRGINIA DECLARATION OF RIGHTS\\r\\n\\r\\n  I  That all men are by nature equally free and independent, '\n"
     ]
    }
   ],
   "source": [
    "books_content = books_info.map(download_file)\n",
    "print(books_content.take(10)[1][:100])"
   ]
  },
  {
   "cell_type": "markdown",
   "metadata": {},
   "source": [
    "**Exercise 2:** Identify transformations and actions. When the returned data is calculated?\n",
    "\n",
    "**Answer 2:**\n",
    "If we consider the text reading as a transformation...\n",
    "\n",
    "*Transformations:*\n",
    "* books_info = sc.textFile(\"../data/books.csv\").map(lambda x: x.split(\",\"))\n",
    "* books_content = books_info.map(lambda x: download_file(x[0]))\n",
    "\n",
    "*Actions:*\n",
    "* print books_info.take(10)\n",
    "* print books_content.take(1)[0][:100]\n",
    "\n",
    "Computation is carried out in actions. In this case we take advantage of it, as for downloading data we only apply the function to one element of the books_content RDD"
   ]
  },
  {
   "cell_type": "markdown",
   "metadata": {},
   "source": [
    "**Exercise 3:** Imagine that you only want to download Dickens books, how would you do that? Which is the impact of not persisting dickens_books_content?\n",
    "\n",
    "**Answer 3:**"
   ]
  },
  {
   "cell_type": "code",
   "execution_count": 23,
   "metadata": {},
   "outputs": [
    {
     "name": "stdout",
     "output_type": "stream",
     "text": [
      "[['http://www.textfiles.com/etext/AUTHORS/DICKENS/dickens-american-631.txt', 'dickens-american-631.txt', '604047', '\"PROJECT GUTENBERG: American Notes for General Circulation', ' by Charles Dickens\"'], ['http://www.textfiles.com/etext/AUTHORS/DICKENS/dickens-battle-630.txt', 'dickens-battle-630.txt', '181551', '\"PROJECT GUTENBERG: The Battle of Life', ' by Charles Dickens\"'], ['http://www.textfiles.com/etext/AUTHORS/DICKENS/dickens-childs-629.txt', 'dickens-childs-629.txt', '934709', '\"PROJECT GUTENBERG: A Child\\'s History of England', ' by Charles Dickens\"'], ['http://www.textfiles.com/etext/AUTHORS/DICKENS/dickens-chimes-379.txt', 'dickens-chimes-379.txt', '170704', '\"The Chimes', ' by Charles Dickens\"']]\n",
      "b'Project Gutenberg Etext of The Battle of Life by Charles Dickens\\n#10 in our series by Charles Dicken'\n"
     ]
    }
   ],
   "source": [
    "import re\n",
    "\n",
    "def is_dickens(csv_line):\n",
    "    link = csv_line[0]\n",
    "    t = re.match(\"http://www.textfiles.com/etext/AUTHORS/DICKENS/\",link)\n",
    "    return t != None\n",
    "\n",
    "dickens_books_info = books_info.filter(is_dickens)\n",
    "print(dickens_books_info.take(4))\n",
    "\n",
    "dickens_books_content = dickens_books_info.map(download_file)\n",
    "\n",
    "# take into consideration that each time an action is performed over dickens_book_content, the file is downloaded\n",
    "# this has a big impact into calculations\n",
    "print(dickens_books_content.take(2)[1][:100])\n"
   ]
  },
  {
   "cell_type": "markdown",
   "metadata": {},
   "source": [
    "**Exercise 4:** Use flatMap() in the resulting RDD of the previous exercise, how the result is different?\n",
    "\n",
    "**Answer 4:**"
   ]
  },
  {
   "cell_type": "code",
   "execution_count": 24,
   "metadata": {
    "scrolled": true
   },
   "outputs": [
    {
     "name": "stdout",
     "output_type": "stream",
     "text": [
      "[['http://www.textfiles.com/etext/AUTHORS/DICKENS/dickens-american-631.txt', 'dickens-american-631.txt', '604047', '\"PROJECT GUTENBERG: American Notes for General Circulation', ' by Charles Dickens\"'], ['http://www.textfiles.com/etext/AUTHORS/DICKENS/dickens-battle-630.txt', 'dickens-battle-630.txt', '181551', '\"PROJECT GUTENBERG: The Battle of Life', ' by Charles Dickens\"'], ['http://www.textfiles.com/etext/AUTHORS/DICKENS/dickens-childs-629.txt', 'dickens-childs-629.txt', '934709', '\"PROJECT GUTENBERG: A Child\\'s History of England', ' by Charles Dickens\"'], ['http://www.textfiles.com/etext/AUTHORS/DICKENS/dickens-chimes-379.txt', 'dickens-chimes-379.txt', '170704', '\"The Chimes', ' by Charles Dickens\"']]\n"
     ]
    }
   ],
   "source": [
    "flat_content = dickens_books_info.map(lambda x: x)\n",
    "print(flat_content.take(4))"
   ]
  },
  {
   "cell_type": "code",
   "execution_count": 26,
   "metadata": {},
   "outputs": [
    {
     "name": "stdout",
     "output_type": "stream",
     "text": [
      "['http://www.textfiles.com/etext/AUTHORS/DICKENS/dickens-american-631.txt', 'dickens-american-631.txt', '604047', '\"PROJECT GUTENBERG: American Notes for General Circulation', ' by Charles Dickens\"', 'http://www.textfiles.com/etext/AUTHORS/DICKENS/dickens-battle-630.txt', 'dickens-battle-630.txt', '181551']\n"
     ]
    }
   ],
   "source": [
    "flat_content = dickens_books_info.flatMap(lambda x: x)\n",
    "print(flat_content.take(8))"
   ]
  },
  {
   "cell_type": "markdown",
   "metadata": {},
   "source": [
    "**Exercise 5:** You want to know the different books authors there are.\n",
    "\n",
    "**Answer 5:**"
   ]
  },
  {
   "cell_type": "code",
   "execution_count": 27,
   "metadata": {},
   "outputs": [
    {
     "data": {
      "text/plain": [
       "['WILDE',\n",
       " 'TWAIN',\n",
       " 'SHAKESPEARE',\n",
       " 'KEATS',\n",
       " 'KANT',\n",
       " 'EMERSON',\n",
       " 'DICKENS',\n",
       " 'BURROUGHS',\n",
       " 'ARISTOTLE',\n",
       " 'UNKNOWN',\n",
       " 'STEVENSON',\n",
       " 'POE',\n",
       " 'PLATO',\n",
       " 'MILTON',\n",
       " 'JEFFERSON',\n",
       " 'IRVING',\n",
       " 'HAWTHORNE',\n",
       " 'DOYLE']"
      ]
     },
     "execution_count": 27,
     "metadata": {},
     "output_type": "execute_result"
    }
   ],
   "source": [
    "def get_author(csv_line):\n",
    "    link = csv_line[0]\n",
    "    t = re.match(\"http://www.textfiles.com/etext/AUTHORS/(\\w+)/\",link)\n",
    "    if t:\n",
    "        return t.group(1)\n",
    "    return u'UNKNOWN'\n",
    "\n",
    "authors = books_info.map(get_author)\n",
    "authors.distinct().collect()"
   ]
  },
  {
   "cell_type": "markdown",
   "metadata": {
    "collapsed": true
   },
   "source": [
    "**Exercise 6:** Return Poe's and Dickens' books URLs (use union function).\n",
    "\n",
    "**Answer 6**"
   ]
  },
  {
   "cell_type": "code",
   "execution_count": 29,
   "metadata": {},
   "outputs": [
    {
     "data": {
      "text/plain": [
       "[('POE', 'http://www.textfiles.com/etext/AUTHORS/POE/poe-angel-666.txt'),\n",
       " ('POE', 'http://www.textfiles.com/etext/AUTHORS/POE/poe-balloon-668.txt'),\n",
       " ('POE', 'http://www.textfiles.com/etext/AUTHORS/POE/poe-city-673.txt'),\n",
       " ('POE', 'http://www.textfiles.com/etext/AUTHORS/POE/poe-gold-683.txt'),\n",
       " ('POE', 'http://www.textfiles.com/etext/AUTHORS/POE/poe-raven-702.txt'),\n",
       " ('POE', 'http://www.textfiles.com/etext/AUTHORS/POE/poe-thou-416.txt'),\n",
       " ('POE', 'http://www.textfiles.com/etext/AUTHORS/POE/poe-to-720.txt')]"
      ]
     },
     "execution_count": 29,
     "metadata": {},
     "output_type": "execute_result"
    }
   ],
   "source": [
    "import re\n",
    "\n",
    "def get_author_and_link(csv_line):\n",
    "    link = csv_line[0]\n",
    "    t = re.match(\"http://www.textfiles.com/etext/AUTHORS/(\\w+)/\",link)\n",
    "    if t:\n",
    "        return (t.group(1), link)\n",
    "    return (u'UNKNOWN',link)\n",
    "\n",
    "authors_links = books_info.map(get_author_and_link)\n",
    "\n",
    "# not very efficient\n",
    "dickens_books = authors_links.filter(lambda x: x[0]==\"DICKENS\")\n",
    "poes_books = authors_links.filter(lambda x: x[0]==\"POE\")\n",
    "\n",
    "poes_dickens_books = poes_books.union(dickens_books)\n",
    "\n",
    "# sample is a transformation that returns an RDD sampled over the original RDD\n",
    "# https://spark.apache.org/docs/1.1.1/api/python/pyspark.rdd.RDD-class.html\n",
    "poes_dickens_books.sample(True,0.05).collect()"
   ]
  },
  {
   "cell_type": "code",
   "execution_count": null,
   "metadata": {
    "collapsed": true
   },
   "outputs": [],
   "source": []
  },
  {
   "cell_type": "code",
   "execution_count": null,
   "metadata": {
    "collapsed": true
   },
   "outputs": [],
   "source": [
    "# takeSample is an action, returning a sampled subset of the RDD\n",
    "poes_dickens_books.takeSample(True,10)"
   ]
  },
  {
   "cell_type": "markdown",
   "metadata": {},
   "source": [
    "**Exercise 7:** Return the list of books without Dickens' and Poe's books.\n",
    "\n",
    "**Answer 7:**"
   ]
  },
  {
   "cell_type": "code",
   "execution_count": null,
   "metadata": {
    "collapsed": true
   },
   "outputs": [],
   "source": [
    "authors_links.subtract(poes_dickens_books).map(lambda x: x[0]).distinct().collect()"
   ]
  },
  {
   "cell_type": "markdown",
   "metadata": {},
   "source": [
    "**Exercise 8:** Count the number of books using reduce function.\n",
    "\n",
    "**Answer 8**"
   ]
  },
  {
   "cell_type": "code",
   "execution_count": 31,
   "metadata": {},
   "outputs": [
    {
     "data": {
      "text/plain": [
       "[('UNKNOWN', 'http://www.textfiles.com/etext/REFERENCE/15-songs.txt'),\n",
       " ('UNKNOWN', 'http://www.textfiles.com/etext/REFERENCE/1776-va.rts'),\n",
       " ('UNKNOWN', 'http://www.textfiles.com/etext/REFERENCE/1mlkd11.txt'),\n",
       " ('UNKNOWN', 'http://www.textfiles.com/etext/REFERENCE/1st_than.txt'),\n",
       " ('UNKNOWN', 'http://www.textfiles.com/etext/REFERENCE/2sqrt10a.txt'),\n",
       " ('UNKNOWN', 'http://www.textfiles.com/etext/REFERENCE/32pri10.txt'),\n",
       " ('UNKNOWN', 'http://www.textfiles.com/etext/REFERENCE/all11.txt'),\n",
       " ('UNKNOWN', 'http://www.textfiles.com/etext/REFERENCE/berne10.txt'),\n",
       " ('UNKNOWN', 'http://www.textfiles.com/etext/REFERENCE/bill11.txt'),\n",
       " ('UNKNOWN', 'http://www.textfiles.com/etext/REFERENCE/charlrsl.txt'),\n",
       " ('UNKNOWN', 'http://www.textfiles.com/etext/REFERENCE/const11.txt'),\n",
       " ('UNKNOWN', 'http://www.textfiles.com/etext/REFERENCE/dream'),\n",
       " ('UNKNOWN', 'http://www.textfiles.com/etext/REFERENCE/dream.txt'),\n",
       " ('UNKNOWN', 'http://www.textfiles.com/etext/REFERENCE/ee610.txt'),\n",
       " ('UNKNOWN', 'http://www.textfiles.com/etext/REFERENCE/ee710.txt'),\n",
       " ('UNKNOWN', 'http://www.textfiles.com/etext/REFERENCE/factr10.txt'),\n",
       " ('UNKNOWN', 'http://www.textfiles.com/etext/REFERENCE/fdr10.txt'),\n",
       " ('UNKNOWN', 'http://www.textfiles.com/etext/REFERENCE/feder15.txt'),\n",
       " ('UNKNOWN', 'http://www.textfiles.com/etext/REFERENCE/feder16.txt'),\n",
       " ('UNKNOWN', 'http://www.textfiles.com/etext/REFERENCE/header.wba'),\n",
       " ('UNKNOWN', 'http://www.textfiles.com/etext/REFERENCE/jfk11.txt'),\n",
       " ('UNKNOWN', 'http://www.textfiles.com/etext/REFERENCE/john-magna-413.txt'),\n",
       " ('UNKNOWN', 'http://www.textfiles.com/etext/REFERENCE/koran'),\n",
       " ('UNKNOWN', 'http://www.textfiles.com/etext/REFERENCE/liber11.txt'),\n",
       " ('UNKNOWN', 'http://www.textfiles.com/etext/REFERENCE/linc111.txt'),\n",
       " ('UNKNOWN', 'http://www.textfiles.com/etext/REFERENCE/linc211.txt'),\n",
       " ('UNKNOWN', 'http://www.textfiles.com/etext/REFERENCE/magna_carta'),\n",
       " ('UNKNOWN', 'http://www.textfiles.com/etext/REFERENCE/manif11.txt'),\n",
       " ('UNKNOWN', 'http://www.textfiles.com/etext/REFERENCE/mayfl11.txt'),\n",
       " ('UNKNOWN', 'http://www.textfiles.com/etext/REFERENCE/mayflowr.pac'),\n",
       " ('UNKNOWN', 'http://www.textfiles.com/etext/REFERENCE/morman13.txt'),\n",
       " ('UNKNOWN', 'http://www.textfiles.com/etext/REFERENCE/mormon13.txt'),\n",
       " ('UNKNOWN', 'http://www.textfiles.com/etext/REFERENCE/paris-tr.txt'),\n",
       " ('UNKNOWN', 'http://www.textfiles.com/etext/REFERENCE/penc.txt'),\n",
       " ('UNKNOWN', 'http://www.textfiles.com/etext/REFERENCE/pge0112.txt'),\n",
       " ('UNKNOWN', 'http://www.textfiles.com/etext/REFERENCE/pimil10.txt'),\n",
       " ('UNKNOWN', 'http://www.textfiles.com/etext/REFERENCE/prime10.txt'),\n",
       " ('UNKNOWN', 'http://www.textfiles.com/etext/REFERENCE/prime11.txt'),\n",
       " ('UNKNOWN', 'http://www.textfiles.com/etext/REFERENCE/rights'),\n",
       " ('UNKNOWN', 'http://www.textfiles.com/etext/REFERENCE/roget13a.txt'),\n",
       " ('UNKNOWN', 'http://www.textfiles.com/etext/REFERENCE/thanksgi.vng'),\n",
       " ('UNKNOWN', 'http://www.textfiles.com/etext/REFERENCE/tj_summ.txt'),\n",
       " ('UNKNOWN', 'http://www.textfiles.com/etext/REFERENCE/uscpy76.txt'),\n",
       " ('UNKNOWN', 'http://www.textfiles.com/etext/REFERENCE/wbstr10a.txt'),\n",
       " ('UNKNOWN', 'http://www.textfiles.com/etext/REFERENCE/wbstr11a.txt'),\n",
       " ('UNKNOWN', 'http://www.textfiles.com/etext/REFERENCE/wbstr11b.txt'),\n",
       " ('UNKNOWN', 'http://www.textfiles.com/etext/REFERENCE/when11.txt'),\n",
       " ('UNKNOWN', 'http://www.textfiles.com/etext/REFERENCE/world12.txt'),\n",
       " ('UNKNOWN', 'http://www.textfiles.com/etext/REFERENCE/world192.txt'),\n",
       " ('UNKNOWN', 'http://www.textfiles.com/etext/REFERENCE/world93.txt'),\n",
       " ('UNKNOWN', 'http://www.textfiles.com/etext/REFERENCE/world94.txt'),\n",
       " ('UNKNOWN', 'http://www.textfiles.com/etext/REFERENCE/zipdelim.txt'),\n",
       " ('UNKNOWN', 'http://www.textfiles.com/etext/NONFICTION/0paine.txt'),\n",
       " ('UNKNOWN', 'http://www.textfiles.com/etext/NONFICTION/analects'),\n",
       " ('UNKNOWN',\n",
       "  'http://www.textfiles.com/etext/NONFICTION/augustine-confessions-276.txt'),\n",
       " ('UNKNOWN', 'http://www.textfiles.com/etext/NONFICTION/bacon-essays-92.txt'),\n",
       " ('UNKNOWN', 'http://www.textfiles.com/etext/NONFICTION/bacon-new-98.txt'),\n",
       " ('UNKNOWN',\n",
       "  'http://www.textfiles.com/etext/NONFICTION/berkeley-three-745.txt'),\n",
       " ('UNKNOWN',\n",
       "  'http://www.textfiles.com/etext/NONFICTION/berkeley-treatise-177.txt'),\n",
       " ('UNKNOWN', 'http://www.textfiles.com/etext/NONFICTION/bfaut10.txt'),\n",
       " ('UNKNOWN', 'http://www.textfiles.com/etext/NONFICTION/bfree10.txt'),\n",
       " ('UNKNOWN', 'http://www.textfiles.com/etext/NONFICTION/bhagavad'),\n",
       " ('UNKNOWN', 'http://www.textfiles.com/etext/NONFICTION/bwr.txt'),\n",
       " ('UNKNOWN', 'http://www.textfiles.com/etext/NONFICTION/c_govern'),\n",
       " ('UNKNOWN', 'http://www.textfiles.com/etext/NONFICTION/common_sense'),\n",
       " ('UNKNOWN', 'http://www.textfiles.com/etext/NONFICTION/crisis'),\n",
       " ('UNKNOWN', 'http://www.textfiles.com/etext/NONFICTION/dcart10.txt'),\n",
       " ('UNKNOWN',\n",
       "  'http://www.textfiles.com/etext/NONFICTION/descartes-discourse-124.txt'),\n",
       " ('UNKNOWN',\n",
       "  'http://www.textfiles.com/etext/NONFICTION/descartes-meditations-746.txt'),\n",
       " ('UNKNOWN', 'http://www.textfiles.com/etext/NONFICTION/devils.txt'),\n",
       " ('UNKNOWN', 'http://www.textfiles.com/etext/NONFICTION/douglass'),\n",
       " ('UNKNOWN', 'http://www.textfiles.com/etext/NONFICTION/egypt.txt'),\n",
       " ('UNKNOWN',\n",
       "  'http://www.textfiles.com/etext/NONFICTION/epictetus-discourses-568.txt'),\n",
       " ('UNKNOWN',\n",
       "  'http://www.textfiles.com/etext/NONFICTION/epicurus-principal-749.txt'),\n",
       " ('UNKNOWN', 'http://www.textfiles.com/etext/NONFICTION/essays'),\n",
       " ('UNKNOWN', 'http://www.textfiles.com/etext/NONFICTION/faculties'),\n",
       " ('UNKNOWN',\n",
       "  'http://www.textfiles.com/etext/NONFICTION/franklin-autobiography-244.txt'),\n",
       " ('UNKNOWN',\n",
       "  'http://www.textfiles.com/etext/NONFICTION/franklin-boston-245.txt'),\n",
       " ('UNKNOWN',\n",
       "  'http://www.textfiles.com/etext/NONFICTION/franklin-london-246.txt'),\n",
       " ('UNKNOWN',\n",
       "  'http://www.textfiles.com/etext/NONFICTION/franklin-paris-247.txt'),\n",
       " ('UNKNOWN',\n",
       "  'http://www.textfiles.com/etext/NONFICTION/franklin-philadelphia-248.txt'),\n",
       " ('UNKNOWN',\n",
       "  'http://www.textfiles.com/etext/NONFICTION/franklin-philadelphia-249.txt'),\n",
       " ('UNKNOWN',\n",
       "  'http://www.textfiles.com/etext/NONFICTION/franklin-poor-250.txt'),\n",
       " ('UNKNOWN', 'http://www.textfiles.com/etext/NONFICTION/freud-young-763.txt'),\n",
       " ('UNKNOWN', 'http://www.textfiles.com/etext/NONFICTION/getty11.txt'),\n",
       " ('UNKNOWN', 'http://www.textfiles.com/etext/NONFICTION/gospel'),\n",
       " ('UNKNOWN',\n",
       "  'http://www.textfiles.com/etext/NONFICTION/hamilton-federalist-548.txt'),\n",
       " ('UNKNOWN',\n",
       "  'http://www.textfiles.com/etext/NONFICTION/hobbes-leviathan-66.txt'),\n",
       " ('UNKNOWN',\n",
       "  'http://www.textfiles.com/etext/NONFICTION/hume-dialogues-732.txt'),\n",
       " ('UNKNOWN', 'http://www.textfiles.com/etext/NONFICTION/hume-enquiry-65.txt'),\n",
       " ('UNKNOWN', 'http://www.textfiles.com/etext/NONFICTION/hume-essays-733.txt'),\n",
       " ('UNKNOWN', 'http://www.textfiles.com/etext/NONFICTION/hume-my-731.txt'),\n",
       " ('UNKNOWN', 'http://www.textfiles.com/etext/NONFICTION/hume-natural-730.txt'),\n",
       " ('UNKNOWN', 'http://www.textfiles.com/etext/NONFICTION/inaugurl'),\n",
       " ('UNKNOWN', 'http://www.textfiles.com/etext/NONFICTION/james-essays-136.txt'),\n",
       " ('UNKNOWN', 'http://www.textfiles.com/etext/NONFICTION/james-will-751.txt'),\n",
       " ('UNKNOWN', 'http://www.textfiles.com/etext/NONFICTION/japan_no'),\n",
       " ('UNKNOWN', 'http://www.textfiles.com/etext/NONFICTION/japansay.no'),\n",
       " ('UNKNOWN', 'http://www.textfiles.com/etext/NONFICTION/jungl11.txt'),\n",
       " ('UNKNOWN',\n",
       "  'http://www.textfiles.com/etext/NONFICTION/kennedy-inaugural-147.txt'),\n",
       " ('UNKNOWN', 'http://www.textfiles.com/etext/NONFICTION/king-i-150.txt'),\n",
       " ('UNKNOWN', 'http://www.textfiles.com/etext/NONFICTION/kjv10.txt'),\n",
       " ('UNKNOWN', 'http://www.textfiles.com/etext/NONFICTION/laws_manu'),\n",
       " ('UNKNOWN', 'http://www.textfiles.com/etext/NONFICTION/learning'),\n",
       " ('UNKNOWN',\n",
       "  'http://www.textfiles.com/etext/NONFICTION/leibniz-monadology-201.txt'),\n",
       " ('UNKNOWN', 'http://www.textfiles.com/etext/NONFICTION/leviathan'),\n",
       " ('UNKNOWN', 'http://www.textfiles.com/etext/NONFICTION/liberty'),\n",
       " ('UNKNOWN',\n",
       "  'http://www.textfiles.com/etext/NONFICTION/lincoln-first-121.txt'),\n",
       " ('UNKNOWN',\n",
       "  'http://www.textfiles.com/etext/NONFICTION/lincoln-gettysburg-122.txt'),\n",
       " ('UNKNOWN',\n",
       "  'http://www.textfiles.com/etext/NONFICTION/locke-concerning-111.txt'),\n",
       " ('UNKNOWN', 'http://www.textfiles.com/etext/NONFICTION/locke-essay-113.txt'),\n",
       " ('UNKNOWN', 'http://www.textfiles.com/etext/NONFICTION/locke-letter-116.txt'),\n",
       " ('UNKNOWN', 'http://www.textfiles.com/etext/NONFICTION/locke-second-117.txt'),\n",
       " ('UNKNOWN', 'http://www.textfiles.com/etext/NONFICTION/lucretius-on-395.txt'),\n",
       " ('UNKNOWN',\n",
       "  'http://www.textfiles.com/etext/NONFICTION/machiavelli-prince-123.txt'),\n",
       " ('UNKNOWN',\n",
       "  'http://www.textfiles.com/etext/NONFICTION/marx-communist-109.txt'),\n",
       " ('UNKNOWN',\n",
       "  'http://www.textfiles.com/etext/NONFICTION/marx-manifesto-213.txt'),\n",
       " ('UNKNOWN', 'http://www.textfiles.com/etext/NONFICTION/metamorp'),\n",
       " ('UNKNOWN', 'http://www.textfiles.com/etext/NONFICTION/mexico'),\n",
       " ('UNKNOWN', 'http://www.textfiles.com/etext/NONFICTION/mill-on-215.txt'),\n",
       " ('UNKNOWN',\n",
       "  'http://www.textfiles.com/etext/NONFICTION/mill-representative-216.txt'),\n",
       " ('UNKNOWN',\n",
       "  'http://www.textfiles.com/etext/NONFICTION/mill-subjection-217.txt'),\n",
       " ('UNKNOWN',\n",
       "  'http://www.textfiles.com/etext/NONFICTION/mill-utilitarianism-218.txt'),\n",
       " ('UNKNOWN', 'http://www.textfiles.com/etext/NONFICTION/monadology'),\n",
       " ('UNKNOWN',\n",
       "  'http://www.textfiles.com/etext/NONFICTION/montaigne-essays-220.txt'),\n",
       " ('UNKNOWN',\n",
       "  'http://www.textfiles.com/etext/NONFICTION/nietzsche-thus-223.txt'),\n",
       " ('UNKNOWN', 'http://www.textfiles.com/etext/NONFICTION/on_nature'),\n",
       " ('UNKNOWN', 'http://www.textfiles.com/etext/NONFICTION/origin_species'),\n",
       " ('UNKNOWN',\n",
       "  'http://www.textfiles.com/etext/NONFICTION/paine-american-397.txt'),\n",
       " ('UNKNOWN', 'http://www.textfiles.com/etext/NONFICTION/paine-common-398.txt'),\n",
       " ('UNKNOWN', 'http://www.textfiles.com/etext/NONFICTION/paine-rights-399.txt'),\n",
       " ('UNKNOWN',\n",
       "  'http://www.textfiles.com/etext/NONFICTION/pascal-pensees-569.txt'),\n",
       " ('UNKNOWN',\n",
       "  'http://www.textfiles.com/etext/NONFICTION/pascal-provincial-570.txt'),\n",
       " ('UNKNOWN', 'http://www.textfiles.com/etext/NONFICTION/plboss10.txt'),\n",
       " ('UNKNOWN', 'http://www.textfiles.com/etext/NONFICTION/plotinus-six-415.txt'),\n",
       " ('UNKNOWN', 'http://www.textfiles.com/etext/NONFICTION/plrabn12.txt'),\n",
       " ('UNKNOWN', 'http://www.textfiles.com/etext/NONFICTION/politics'),\n",
       " ('UNKNOWN', 'http://www.textfiles.com/etext/NONFICTION/reason'),\n",
       " ('UNKNOWN', 'http://www.textfiles.com/etext/NONFICTION/rep_government'),\n",
       " ('UNKNOWN', 'http://www.textfiles.com/etext/NONFICTION/repub13.txt'),\n",
       " ('UNKNOWN', 'http://www.textfiles.com/etext/NONFICTION/rights'),\n",
       " ('UNKNOWN', 'http://www.textfiles.com/etext/NONFICTION/rights_man'),\n",
       " ('UNKNOWN',\n",
       "  'http://www.textfiles.com/etext/NONFICTION/rousseau-confessions-119.txt'),\n",
       " ('UNKNOWN', 'http://www.textfiles.com/etext/NONFICTION/rubaiyat'),\n",
       " ('UNKNOWN',\n",
       "  'http://www.textfiles.com/etext/NONFICTION/smith-inquiry-161.txt'),\n",
       " ('UNKNOWN',\n",
       "  'http://www.textfiles.com/etext/NONFICTION/spinoza-ethics-742.txt'),\n",
       " ('UNKNOWN', 'http://www.textfiles.com/etext/NONFICTION/spinoza-on-744.txt'),\n",
       " ('UNKNOWN',\n",
       "  'http://www.textfiles.com/etext/NONFICTION/spinoza-political-753.txt'),\n",
       " ('UNKNOWN',\n",
       "  'http://www.textfiles.com/etext/NONFICTION/spinoza-theologico-743.txt'),\n",
       " ('UNKNOWN', 'http://www.textfiles.com/etext/NONFICTION/suntx10.txt'),\n",
       " ('UNKNOWN', 'http://www.textfiles.com/etext/NONFICTION/suntzu10.txt'),\n",
       " ('UNKNOWN', 'http://www.textfiles.com/etext/NONFICTION/sunzu10.txt'),\n",
       " ('UNKNOWN', 'http://www.textfiles.com/etext/NONFICTION/the_mean'),\n",
       " ('UNKNOWN',\n",
       "  'http://www.textfiles.com/etext/NONFICTION/thoreau-civil-182.txt'),\n",
       " ('UNKNOWN', 'http://www.textfiles.com/etext/NONFICTION/thoreau-life-183.txt'),\n",
       " ('UNKNOWN', 'http://www.textfiles.com/etext/NONFICTION/thoreau-plea-184.txt'),\n",
       " ('UNKNOWN',\n",
       "  'http://www.textfiles.com/etext/NONFICTION/thoreau-slavery-185.txt'),\n",
       " ('UNKNOWN',\n",
       "  'http://www.textfiles.com/etext/NONFICTION/thoreau-walden-186.txt'),\n",
       " ('UNKNOWN', 'http://www.textfiles.com/etext/NONFICTION/toleration'),\n",
       " ('UNKNOWN', 'http://www.textfiles.com/etext/NONFICTION/tom_jones'),\n",
       " ('UNKNOWN', 'http://www.textfiles.com/etext/NONFICTION/understanding'),\n",
       " ('UNKNOWN', 'http://www.textfiles.com/etext/NONFICTION/utilitarianism'),\n",
       " ('UNKNOWN',\n",
       "  'http://www.textfiles.com/etext/NONFICTION/voltaire-candide-193.txt'),\n",
       " ('UNKNOWN', 'http://www.textfiles.com/etext/NONFICTION/warfare.txt'),\n",
       " ('UNKNOWN', 'http://www.textfiles.com/etext/NONFICTION/wealth_nations'),\n",
       " ('UNKNOWN', 'http://www.textfiles.com/etext/NONFICTION/word'),\n",
       " ('UNKNOWN', 'http://www.textfiles.com/etext/FICTION/2000010.txt'),\n",
       " ('UNKNOWN', 'http://www.textfiles.com/etext/FICTION/2city10.txt'),\n",
       " ('UNKNOWN', 'http://www.textfiles.com/etext/FICTION/2city11.txt'),\n",
       " ('UNKNOWN', 'http://www.textfiles.com/etext/FICTION/7gabl10.txt'),\n",
       " ('UNKNOWN', 'http://www.textfiles.com/etext/FICTION/80day10.txt'),\n",
       " ('UNKNOWN', 'http://www.textfiles.com/etext/FICTION/abbott-flatland-361.txt'),\n",
       " ('UNKNOWN', 'http://www.textfiles.com/etext/FICTION/aeneid.txt'),\n",
       " ('UNKNOWN', 'http://www.textfiles.com/etext/FICTION/aesop11.txt'),\n",
       " ('UNKNOWN', 'http://www.textfiles.com/etext/FICTION/aesopa10.txt'),\n",
       " ('UNKNOWN', 'http://www.textfiles.com/etext/FICTION/alad10.txt'),\n",
       " ('UNKNOWN', 'http://www.textfiles.com/etext/FICTION/alcott-flower-619.txt'),\n",
       " ('UNKNOWN', 'http://www.textfiles.com/etext/FICTION/alcott-little-261.txt'),\n",
       " ('UNKNOWN', 'http://www.textfiles.com/etext/FICTION/alexb10.txt'),\n",
       " ('UNKNOWN', 'http://www.textfiles.com/etext/FICTION/alger-cast-544.txt'),\n",
       " ('UNKNOWN', 'http://www.textfiles.com/etext/FICTION/alger-ragged-545.txt'),\n",
       " ('UNKNOWN',\n",
       "  'http://www.textfiles.com/etext/FICTION/alger-struggling-546.txt'),\n",
       " ('UNKNOWN', 'http://www.textfiles.com/etext/FICTION/alice.txt'),\n",
       " ('UNKNOWN', 'http://www.textfiles.com/etext/FICTION/alice11.txt'),\n",
       " ('UNKNOWN', 'http://www.textfiles.com/etext/FICTION/alice13a.txt'),\n",
       " ('UNKNOWN', 'http://www.textfiles.com/etext/FICTION/alice30.txt'),\n",
       " ('UNKNOWN', 'http://www.textfiles.com/etext/FICTION/alicewonder.txt'),\n",
       " ('UNKNOWN', 'http://www.textfiles.com/etext/FICTION/allflesh'),\n",
       " ('UNKNOWN', 'http://www.textfiles.com/etext/FICTION/ameri10.txt'),\n",
       " ('UNKNOWN', 'http://www.textfiles.com/etext/FICTION/anna_karenina'),\n",
       " ('UNKNOWN', 'http://www.textfiles.com/etext/FICTION/anne11.txt'),\n",
       " ('UNKNOWN',\n",
       "  'http://www.textfiles.com/etext/FICTION/anonymous-beowulf-543.txt'),\n",
       " ('UNKNOWN', 'http://www.textfiles.com/etext/FICTION/apoc10.txt'),\n",
       " ('UNKNOWN', 'http://www.textfiles.com/etext/FICTION/apoc9.txt'),\n",
       " ('UNKNOWN', 'http://www.textfiles.com/etext/FICTION/arabn10.txt'),\n",
       " ('UNKNOWN', 'http://www.textfiles.com/etext/FICTION/arabn11.txt'),\n",
       " ('UNKNOWN', 'http://www.textfiles.com/etext/FICTION/asprn10.txt'),\n",
       " ('UNKNOWN', 'http://www.textfiles.com/etext/FICTION/attic10.txt'),\n",
       " ('UNKNOWN', 'http://www.textfiles.com/etext/FICTION/atw80d.txt'),\n",
       " ('UNKNOWN', 'http://www.textfiles.com/etext/FICTION/austen-emma-754.txt'),\n",
       " ('UNKNOWN',\n",
       "  'http://www.textfiles.com/etext/FICTION/austen-northanger-755.txt'),\n",
       " ('UNKNOWN',\n",
       "  'http://www.textfiles.com/etext/FICTION/austen-persuasion-756.txt'),\n",
       " ('UNKNOWN', 'http://www.textfiles.com/etext/FICTION/austen-pride-757.txt'),\n",
       " ('UNKNOWN', 'http://www.textfiles.com/etext/FICTION/austen-sense-758.txt'),\n",
       " ('UNKNOWN', 'http://www.textfiles.com/etext/FICTION/avon10.txt'),\n",
       " ('UNKNOWN', 'http://www.textfiles.com/etext/FICTION/awakn11.txt'),\n",
       " ('UNKNOWN', 'http://www.textfiles.com/etext/FICTION/badge10.txt'),\n",
       " ('UNKNOWN', 'http://www.textfiles.com/etext/FICTION/barrie-peter-277.txt'),\n",
       " ('UNKNOWN', 'http://www.textfiles.com/etext/FICTION/baum-marvelous-278.txt'),\n",
       " ('UNKNOWN', 'http://www.textfiles.com/etext/FICTION/baum-wonderful-282.txt'),\n",
       " ('UNKNOWN', 'http://www.textfiles.com/etext/FICTION/behn-oroonoko-283.txt'),\n",
       " ('UNKNOWN', 'http://www.textfiles.com/etext/FICTION/behn-rover-284.txt'),\n",
       " ('UNKNOWN', 'http://www.textfiles.com/etext/FICTION/bells.txt'),\n",
       " ('UNKNOWN', 'http://www.textfiles.com/etext/FICTION/benito_cereno'),\n",
       " ('UNKNOWN', 'http://www.textfiles.com/etext/FICTION/bible10.txt'),\n",
       " ('UNKNOWN', 'http://www.textfiles.com/etext/FICTION/bierce-can-285.txt'),\n",
       " ('UNKNOWN', 'http://www.textfiles.com/etext/FICTION/bierce-can-547.txt'),\n",
       " ('UNKNOWN', 'http://www.textfiles.com/etext/FICTION/bierce-devils-286.txt'),\n",
       " ('UNKNOWN', 'http://www.textfiles.com/etext/FICTION/billy_budd'),\n",
       " ('UNKNOWN', 'http://www.textfiles.com/etext/FICTION/black_riders'),\n",
       " ('UNKNOWN', 'http://www.textfiles.com/etext/FICTION/blexp10.txt'),\n",
       " ('UNKNOWN', 'http://www.textfiles.com/etext/FICTION/blue_hotel'),\n",
       " ('UNKNOWN', 'http://www.textfiles.com/etext/FICTION/bronte-jane-178.txt'),\n",
       " ('UNKNOWN',\n",
       "  'http://www.textfiles.com/etext/FICTION/bronte-wuthering-179.txt'),\n",
       " ('UNKNOWN',\n",
       "  'http://www.textfiles.com/etext/FICTION/browning-dramatic-287.txt'),\n",
       " ('UNKNOWN', 'http://www.textfiles.com/etext/FICTION/buchan-thirty-290.txt'),\n",
       " ('UNKNOWN', 'http://www.textfiles.com/etext/FICTION/bucoe10.txt'),\n",
       " ('UNKNOWN', 'http://www.textfiles.com/etext/FICTION/bulwer-last-566.txt'),\n",
       " ('UNKNOWN', 'http://www.textfiles.com/etext/FICTION/bunyan-pilgrims-304.txt'),\n",
       " ('UNKNOWN',\n",
       "  'http://www.textfiles.com/etext/FICTION/burke-reflections-307.txt'),\n",
       " ('UNKNOWN', 'http://www.textfiles.com/etext/FICTION/burnett-sara-308.txt'),\n",
       " ('UNKNOWN', 'http://www.textfiles.com/etext/FICTION/burnett-secret-313.txt'),\n",
       " ('UNKNOWN', 'http://www.textfiles.com/etext/FICTION/burton-arabian-363.txt'),\n",
       " ('UNKNOWN', 'http://www.textfiles.com/etext/FICTION/butler-way-362.txt'),\n",
       " ('UNKNOWN', 'http://www.textfiles.com/etext/FICTION/byron-don-315.txt'),\n",
       " ('UNKNOWN', 'http://www.textfiles.com/etext/FICTION/callw10.txt'),\n",
       " ('UNKNOWN', 'http://www.textfiles.com/etext/FICTION/callwild'),\n",
       " ('UNKNOWN', 'http://www.textfiles.com/etext/FICTION/cansuch.txt'),\n",
       " ('UNKNOWN', 'http://www.textfiles.com/etext/FICTION/canterbu.txt'),\n",
       " ('UNKNOWN', 'http://www.textfiles.com/etext/FICTION/carol10.txt'),\n",
       " ('UNKNOWN', 'http://www.textfiles.com/etext/FICTION/carroll-alices-99.txt'),\n",
       " ('UNKNOWN', 'http://www.textfiles.com/etext/FICTION/carroll-hunting-100.txt'),\n",
       " ('UNKNOWN', 'http://www.textfiles.com/etext/FICTION/carroll-through-101.txt'),\n",
       " ('UNKNOWN',\n",
       "  'http://www.textfiles.com/etext/FICTION/cather-alexanders-365.txt'),\n",
       " ('UNKNOWN', 'http://www.textfiles.com/etext/FICTION/cather-o-366.txt'),\n",
       " ('UNKNOWN', 'http://www.textfiles.com/etext/FICTION/cather-song-367.txt'),\n",
       " ('UNKNOWN', 'http://www.textfiles.com/etext/FICTION/center_earth'),\n",
       " ('UNKNOWN', 'http://www.textfiles.com/etext/FICTION/charlema'),\n",
       " ('UNKNOWN',\n",
       "  'http://www.textfiles.com/etext/FICTION/chaucer-canterbury-102.txt'),\n",
       " ('UNKNOWN', 'http://www.textfiles.com/etext/FICTION/chilc10.txt'),\n",
       " ('UNKNOWN', 'http://www.textfiles.com/etext/FICTION/child10.txt'),\n",
       " ('UNKNOWN', 'http://www.textfiles.com/etext/FICTION/chivalry'),\n",
       " ('UNKNOWN', 'http://www.textfiles.com/etext/FICTION/civil10.txt'),\n",
       " ('UNKNOWN', 'http://www.textfiles.com/etext/FICTION/civildis.txt'),\n",
       " ('UNKNOWN', 'http://www.textfiles.com/etext/FICTION/cleland-fanny-368.txt'),\n",
       " ('UNKNOWN', 'http://www.textfiles.com/etext/FICTION/clotl10.txt'),\n",
       " ('UNKNOWN',\n",
       "  'http://www.textfiles.com/etext/FICTION/coleridge-christabel-369.txt'),\n",
       " ('UNKNOWN', 'http://www.textfiles.com/etext/FICTION/coleridge-kubla-370.txt'),\n",
       " ('UNKNOWN', 'http://www.textfiles.com/etext/FICTION/coleridge-rime-371.txt'),\n",
       " ('UNKNOWN', 'http://www.textfiles.com/etext/FICTION/comsn10.txt'),\n",
       " ('UNKNOWN', 'http://www.textfiles.com/etext/FICTION/conrad-heart-372.txt'),\n",
       " ('UNKNOWN', 'http://www.textfiles.com/etext/FICTION/conrad-lord-373.txt'),\n",
       " ('UNKNOWN', 'http://www.textfiles.com/etext/FICTION/conrad-secret-555.txt'),\n",
       " ('UNKNOWN', 'http://www.textfiles.com/etext/FICTION/crane-black-374.txt'),\n",
       " ('UNKNOWN', 'http://www.textfiles.com/etext/FICTION/crane-blue-375.txt'),\n",
       " ('UNKNOWN', 'http://www.textfiles.com/etext/FICTION/crane-red-376.txt'),\n",
       " ('UNKNOWN', 'http://www.textfiles.com/etext/FICTION/crane-war-377.txt'),\n",
       " ('UNKNOWN', 'http://www.textfiles.com/etext/FICTION/crito.txt'),\n",
       " ('UNKNOWN', 'http://www.textfiles.com/etext/FICTION/crowd'),\n",
       " ('UNKNOWN', 'http://www.textfiles.com/etext/FICTION/crowd10a.txt'),\n",
       " ('UNKNOWN', 'http://www.textfiles.com/etext/FICTION/crowd13.txt'),\n",
       " ('UNKNOWN', 'http://www.textfiles.com/etext/FICTION/dana-two-378.txt'),\n",
       " ('UNKNOWN', 'http://www.textfiles.com/etext/FICTION/dasym10.txt'),\n",
       " ('UNKNOWN', 'http://www.textfiles.com/etext/FICTION/dcart10.txt'),\n",
       " ('UNKNOWN', 'http://www.textfiles.com/etext/FICTION/defoe-robinson-103.txt'),\n",
       " ('UNKNOWN', 'http://www.textfiles.com/etext/FICTION/der_einz.txt'),\n",
       " ('UNKNOWN', 'http://www.textfiles.com/etext/FICTION/dgray10.txt'),\n",
       " ('UNKNOWN', 'http://www.textfiles.com/etext/FICTION/dialog'),\n",
       " ('UNKNOWN', 'http://www.textfiles.com/etext/FICTION/dlleg10.txt'),\n",
       " ('UNKNOWN', 'http://www.textfiles.com/etext/FICTION/dmoro11.txt'),\n",
       " ('UNKNOWN', 'http://www.textfiles.com/etext/FICTION/don_juan'),\n",
       " ('UNKNOWN',\n",
       "  'http://www.textfiles.com/etext/FICTION/douglas-narrative-567.txt'),\n",
       " ('UNKNOWN', 'http://www.textfiles.com/etext/FICTION/douglass-my-637.txt'),\n",
       " ('UNKNOWN', 'http://www.textfiles.com/etext/FICTION/dracula'),\n",
       " ('UNKNOWN', 'http://www.textfiles.com/etext/FICTION/dracula.txt'),\n",
       " ('UNKNOWN', 'http://www.textfiles.com/etext/FICTION/dreiser-sister-393.txt'),\n",
       " ('UNKNOWN', 'http://www.textfiles.com/etext/FICTION/drnmy10.txt'),\n",
       " ('UNKNOWN', 'http://www.textfiles.com/etext/FICTION/dugl210.txt'),\n",
       " ('UNKNOWN', 'http://www.textfiles.com/etext/FICTION/duglas11.txt'),\n",
       " ('UNKNOWN', 'http://www.textfiles.com/etext/FICTION/dware10.txt'),\n",
       " ('UNKNOWN', 'http://www.textfiles.com/etext/FICTION/dwwww10.txt'),\n",
       " ('UNKNOWN', 'http://www.textfiles.com/etext/FICTION/ednam10.txt'),\n",
       " ('UNKNOWN', 'http://www.textfiles.com/etext/FICTION/eighty_days'),\n",
       " ('UNKNOWN', 'http://www.textfiles.com/etext/FICTION/elegy'),\n",
       " ('UNKNOWN', 'http://www.textfiles.com/etext/FICTION/eliot-silas-242.txt'),\n",
       " ('UNKNOWN', 'http://www.textfiles.com/etext/FICTION/emma10.txt'),\n",
       " ('UNKNOWN', 'http://www.textfiles.com/etext/FICTION/epithalamion'),\n",
       " ('UNKNOWN', 'http://www.textfiles.com/etext/FICTION/fable'),\n",
       " ('UNKNOWN', 'http://www.textfiles.com/etext/FICTION/faust'),\n",
       " ('UNKNOWN', 'http://www.textfiles.com/etext/FICTION/ffabl10.txt'),\n",
       " ('UNKNOWN',\n",
       "  'http://www.textfiles.com/etext/FICTION/fielding-history-243.txt'),\n",
       " ('UNKNOWN', 'http://www.textfiles.com/etext/FICTION/flat10.txt'),\n",
       " ('UNKNOWN', 'http://www.textfiles.com/etext/FICTION/flat10a.txt'),\n",
       " ('UNKNOWN', 'http://www.textfiles.com/etext/FICTION/forgd09.txt'),\n",
       " ('UNKNOWN', 'http://www.textfiles.com/etext/FICTION/forgd10.txt'),\n",
       " ('UNKNOWN', 'http://www.textfiles.com/etext/FICTION/frank11a.txt'),\n",
       " ('UNKNOWN', 'http://www.textfiles.com/etext/FICTION/freck10.txt'),\n",
       " ('UNKNOWN', 'http://www.textfiles.com/etext/FICTION/fuman10.txt'),\n",
       " ('UNKNOWN', 'http://www.textfiles.com/etext/FICTION/gardn10.txt'),\n",
       " ('UNKNOWN', 'http://www.textfiles.com/etext/FICTION/gay-beggars-251.txt'),\n",
       " ('UNKNOWN', 'http://www.textfiles.com/etext/FICTION/geore10.txt'),\n",
       " ('UNKNOWN', 'http://www.textfiles.com/etext/FICTION/gray-elegy-252.txt'),\n",
       " ('UNKNOWN', 'http://www.textfiles.com/etext/FICTION/gulistan'),\n",
       " ('UNKNOWN', 'http://www.textfiles.com/etext/FICTION/hardy-jude-132.txt'),\n",
       " ('UNKNOWN', 'http://www.textfiles.com/etext/FICTION/hbook10.txt'),\n",
       " ('UNKNOWN', 'http://www.textfiles.com/etext/FICTION/hdark11.txt'),\n",
       " ('UNKNOWN', 'http://www.textfiles.com/etext/FICTION/henry-gift-133.txt'),\n",
       " ('UNKNOWN', 'http://www.textfiles.com/etext/FICTION/herland'),\n",
       " ('UNKNOWN', 'http://www.textfiles.com/etext/FICTION/hhotl10.txt'),\n",
       " ('UNKNOWN', 'http://www.textfiles.com/etext/FICTION/hisong12.txt'),\n",
       " ('UNKNOWN', 'http://www.textfiles.com/etext/FICTION/hrlnd10.txt'),\n",
       " ('UNKNOWN', 'http://www.textfiles.com/etext/FICTION/hubbard-message-394.txt'),\n",
       " ('UNKNOWN', 'http://www.textfiles.com/etext/FICTION/hydea10.txt'),\n",
       " ('UNKNOWN', 'http://www.textfiles.com/etext/FICTION/iland10.txt'),\n",
       " ('UNKNOWN', 'http://www.textfiles.com/etext/FICTION/infrb10.txt'),\n",
       " ('UNKNOWN', 'http://www.textfiles.com/etext/FICTION/intep10.txt'),\n",
       " ('UNKNOWN', 'http://www.textfiles.com/etext/FICTION/invisman.txt'),\n",
       " ('UNKNOWN', 'http://www.textfiles.com/etext/FICTION/ironheel'),\n",
       " ('UNKNOWN', 'http://www.textfiles.com/etext/FICTION/ironmask'),\n",
       " ('UNKNOWN', 'http://www.textfiles.com/etext/FICTION/ivnho11.txt'),\n",
       " ('UNKNOWN', 'http://www.textfiles.com/etext/FICTION/jaberwoc.hum'),\n",
       " ('UNKNOWN', 'http://www.textfiles.com/etext/FICTION/james-portrait-134.txt'),\n",
       " ('UNKNOWN',\n",
       "  'http://www.textfiles.com/etext/FICTION/james-washington-135.txt'),\n",
       " ('UNKNOWN', 'http://www.textfiles.com/etext/FICTION/jane_eyre'),\n",
       " ('UNKNOWN', 'http://www.textfiles.com/etext/FICTION/jnglb10.txt'),\n",
       " ('UNKNOWN', 'http://www.textfiles.com/etext/FICTION/journey.txt'),\n",
       " ('UNKNOWN', 'http://www.textfiles.com/etext/FICTION/jude11.txt'),\n",
       " ('UNKNOWN', 'http://www.textfiles.com/etext/FICTION/kidnap.txt'),\n",
       " ('UNKNOWN', 'http://www.textfiles.com/etext/FICTION/kipling-jungle-148.txt'),\n",
       " ('UNKNOWN', 'http://www.textfiles.com/etext/FICTION/kipling-kim-149.txt'),\n",
       " ('UNKNOWN', 'http://www.textfiles.com/etext/FICTION/lang-arabian-200.txt'),\n",
       " ('UNKNOWN', 'http://www.textfiles.com/etext/FICTION/lesms10.txt'),\n",
       " ('UNKNOWN', 'http://www.textfiles.com/etext/FICTION/lewis-our-202.txt'),\n",
       " ('UNKNOWN', 'http://www.textfiles.com/etext/FICTION/lglass18.txt'),\n",
       " ('UNKNOWN', 'http://www.textfiles.com/etext/FICTION/li_women'),\n",
       " ('UNKNOWN', 'http://www.textfiles.com/etext/FICTION/limbr10.txt'),\n",
       " ('UNKNOWN', 'http://www.textfiles.com/etext/FICTION/london-call-203.txt'),\n",
       " ('UNKNOWN', 'http://www.textfiles.com/etext/FICTION/london-iron-204.txt'),\n",
       " ('UNKNOWN', 'http://www.textfiles.com/etext/FICTION/london-martin-768.txt'),\n",
       " ('UNKNOWN', 'http://www.textfiles.com/etext/FICTION/london-people-205.txt'),\n",
       " ('UNKNOWN', 'http://www.textfiles.com/etext/FICTION/london-sea-206.txt'),\n",
       " ('UNKNOWN', 'http://www.textfiles.com/etext/FICTION/london-son-207.txt'),\n",
       " ('UNKNOWN', 'http://www.textfiles.com/etext/FICTION/london-to-208.txt'),\n",
       " ('UNKNOWN', 'http://www.textfiles.com/etext/FICTION/london-white-209.txt'),\n",
       " ('UNKNOWN', 'http://www.textfiles.com/etext/FICTION/longfellow-paul-210.txt'),\n",
       " ('UNKNOWN', 'http://www.textfiles.com/etext/FICTION/longfellow-song-118.txt'),\n",
       " ('UNKNOWN',\n",
       "  'http://www.textfiles.com/etext/FICTION/longfellow-village-211.txt'),\n",
       " ('UNKNOWN', 'http://www.textfiles.com/etext/FICTION/lprss11.txt'),\n",
       " ('UNKNOWN', 'http://www.textfiles.com/etext/FICTION/macdonald-at-212.txt'),\n",
       " ('UNKNOWN', 'http://www.textfiles.com/etext/FICTION/madambov.txt'),\n",
       " ('UNKNOWN', 'http://www.textfiles.com/etext/FICTION/magi10.txt'),\n",
       " ('UNKNOWN', 'http://www.textfiles.com/etext/FICTION/mansf11.txt'),\n",
       " ('UNKNOWN', 'http://www.textfiles.com/etext/FICTION/maria10.txt'),\n",
       " ('UNKNOWN', 'http://www.textfiles.com/etext/FICTION/mayrc11.txt'),\n",
       " ('UNKNOWN', 'http://www.textfiles.com/etext/FICTION/mcteg10.txt'),\n",
       " ('UNKNOWN', 'http://www.textfiles.com/etext/FICTION/mdmar10.txt'),\n",
       " ('UNKNOWN', 'http://www.textfiles.com/etext/FICTION/melville-benito-104.txt'),\n",
       " ('UNKNOWN', 'http://www.textfiles.com/etext/FICTION/melville-billy-105.txt'),\n",
       " ('UNKNOWN', 'http://www.textfiles.com/etext/FICTION/melville-moby-106.txt'),\n",
       " ('UNKNOWN', 'http://www.textfiles.com/etext/FICTION/melville-typee-107.txt'),\n",
       " ('UNKNOWN', 'http://www.textfiles.com/etext/FICTION/memoir_behn'),\n",
       " ('UNKNOWN', 'http://www.textfiles.com/etext/FICTION/meno210.txt'),\n",
       " ('UNKNOWN', 'http://www.textfiles.com/etext/FICTION/message'),\n",
       " ('UNKNOWN',\n",
       "  'http://www.textfiles.com/etext/FICTION/millay-renascence-214.txt'),\n",
       " ('UNKNOWN', 'http://www.textfiles.com/etext/FICTION/mmars10.txt'),\n",
       " ('UNKNOWN', 'http://www.textfiles.com/etext/FICTION/mobydick'),\n",
       " ('UNKNOWN', 'http://www.textfiles.com/etext/FICTION/mobydick.txt'),\n",
       " ('UNKNOWN', 'http://www.textfiles.com/etext/FICTION/monroe-d.oct'),\n",
       " ('UNKNOWN', 'http://www.textfiles.com/etext/FICTION/monst10.txt'),\n",
       " ('UNKNOWN', 'http://www.textfiles.com/etext/FICTION/moon10.txt'),\n",
       " ('UNKNOWN', 'http://www.textfiles.com/etext/FICTION/moon10a.txt'),\n",
       " ('UNKNOWN', 'http://www.textfiles.com/etext/FICTION/moona10.txt'),\n",
       " ('UNKNOWN', 'http://www.textfiles.com/etext/FICTION/moore-night-396.txt'),\n",
       " ('UNKNOWN', 'http://www.textfiles.com/etext/FICTION/more-utopia-221.txt'),\n",
       " ('UNKNOWN',\n",
       "  'http://www.textfiles.com/etext/FICTION/morley-parnassus-222.txt'),\n",
       " ('UNKNOWN', 'http://www.textfiles.com/etext/FICTION/mston11.txt'),\n",
       " ('UNKNOWN', 'http://www.textfiles.com/etext/FICTION/myant10.txt'),\n",
       " ('UNKNOWN', 'http://www.textfiles.com/etext/FICTION/nabby10.txt'),\n",
       " ('UNKNOWN', 'http://www.textfiles.com/etext/FICTION/nativ10.txt'),\n",
       " ('UNKNOWN', 'http://www.textfiles.com/etext/FICTION/nativ11.txt'),\n",
       " ('UNKNOWN', 'http://www.textfiles.com/etext/FICTION/norris-pit-224.txt'),\n",
       " ('UNKNOWN', 'http://www.textfiles.com/etext/FICTION/nwind10.txt'),\n",
       " ('UNKNOWN', 'http://www.textfiles.com/etext/FICTION/oedip10.txt'),\n",
       " ('UNKNOWN', 'http://www.textfiles.com/etext/FICTION/opion11.txt'),\n",
       " ('UNKNOWN', 'http://www.textfiles.com/etext/FICTION/orczy-scarlet-225.txt'),\n",
       " ('UNKNOWN', 'http://www.textfiles.com/etext/FICTION/ortho10.txt'),\n",
       " ('UNKNOWN', 'http://www.textfiles.com/etext/FICTION/ortho13.txt'),\n",
       " ('UNKNOWN', 'http://www.textfiles.com/etext/FICTION/ozland10.txt'),\n",
       " ('UNKNOWN', 'http://www.textfiles.com/etext/FICTION/pblue10.txt'),\n",
       " ('UNKNOWN', 'http://www.textfiles.com/etext/FICTION/peergynt'),\n",
       " ('UNKNOWN', 'http://www.textfiles.com/etext/FICTION/people_abyss'),\n",
       " ('UNKNOWN', 'http://www.textfiles.com/etext/FICTION/persu11.txt'),\n",
       " ('UNKNOWN', 'http://www.textfiles.com/etext/FICTION/peter14a.txt'),\n",
       " ('UNKNOWN', 'http://www.textfiles.com/etext/FICTION/phillips-susan-402.txt'),\n",
       " ('UNKNOWN', 'http://www.textfiles.com/etext/FICTION/pilgrm10.txt'),\n",
       " ('UNKNOWN', 'http://www.textfiles.com/etext/FICTION/pimpernel'),\n",
       " ('UNKNOWN', 'http://www.textfiles.com/etext/FICTION/plgrm10.txt'),\n",
       " ('UNKNOWN', 'http://www.textfiles.com/etext/FICTION/porter-just-549.txt'),\n",
       " ('UNKNOWN',\n",
       "  'http://www.textfiles.com/etext/FICTION/prescott-history-565.txt'),\n",
       " ('UNKNOWN', 'http://www.textfiles.com/etext/FICTION/prufrock.txt'),\n",
       " ('UNKNOWN', 'http://www.textfiles.com/etext/FICTION/quixote'),\n",
       " ('UNKNOWN', 'http://www.textfiles.com/etext/FICTION/r_crusoe'),\n",
       " ('UNKNOWN', 'http://www.textfiles.com/etext/FICTION/redbadge'),\n",
       " ('UNKNOWN', 'http://www.textfiles.com/etext/FICTION/redcirc.txt'),\n",
       " ('UNKNOWN', 'http://www.textfiles.com/etext/FICTION/reigate.txt'),\n",
       " ('UNKNOWN', 'http://www.textfiles.com/etext/FICTION/rgain10.txt'),\n",
       " ('UNKNOWN', 'http://www.textfiles.com/etext/FICTION/rime10.txt'),\n",
       " ('UNKNOWN', 'http://www.textfiles.com/etext/FICTION/rinehart-bab-403.txt'),\n",
       " ('UNKNOWN', 'http://www.textfiles.com/etext/FICTION/rubai10.txt'),\n",
       " ('UNKNOWN', 'http://www.textfiles.com/etext/FICTION/saki-chronicles-151.txt'),\n",
       " ('UNKNOWN', 'http://www.textfiles.com/etext/FICTION/saki-reginald-152.txt'),\n",
       " ('UNKNOWN', 'http://www.textfiles.com/etext/FICTION/saki-reginald-153.txt'),\n",
       " ('UNKNOWN', 'http://www.textfiles.com/etext/FICTION/saki-unbearable-618.txt'),\n",
       " ('UNKNOWN', 'http://www.textfiles.com/etext/FICTION/sandb10.txt'),\n",
       " ('UNKNOWN',\n",
       "  'http://www.textfiles.com/etext/FICTION/sandburg-chicago-156.txt'),\n",
       " ('UNKNOWN', 'http://www.textfiles.com/etext/FICTION/sarac10.txt'),\n",
       " ('UNKNOWN', 'http://www.textfiles.com/etext/FICTION/sawy210.txt'),\n",
       " ('UNKNOWN', 'http://www.textfiles.com/etext/FICTION/scarlet1.txt'),\n",
       " ('UNKNOWN', 'http://www.textfiles.com/etext/FICTION/scarp10.txt'),\n",
       " ('UNKNOWN', 'http://www.textfiles.com/etext/FICTION/scarr10.txt'),\n",
       " ('UNKNOWN',\n",
       "  'http://www.textfiles.com/etext/FICTION/scott-chronicles-158.txt'),\n",
       " ('UNKNOWN', 'http://www.textfiles.com/etext/FICTION/scott-ivanhoe-159.txt'),\n",
       " ('UNKNOWN', 'http://www.textfiles.com/etext/FICTION/scott-keepsake-551.txt'),\n",
       " ('UNKNOWN', 'http://www.textfiles.com/etext/FICTION/scrlt11.txt'),\n",
       " ('UNKNOWN', 'http://www.textfiles.com/etext/FICTION/sea_wolf'),\n",
       " ('UNKNOWN',\n",
       "  'http://www.textfiles.com/etext/FICTION/shelley-frankenstein-160.txt'),\n",
       " ('UNKNOWN', 'http://www.textfiles.com/etext/FICTION/silas_marner'),\n",
       " ('UNKNOWN', 'http://www.textfiles.com/etext/FICTION/sister_carrie'),\n",
       " ('UNKNOWN', 'http://www.textfiles.com/etext/FICTION/sleep10.txt'),\n",
       " ('UNKNOWN', 'http://www.textfiles.com/etext/FICTION/snark12.txt'),\n",
       " ('UNKNOWN', 'http://www.textfiles.com/etext/FICTION/snowy10.txt'),\n",
       " ('UNKNOWN', 'http://www.textfiles.com/etext/FICTION/son_wolf'),\n",
       " ('UNKNOWN', 'http://www.textfiles.com/etext/FICTION/song10.txt'),\n",
       " ('UNKNOWN', 'http://www.textfiles.com/etext/FICTION/sonsa10.txt'),\n",
       " ('UNKNOWN', 'http://www.textfiles.com/etext/FICTION/sophist.txt'),\n",
       " ('UNKNOWN', 'http://www.textfiles.com/etext/FICTION/sophistr.txt'),\n",
       " ('UNKNOWN', 'http://www.textfiles.com/etext/FICTION/speckldb.txt'),\n",
       " ('UNKNOWN', 'http://www.textfiles.com/etext/FICTION/spyuk10.txt'),\n",
       " ('UNKNOWN', 'http://www.textfiles.com/etext/FICTION/sshar11.txt'),\n",
       " ('UNKNOWN', 'http://www.textfiles.com/etext/FICTION/stoker-dracula-168.txt'),\n",
       " ('UNKNOWN', 'http://www.textfiles.com/etext/FICTION/stoker-draculas-169.txt'),\n",
       " ('UNKNOWN', 'http://www.textfiles.com/etext/FICTION/stratton-at-550.txt'),\n",
       " ('UNKNOWN',\n",
       "  'http://www.textfiles.com/etext/FICTION/stratton-freckles-404.txt'),\n",
       " ('UNKNOWN', 'http://www.textfiles.com/etext/FICTION/stratton-girl-405.txt'),\n",
       " ('UNKNOWN', 'http://www.textfiles.com/etext/FICTION/stratton-song-406.txt'),\n",
       " ('UNKNOWN', 'http://www.textfiles.com/etext/FICTION/swift-gullivers-728.txt'),\n",
       " ('UNKNOWN', 'http://www.textfiles.com/etext/FICTION/swift-modest-171.txt'),\n",
       " ('UNKNOWN', 'http://www.textfiles.com/etext/FICTION/tennyson-charge-191.txt'),\n",
       " ('UNKNOWN', 'http://www.textfiles.com/etext/FICTION/tess10.txt'),\n",
       " ('UNKNOWN', 'http://www.textfiles.com/etext/FICTION/the_mast'),\n",
       " ('UNKNOWN', 'http://www.textfiles.com/etext/FICTION/thots.txt'),\n",
       " ('UNKNOWN', 'http://www.textfiles.com/etext/FICTION/time_machine'),\n",
       " ('UNKNOWN', 'http://www.textfiles.com/etext/FICTION/timem10.txt'),\n",
       " ('UNKNOWN', 'http://www.textfiles.com/etext/FICTION/treas10.txt'),\n",
       " ('UNKNOWN', 'http://www.textfiles.com/etext/FICTION/trollope-ayalas-192.txt'),\n",
       " ('UNKNOWN', 'http://www.textfiles.com/etext/FICTION/tturn10.txt'),\n",
       " ('UNKNOWN', 'http://www.textfiles.com/etext/FICTION/typee'),\n",
       " ('UNKNOWN', 'http://www.textfiles.com/etext/FICTION/under_sea'),\n",
       " ('UNKNOWN', 'http://www.textfiles.com/etext/FICTION/utomc10.txt'),\n",
       " ('UNKNOWN', 'http://www.textfiles.com/etext/FICTION/voout10.txt'),\n",
       " ('UNKNOWN', 'http://www.textfiles.com/etext/FICTION/waldn10.txt'),\n",
       " ('UNKNOWN', 'http://www.textfiles.com/etext/FICTION/wallace-ben-564.txt'),\n",
       " ('UNKNOWN', 'http://www.textfiles.com/etext/FICTION/war_kind'),\n",
       " ('UNKNOWN', 'http://www.textfiles.com/etext/FICTION/war_peace_text'),\n",
       " ('UNKNOWN', 'http://www.textfiles.com/etext/FICTION/war_worlds'),\n",
       " ('UNKNOWN', 'http://www.textfiles.com/etext/FICTION/ware10.txt'),\n",
       " ('UNKNOWN', 'http://www.textfiles.com/etext/FICTION/warpeace.txt'),\n",
       " ('UNKNOWN', 'http://www.textfiles.com/etext/FICTION/warw10.txt'),\n",
       " ('UNKNOWN', 'http://www.textfiles.com/etext/FICTION/washington-up-194.txt'),\n",
       " ('UNKNOWN', 'http://www.textfiles.com/etext/FICTION/wells-invisible-187.txt'),\n",
       " ('UNKNOWN', 'http://www.textfiles.com/etext/FICTION/wells-time-188.txt'),\n",
       " ('UNKNOWN', 'http://www.textfiles.com/etext/FICTION/wells-war-189.txt'),\n",
       " ('UNKNOWN', 'http://www.textfiles.com/etext/FICTION/white-history-554.txt'),\n",
       " ('UNKNOWN', 'http://www.textfiles.com/etext/FICTION/white_fang'),\n",
       " ('UNKNOWN', 'http://www.textfiles.com/etext/FICTION/whitman-leaves-195.txt'),\n",
       " ('UNKNOWN', 'http://www.textfiles.com/etext/FICTION/wifrb10.txt'),\n",
       " ('UNKNOWN', 'http://www.textfiles.com/etext/FICTION/wizoz10.txt'),\n",
       " ('UNKNOWN', 'http://www.textfiles.com/etext/FICTION/wizrd_oz'),\n",
       " ('UNKNOWN',\n",
       "  'http://www.textfiles.com/etext/FICTION/wollstonecraft-maria-196.txt'),\n",
       " ('UNKNOWN',\n",
       "  'http://www.textfiles.com/etext/FICTION/wollstonecraft-vindication-197.txt'),\n",
       " ('UNKNOWN', 'http://www.textfiles.com/etext/FICTION/wrecker.txt'),\n",
       " ('UNKNOWN',\n",
       "  'http://www.textfiles.com/etext/FICTION/wright-uncrowned-407.txt'),\n",
       " ('UNKNOWN', 'http://www.textfiles.com/etext/FICTION/wwend11.txt'),\n",
       " ('UNKNOWN', 'http://www.textfiles.com/etext/FICTION/zenda10.txt'),\n",
       " ('UNKNOWN', 'http://www.textfiles.com/etext/MODERN/2600-9-3.txt'),\n",
       " ('UNKNOWN', 'http://www.textfiles.com/etext/MODERN/agrippa.txt'),\n",
       " ('UNKNOWN', 'http://www.textfiles.com/etext/MODERN/approach.txt'),\n",
       " ('UNKNOWN', 'http://www.textfiles.com/etext/MODERN/bigd10.txt'),\n",
       " ('UNKNOWN', 'http://www.textfiles.com/etext/MODERN/boh-10f8.txt'),\n",
       " ('UNKNOWN', 'http://www.textfiles.com/etext/MODERN/clinton1.txt'),\n",
       " ('UNKNOWN', 'http://www.textfiles.com/etext/MODERN/clinton2.txt'),\n",
       " ('UNKNOWN', 'http://www.textfiles.com/etext/MODERN/clinton3.txt'),\n",
       " ('UNKNOWN', 'http://www.textfiles.com/etext/MODERN/ejournal21.txt'),\n",
       " ('UNKNOWN', 'http://www.textfiles.com/etext/MODERN/eyeargon.txt'),\n",
       " ('UNKNOWN', 'http://www.textfiles.com/etext/MODERN/hack11a.txt'),\n",
       " ('UNKNOWN', 'http://www.textfiles.com/etext/MODERN/hckr_hnd.txt'),\n",
       " ('UNKNOWN', 'http://www.textfiles.com/etext/MODERN/hhandbook.txt'),\n",
       " ('UNKNOWN', 'http://www.textfiles.com/etext/MODERN/hhbk'),\n",
       " ('UNKNOWN', 'http://www.textfiles.com/etext/MODERN/hhgi10.txt'),\n",
       " ('UNKNOWN', 'http://www.textfiles.com/etext/MODERN/jargn10.txt'),\n",
       " ('UNKNOWN', 'http://www.textfiles.com/etext/MODERN/last_book_project'),\n",
       " ('UNKNOWN', 'http://www.textfiles.com/etext/MODERN/locet10.txt'),\n",
       " ('UNKNOWN', 'http://www.textfiles.com/etext/MODERN/net-letter-guide'),\n",
       " ('UNKNOWN', 'http://www.textfiles.com/etext/MODERN/online11.txt'),\n",
       " ('UNKNOWN', 'http://www.textfiles.com/etext/MODERN/oxford'),\n",
       " ('UNKNOWN', 'http://www.textfiles.com/etext/MODERN/price10.txt'),\n",
       " ('UNKNOWN', 'http://www.textfiles.com/etext/MODERN/radio10a.txt'),\n",
       " ('UNKNOWN', 'http://www.textfiles.com/etext/MODERN/tc_read.me'),\n",
       " ('UNKNOWN', 'http://www.textfiles.com/etext/MODERN/termc10.txt'),\n",
       " ('UNKNOWN', 'http://www.textfiles.com/etext/MODERN/termcomp.1'),\n",
       " ('UNKNOWN', 'http://www.textfiles.com/etext/MODERN/termcomp.2'),\n",
       " ('UNKNOWN', 'http://www.textfiles.com/etext/MODERN/termcomp.3'),\n",
       " ('UNKNOWN', 'http://www.textfiles.com/etext/MODERN/termcomp.4'),\n",
       " ('UNKNOWN', 'http://www.textfiles.com/etext/MODERN/uscensus.txt'),\n",
       " ('UNKNOWN', 'http://www.textfiles.com/etext/MODERN/viols10.txt'),\n",
       " ('UNKNOWN', 'http://www.textfiles.com/etext/MODERN/wmgib10.txt'),\n",
       " ('UNKNOWN', 'http://www.textfiles.com/etext/MODERN/zen10.txt'),\n",
       " ('WILDE',\n",
       "  'http://www.textfiles.com/etext/AUTHORS/WILDE/wilde-ballad-611.txt'),\n",
       " ('WILDE',\n",
       "  'http://www.textfiles.com/etext/AUTHORS/WILDE/wilde-burden-612.txt'),\n",
       " ('WILDE',\n",
       "  'http://www.textfiles.com/etext/AUTHORS/WILDE/wilde-charmides-601.txt'),\n",
       " ('WILDE',\n",
       "  'http://www.textfiles.com/etext/AUTHORS/WILDE/wilde-eleutheria-602.txt'),\n",
       " ('WILDE',\n",
       "  'http://www.textfiles.com/etext/AUTHORS/WILDE/wilde-flower-603.txt'),\n",
       " ('WILDE',\n",
       "  'http://www.textfiles.com/etext/AUTHORS/WILDE/wilde-flowers-604.txt'),\n",
       " ('WILDE',\n",
       "  'http://www.textfiles.com/etext/AUTHORS/WILDE/wilde-fourth-613.txt'),\n",
       " ('WILDE',\n",
       "  'http://www.textfiles.com/etext/AUTHORS/WILDE/wilde-garden-614.txt'),\n",
       " ('WILDE',\n",
       "  'http://www.textfiles.com/etext/AUTHORS/WILDE/wilde-humanitad-605.txt'),\n",
       " ('WILDE',\n",
       "  'http://www.textfiles.com/etext/AUTHORS/WILDE/wilde-impressions-606.txt'),\n",
       " ('WILDE',\n",
       "  'http://www.textfiles.com/etext/AUTHORS/WILDE/wilde-miscellaneous-607.txt'),\n",
       " ('WILDE',\n",
       "  'http://www.textfiles.com/etext/AUTHORS/WILDE/wilde-panthea-608.txt'),\n",
       " ('WILDE',\n",
       "  'http://www.textfiles.com/etext/AUTHORS/WILDE/wilde-picture-615.txt'),\n",
       " ('WILDE',\n",
       "  'http://www.textfiles.com/etext/AUTHORS/WILDE/wilde-ravenna-609.txt'),\n",
       " ('WILDE', 'http://www.textfiles.com/etext/AUTHORS/WILDE/wilde-rosa-610.txt'),\n",
       " ('WILDE',\n",
       "  'http://www.textfiles.com/etext/AUTHORS/WILDE/wilde-sphinx-616.txt'),\n",
       " ('WILDE', 'http://www.textfiles.com/etext/AUTHORS/WILDE/wilde-wind-617.txt'),\n",
       " ('TWAIN', 'http://www.textfiles.com/etext/AUTHORS/TWAIN/abroad.mt'),\n",
       " ('TWAIN', 'http://www.textfiles.com/etext/AUTHORS/TWAIN/beqst11.txt'),\n",
       " ('TWAIN', 'http://www.textfiles.com/etext/AUTHORS/TWAIN/ghost.mt'),\n",
       " ('TWAIN', 'http://www.textfiles.com/etext/AUTHORS/TWAIN/hfinn10.txt'),\n",
       " ('TWAIN', 'http://www.textfiles.com/etext/AUTHORS/TWAIN/huck_finn'),\n",
       " ('TWAIN', 'http://www.textfiles.com/etext/AUTHORS/TWAIN/lmiss10.txt'),\n",
       " ('TWAIN', 'http://www.textfiles.com/etext/AUTHORS/TWAIN/onanism.txt'),\n",
       " ('TWAIN', 'http://www.textfiles.com/etext/AUTHORS/TWAIN/prince_pauper'),\n",
       " ('TWAIN', 'http://www.textfiles.com/etext/AUTHORS/TWAIN/pud_head'),\n",
       " ('TWAIN', 'http://www.textfiles.com/etext/AUTHORS/TWAIN/puddn10.txt'),\n",
       " ('TWAIN', 'http://www.textfiles.com/etext/AUTHORS/TWAIN/sawy210.txt'),\n",
       " ('TWAIN', 'http://www.textfiles.com/etext/AUTHORS/TWAIN/sawy311.txt'),\n",
       " ('TWAIN', 'http://www.textfiles.com/etext/AUTHORS/TWAIN/sawyr10.txt'),\n",
       " ('TWAIN', 'http://www.textfiles.com/etext/AUTHORS/TWAIN/speeches'),\n",
       " ('TWAIN', 'http://www.textfiles.com/etext/AUTHORS/TWAIN/tom_sawyer'),\n",
       " ('TWAIN', 'http://www.textfiles.com/etext/AUTHORS/TWAIN/tramp10.txt'),\n",
       " ('TWAIN', 'http://www.textfiles.com/etext/AUTHORS/TWAIN/twain-30-44.txt'),\n",
       " ('TWAIN',\n",
       "  'http://www.textfiles.com/etext/AUTHORS/TWAIN/twain-adventures-27.txt'),\n",
       " ('TWAIN',\n",
       "  'http://www.textfiles.com/etext/AUTHORS/TWAIN/twain-adventures-28.txt'),\n",
       " ('TWAIN',\n",
       "  'http://www.textfiles.com/etext/AUTHORS/TWAIN/twain-connecticut-31.txt'),\n",
       " ('TWAIN',\n",
       "  'http://www.textfiles.com/etext/AUTHORS/TWAIN/twain-extracts-32.txt'),\n",
       " ('TWAIN', 'http://www.textfiles.com/etext/AUTHORS/TWAIN/twain-great-34.txt'),\n",
       " ('TWAIN', 'http://www.textfiles.com/etext/AUTHORS/TWAIN/twain-mark-414.txt'),\n",
       " ('TWAIN', 'http://www.textfiles.com/etext/AUTHORS/TWAIN/twain-my-35.txt'),\n",
       " ('TWAIN', 'http://www.textfiles.com/etext/AUTHORS/TWAIN/twain-new-36.txt'),\n",
       " ('TWAIN',\n",
       "  'http://www.textfiles.com/etext/AUTHORS/TWAIN/twain-niagara-37.txt'),\n",
       " ('TWAIN',\n",
       "  'http://www.textfiles.com/etext/AUTHORS/TWAIN/twain-political-38.txt'),\n",
       " ('TWAIN', 'http://www.textfiles.com/etext/AUTHORS/TWAIN/twain-prince-30.txt'),\n",
       " ('TWAIN',\n",
       "  'http://www.textfiles.com/etext/AUTHORS/TWAIN/twain-puddnhead-29.txt'),\n",
       " ('TWAIN', 'http://www.textfiles.com/etext/AUTHORS/TWAIN/twain-tom-39.txt'),\n",
       " ('TWAIN', 'http://www.textfiles.com/etext/AUTHORS/TWAIN/twain-tom-40.txt'),\n",
       " ('TWAIN', 'http://www.textfiles.com/etext/AUTHORS/TWAIN/twain-tramp-41.txt'),\n",
       " ('TWAIN', 'http://www.textfiles.com/etext/AUTHORS/TWAIN/twain-what-42.txt'),\n",
       " ('TWAIN', 'http://www.textfiles.com/etext/AUTHORS/TWAIN/warpryer.txt'),\n",
       " ('TWAIN', 'http://www.textfiles.com/etext/AUTHORS/TWAIN/wman10.txt'),\n",
       " ('TWAIN', 'http://www.textfiles.com/etext/AUTHORS/TWAIN/yanke10.txt'),\n",
       " ('TWAIN', 'http://www.textfiles.com/etext/AUTHORS/TWAIN/yanke11.txt'),\n",
       " ('STEVENSON',\n",
       "  'http://www.textfiles.com/etext/AUTHORS/STEVENSON/stevenson-across-644.txt'),\n",
       " ('STEVENSON',\n",
       "  'http://www.textfiles.com/etext/AUTHORS/STEVENSON/stevenson-art-650.txt'),\n",
       " ('STEVENSON',\n",
       "  'http://www.textfiles.com/etext/AUTHORS/STEVENSON/stevenson-catriona-645.txt'),\n",
       " ('STEVENSON',\n",
       "  'http://www.textfiles.com/etext/AUTHORS/STEVENSON/stevenson-childs-163.txt'),\n",
       " ('STEVENSON',\n",
       "  'http://www.textfiles.com/etext/AUTHORS/STEVENSON/stevenson-essays-641.txt'),\n",
       " ('STEVENSON',\n",
       "  'http://www.textfiles.com/etext/AUTHORS/STEVENSON/stevenson-footnote-646.txt'),\n",
       " ('STEVENSON',\n",
       "  'http://www.textfiles.com/etext/AUTHORS/STEVENSON/stevenson-in-652.txt'),\n",
       " ('STEVENSON',\n",
       "  'http://www.textfiles.com/etext/AUTHORS/STEVENSON/stevenson-inland-648.txt'),\n",
       " ('STEVENSON',\n",
       "  'http://www.textfiles.com/etext/AUTHORS/STEVENSON/stevenson-kidnapped-552.txt'),\n",
       " ('STEVENSON',\n",
       "  'http://www.textfiles.com/etext/AUTHORS/STEVENSON/stevenson-letters-640.txt'),\n",
       " ('STEVENSON',\n",
       "  'http://www.textfiles.com/etext/AUTHORS/STEVENSON/stevenson-letters-642.txt'),\n",
       " ('STEVENSON',\n",
       "  'http://www.textfiles.com/etext/AUTHORS/STEVENSON/stevenson-memoir-639.txt'),\n",
       " ('STEVENSON',\n",
       "  'http://www.textfiles.com/etext/AUTHORS/STEVENSON/stevenson-moral-638.txt'),\n",
       " ('STEVENSON',\n",
       "  'http://www.textfiles.com/etext/AUTHORS/STEVENSON/stevenson-new-162.txt'),\n",
       " ('STEVENSON',\n",
       "  'http://www.textfiles.com/etext/AUTHORS/STEVENSON/stevenson-silverado-649.txt'),\n",
       " ('STEVENSON',\n",
       "  'http://www.textfiles.com/etext/AUTHORS/STEVENSON/stevenson-songs-651.txt'),\n",
       " ('STEVENSON',\n",
       "  'http://www.textfiles.com/etext/AUTHORS/STEVENSON/stevenson-strange-553.txt'),\n",
       " ('STEVENSON',\n",
       "  'http://www.textfiles.com/etext/AUTHORS/STEVENSON/stevenson-travels-647.txt'),\n",
       " ('STEVENSON',\n",
       "  'http://www.textfiles.com/etext/AUTHORS/STEVENSON/stevenson-treasure-166.txt'),\n",
       " ('STEVENSON',\n",
       "  'http://www.textfiles.com/etext/AUTHORS/STEVENSON/stevenson-vailima-643.txt'),\n",
       " ('STEVENSON',\n",
       "  'http://www.textfiles.com/etext/AUTHORS/STEVENSON/stevenson-wrecker-167.txt'),\n",
       " ('SHAKESPEARE',\n",
       "  'http://www.textfiles.com/etext/AUTHORS/SHAKESPEARE/macbeth.ply'),\n",
       " ('SHAKESPEARE',\n",
       "  'http://www.textfiles.com/etext/AUTHORS/SHAKESPEARE/shakespeare-alls-11.txt'),\n",
       " ('SHAKESPEARE',\n",
       "  'http://www.textfiles.com/etext/AUTHORS/SHAKESPEARE/shakespeare-antony-23.txt'),\n",
       " ('SHAKESPEARE',\n",
       "  'http://www.textfiles.com/etext/AUTHORS/SHAKESPEARE/shakespeare-as-12.txt'),\n",
       " ('SHAKESPEARE',\n",
       "  'http://www.textfiles.com/etext/AUTHORS/SHAKESPEARE/shakespeare-comedy-7.txt'),\n",
       " ('SHAKESPEARE',\n",
       "  'http://www.textfiles.com/etext/AUTHORS/SHAKESPEARE/shakespeare-coriolanus-24.txt'),\n",
       " ('SHAKESPEARE',\n",
       "  'http://www.textfiles.com/etext/AUTHORS/SHAKESPEARE/shakespeare-cymbeline-17.txt'),\n",
       " ('SHAKESPEARE',\n",
       "  'http://www.textfiles.com/etext/AUTHORS/SHAKESPEARE/shakespeare-first-51.txt'),\n",
       " ('SHAKESPEARE',\n",
       "  'http://www.textfiles.com/etext/AUTHORS/SHAKESPEARE/shakespeare-hamlet-25.txt'),\n",
       " ('SHAKESPEARE',\n",
       "  'http://www.textfiles.com/etext/AUTHORS/SHAKESPEARE/shakespeare-julius-26.txt'),\n",
       " ('SHAKESPEARE',\n",
       "  'http://www.textfiles.com/etext/AUTHORS/SHAKESPEARE/shakespeare-king-45.txt'),\n",
       " ('SHAKESPEARE',\n",
       "  'http://www.textfiles.com/etext/AUTHORS/SHAKESPEARE/shakespeare-life-54.txt'),\n",
       " ('SHAKESPEARE',\n",
       "  'http://www.textfiles.com/etext/AUTHORS/SHAKESPEARE/shakespeare-life-55.txt'),\n",
       " ('SHAKESPEARE',\n",
       "  'http://www.textfiles.com/etext/AUTHORS/SHAKESPEARE/shakespeare-life-56.txt'),\n",
       " ('SHAKESPEARE',\n",
       "  'http://www.textfiles.com/etext/AUTHORS/SHAKESPEARE/shakespeare-lovers-62.txt'),\n",
       " ('SHAKESPEARE',\n",
       "  'http://www.textfiles.com/etext/AUTHORS/SHAKESPEARE/shakespeare-loves-8.txt'),\n",
       " ('SHAKESPEARE',\n",
       "  'http://www.textfiles.com/etext/AUTHORS/SHAKESPEARE/shakespeare-macbeth-46.txt'),\n",
       " ('SHAKESPEARE',\n",
       "  'http://www.textfiles.com/etext/AUTHORS/SHAKESPEARE/shakespeare-measure-13.txt'),\n",
       " ('SHAKESPEARE',\n",
       "  'http://www.textfiles.com/etext/AUTHORS/SHAKESPEARE/shakespeare-merchant-5.txt'),\n",
       " ('SHAKESPEARE',\n",
       "  'http://www.textfiles.com/etext/AUTHORS/SHAKESPEARE/shakespeare-merry-15.txt'),\n",
       " ('SHAKESPEARE',\n",
       "  'http://www.textfiles.com/etext/AUTHORS/SHAKESPEARE/shakespeare-midsummer-16.txt'),\n",
       " ('SHAKESPEARE',\n",
       "  'http://www.textfiles.com/etext/AUTHORS/SHAKESPEARE/shakespeare-much-3.txt'),\n",
       " ('SHAKESPEARE',\n",
       "  'http://www.textfiles.com/etext/AUTHORS/SHAKESPEARE/shakespeare-othello-47.txt'),\n",
       " ('SHAKESPEARE',\n",
       "  'http://www.textfiles.com/etext/AUTHORS/SHAKESPEARE/shakespeare-pericles-21.txt'),\n",
       " ('SHAKESPEARE',\n",
       "  'http://www.textfiles.com/etext/AUTHORS/SHAKESPEARE/shakespeare-rape-61.txt'),\n",
       " ('SHAKESPEARE',\n",
       "  'http://www.textfiles.com/etext/AUTHORS/SHAKESPEARE/shakespeare-romeo-48.txt'),\n",
       " ('SHAKESPEARE',\n",
       "  'http://www.textfiles.com/etext/AUTHORS/SHAKESPEARE/shakespeare-second-52.txt'),\n",
       " ('SHAKESPEARE',\n",
       "  'http://www.textfiles.com/etext/AUTHORS/SHAKESPEARE/shakespeare-sonnets-59.txt'),\n",
       " ('SHAKESPEARE',\n",
       "  'http://www.textfiles.com/etext/AUTHORS/SHAKESPEARE/shakespeare-taming-2.txt'),\n",
       " ('SHAKESPEARE',\n",
       "  'http://www.textfiles.com/etext/AUTHORS/SHAKESPEARE/shakespeare-tempest-4.txt'),\n",
       " ('SHAKESPEARE',\n",
       "  'http://www.textfiles.com/etext/AUTHORS/SHAKESPEARE/shakespeare-third-53.txt'),\n",
       " ('SHAKESPEARE',\n",
       "  'http://www.textfiles.com/etext/AUTHORS/SHAKESPEARE/shakespeare-timon-49.txt'),\n",
       " ('SHAKESPEARE',\n",
       "  'http://www.textfiles.com/etext/AUTHORS/SHAKESPEARE/shakespeare-titus-50.txt'),\n",
       " ('SHAKESPEARE',\n",
       "  'http://www.textfiles.com/etext/AUTHORS/SHAKESPEARE/shakespeare-tragedy-57.txt'),\n",
       " ('SHAKESPEARE',\n",
       "  'http://www.textfiles.com/etext/AUTHORS/SHAKESPEARE/shakespeare-tragedy-58.txt'),\n",
       " ('SHAKESPEARE',\n",
       "  'http://www.textfiles.com/etext/AUTHORS/SHAKESPEARE/shakespeare-troilus-22.txt'),\n",
       " ('SHAKESPEARE',\n",
       "  'http://www.textfiles.com/etext/AUTHORS/SHAKESPEARE/shakespeare-twelfth-20.txt'),\n",
       " ('SHAKESPEARE',\n",
       "  'http://www.textfiles.com/etext/AUTHORS/SHAKESPEARE/shakespeare-two-18.txt'),\n",
       " ('SHAKESPEARE',\n",
       "  'http://www.textfiles.com/etext/AUTHORS/SHAKESPEARE/shakespeare-venus-60.txt'),\n",
       " ('SHAKESPEARE',\n",
       "  'http://www.textfiles.com/etext/AUTHORS/SHAKESPEARE/shakespeare-winters-19.txt'),\n",
       " ('SHAKESPEARE',\n",
       "  'http://www.textfiles.com/etext/AUTHORS/SHAKESPEARE/sonnets.txt'),\n",
       " ('SHAKESPEARE',\n",
       "  'http://www.textfiles.com/etext/AUTHORS/SHAKESPEARE/spencer-epithalamion-190.txt'),\n",
       " ('SHAKESPEARE',\n",
       "  'http://www.textfiles.com/etext/AUTHORS/SHAKESPEARE/synopsis.001'),\n",
       " ('SHAKESPEARE',\n",
       "  'http://www.textfiles.com/etext/AUTHORS/SHAKESPEARE/synopsis.002'),\n",
       " ('SHAKESPEARE',\n",
       "  'http://www.textfiles.com/etext/AUTHORS/SHAKESPEARE/synopsis.003'),\n",
       " ('SHAKESPEARE',\n",
       "  'http://www.textfiles.com/etext/AUTHORS/SHAKESPEARE/synopsis.004'),\n",
       " ('SHAKESPEARE',\n",
       "  'http://www.textfiles.com/etext/AUTHORS/SHAKESPEARE/synopsis.lst'),\n",
       " ('POE', 'http://www.textfiles.com/etext/AUTHORS/POE/alone.txt'),\n",
       " ('POE', 'http://www.textfiles.com/etext/AUTHORS/POE/assignat.poe'),\n",
       " ('POE', 'http://www.textfiles.com/etext/AUTHORS/POE/atale.poe'),\n",
       " ('POE', 'http://www.textfiles.com/etext/AUTHORS/POE/balloon.poe'),\n",
       " ('POE', 'http://www.textfiles.com/etext/AUTHORS/POE/berenice.poe'),\n",
       " ('POE', 'http://www.textfiles.com/etext/AUTHORS/POE/blackcat.poe'),\n",
       " ('POE', 'http://www.textfiles.com/etext/AUTHORS/POE/cask.poe'),\n",
       " ('POE', 'http://www.textfiles.com/etext/AUTHORS/POE/eleonora.poe'),\n",
       " ('POE', 'http://www.textfiles.com/etext/AUTHORS/POE/fallushr.txt'),\n",
       " ('POE', 'http://www.textfiles.com/etext/AUTHORS/POE/maelstrm.txt'),\n",
       " ('POE', 'http://www.textfiles.com/etext/AUTHORS/POE/masque_r.txt'),\n",
       " ('POE', 'http://www.textfiles.com/etext/AUTHORS/POE/poe-al-425.txt'),\n",
       " ('POE', 'http://www.textfiles.com/etext/AUTHORS/POE/poe-alone-426.txt'),\n",
       " ('POE', 'http://www.textfiles.com/etext/AUTHORS/POE/poe-angel-666.txt'),\n",
       " ('POE', 'http://www.textfiles.com/etext/AUTHORS/POE/poe-annabel-428.txt'),\n",
       " ('POE', 'http://www.textfiles.com/etext/AUTHORS/POE/poe-assignation-667.txt'),\n",
       " ('POE', 'http://www.textfiles.com/etext/AUTHORS/POE/poe-balloon-668.txt'),\n",
       " ('POE', 'http://www.textfiles.com/etext/AUTHORS/POE/poe-bells-669.txt'),\n",
       " ('POE', 'http://www.textfiles.com/etext/AUTHORS/POE/poe-berenice-429.txt'),\n",
       " ('POE', 'http://www.textfiles.com/etext/AUTHORS/POE/poe-black-670.txt'),\n",
       " ('POE', 'http://www.textfiles.com/etext/AUTHORS/POE/poe-bon-430.txt'),\n",
       " ('POE', 'http://www.textfiles.com/etext/AUTHORS/POE/poe-bridal-431.txt'),\n",
       " ('POE', 'http://www.textfiles.com/etext/AUTHORS/POE/poe-business-671.txt'),\n",
       " ('POE', 'http://www.textfiles.com/etext/AUTHORS/POE/poe-cask-672.txt'),\n",
       " ('POE', 'http://www.textfiles.com/etext/AUTHORS/POE/poe-city-673.txt'),\n",
       " ('POE', 'http://www.textfiles.com/etext/AUTHORS/POE/poe-coliseum-674.txt'),\n",
       " ('POE', 'http://www.textfiles.com/etext/AUTHORS/POE/poe-colloquy-675.txt'),\n",
       " ('POE', 'http://www.textfiles.com/etext/AUTHORS/POE/poe-conqueror-676.txt'),\n",
       " ('POE',\n",
       "  'http://www.textfiles.com/etext/AUTHORS/POE/poe-conversation-677.txt'),\n",
       " ('POE', 'http://www.textfiles.com/etext/AUTHORS/POE/poe-criticism-432.txt'),\n",
       " ('POE', 'http://www.textfiles.com/etext/AUTHORS/POE/poe-descent-418.txt'),\n",
       " ('POE', 'http://www.textfiles.com/etext/AUTHORS/POE/poe-devil-678.txt'),\n",
       " ('POE', 'http://www.textfiles.com/etext/AUTHORS/POE/poe-diddling-433.txt'),\n",
       " ('POE', 'http://www.textfiles.com/etext/AUTHORS/POE/poe-domain-679.txt'),\n",
       " ('POE', 'http://www.textfiles.com/etext/AUTHORS/POE/poe-dream-419.txt'),\n",
       " ('POE', 'http://www.textfiles.com/etext/AUTHORS/POE/poe-dream-420.txt'),\n",
       " ('POE', 'http://www.textfiles.com/etext/AUTHORS/POE/poe-dreamland-434.txt'),\n",
       " ('POE', 'http://www.textfiles.com/etext/AUTHORS/POE/poe-dreams-435.txt'),\n",
       " ('POE', 'http://www.textfiles.com/etext/AUTHORS/POE/poe-duc-680.txt'),\n",
       " ('POE', 'http://www.textfiles.com/etext/AUTHORS/POE/poe-eldorado-436.txt'),\n",
       " ('POE', 'http://www.textfiles.com/etext/AUTHORS/POE/poe-eleonora-437.txt'),\n",
       " ('POE', 'http://www.textfiles.com/etext/AUTHORS/POE/poe-elizabeth-438.txt'),\n",
       " ('POE', 'http://www.textfiles.com/etext/AUTHORS/POE/poe-enigma-427.txt'),\n",
       " ('POE', 'http://www.textfiles.com/etext/AUTHORS/POE/poe-eulalie-439.txt'),\n",
       " ('POE', 'http://www.textfiles.com/etext/AUTHORS/POE/poe-evening-440.txt'),\n",
       " ('POE', 'http://www.textfiles.com/etext/AUTHORS/POE/poe-facts-681.txt'),\n",
       " ('POE', 'http://www.textfiles.com/etext/AUTHORS/POE/poe-fairy-441.txt'),\n",
       " ('POE', 'http://www.textfiles.com/etext/AUTHORS/POE/poe-fall-682.txt'),\n",
       " ('POE', 'http://www.textfiles.com/etext/AUTHORS/POE/poe-for-442.txt'),\n",
       " ('POE', 'http://www.textfiles.com/etext/AUTHORS/POE/poe-four-443.txt'),\n",
       " ('POE', 'http://www.textfiles.com/etext/AUTHORS/POE/poe-gold-683.txt'),\n",
       " ('POE', 'http://www.textfiles.com/etext/AUTHORS/POE/poe-hans-444.txt'),\n",
       " ('POE', 'http://www.textfiles.com/etext/AUTHORS/POE/poe-happiest-684.txt'),\n",
       " ('POE', 'http://www.textfiles.com/etext/AUTHORS/POE/poe-haunted-685.txt'),\n",
       " ('POE', 'http://www.textfiles.com/etext/AUTHORS/POE/poe-hop-445.txt'),\n",
       " ('POE', 'http://www.textfiles.com/etext/AUTHORS/POE/poe-how-446.txt'),\n",
       " ('POE', 'http://www.textfiles.com/etext/AUTHORS/POE/poe-hymn-447.txt'),\n",
       " ('POE', 'http://www.textfiles.com/etext/AUTHORS/POE/poe-imp-686.txt'),\n",
       " ('POE', 'http://www.textfiles.com/etext/AUTHORS/POE/poe-island-687.txt'),\n",
       " ('POE', 'http://www.textfiles.com/etext/AUTHORS/POE/poe-israfel-448.txt'),\n",
       " ('POE', 'http://www.textfiles.com/etext/AUTHORS/POE/poe-king-449.txt'),\n",
       " ('POE', 'http://www.textfiles.com/etext/AUTHORS/POE/poe-lake-688.txt'),\n",
       " ('POE', 'http://www.textfiles.com/etext/AUTHORS/POE/poe-landors-450.txt'),\n",
       " ('POE', 'http://www.textfiles.com/etext/AUTHORS/POE/poe-landscape-689.txt'),\n",
       " ('POE', 'http://www.textfiles.com/etext/AUTHORS/POE/poe-lenore-451.txt'),\n",
       " ('POE', 'http://www.textfiles.com/etext/AUTHORS/POE/poe-ligeia-452.txt'),\n",
       " ('POE', 'http://www.textfiles.com/etext/AUTHORS/POE/poe-lionizing-453.txt'),\n",
       " ('POE', 'http://www.textfiles.com/etext/AUTHORS/POE/poe-literary-454.txt'),\n",
       " ('POE', 'http://www.textfiles.com/etext/AUTHORS/POE/poe-loss-455.txt'),\n",
       " ('POE', 'http://www.textfiles.com/etext/AUTHORS/POE/poe-man-690.txt'),\n",
       " ('POE', 'http://www.textfiles.com/etext/AUTHORS/POE/poe-man-691.txt'),\n",
       " ('POE', 'http://www.textfiles.com/etext/AUTHORS/POE/poe-marginalia-417.txt'),\n",
       " ('POE', 'http://www.textfiles.com/etext/AUTHORS/POE/poe-masque-692.txt'),\n",
       " ('POE', 'http://www.textfiles.com/etext/AUTHORS/POE/poe-mellonta-456.txt'),\n",
       " ('POE', 'http://www.textfiles.com/etext/AUTHORS/POE/poe-mesmeric-556.txt'),\n",
       " ('POE',\n",
       "  'http://www.textfiles.com/etext/AUTHORS/POE/poe-metzengerstein-557.txt'),\n",
       " ('POE', 'http://www.textfiles.com/etext/AUTHORS/POE/poe-morella-558.txt'),\n",
       " ('POE', 'http://www.textfiles.com/etext/AUTHORS/POE/poe-morning-559.txt'),\n",
       " ('POE', 'http://www.textfiles.com/etext/AUTHORS/POE/poe-ms-560.txt'),\n",
       " ('POE', 'http://www.textfiles.com/etext/AUTHORS/POE/poe-murders-693.txt'),\n",
       " ('POE', 'http://www.textfiles.com/etext/AUTHORS/POE/poe-mystery-694.txt'),\n",
       " ('POE',\n",
       "  'http://www.textfiles.com/etext/AUTHORS/POE/poe-mystification-561.txt'),\n",
       " ('POE', 'http://www.textfiles.com/etext/AUTHORS/POE/poe-narrative-695.txt'),\n",
       " ('POE', 'http://www.textfiles.com/etext/AUTHORS/POE/poe-never-562.txt'),\n",
       " ('POE', 'http://www.textfiles.com/etext/AUTHORS/POE/poe-oblong-696.txt'),\n",
       " ('POE', 'http://www.textfiles.com/etext/AUTHORS/POE/poe-oval-697.txt'),\n",
       " ('POE', 'http://www.textfiles.com/etext/AUTHORS/POE/poe-pit-110.txt'),\n",
       " ('POE', 'http://www.textfiles.com/etext/AUTHORS/POE/poe-pit-698.txt'),\n",
       " ('POE', 'http://www.textfiles.com/etext/AUTHORS/POE/poe-power-699.txt'),\n",
       " ('POE', 'http://www.textfiles.com/etext/AUTHORS/POE/poe-predicament-421.txt'),\n",
       " ('POE', 'http://www.textfiles.com/etext/AUTHORS/POE/poe-premature-700.txt'),\n",
       " ('POE', 'http://www.textfiles.com/etext/AUTHORS/POE/poe-purloined-701.txt'),\n",
       " ('POE', 'http://www.textfiles.com/etext/AUTHORS/POE/poe-raven-702.txt'),\n",
       " ('POE', 'http://www.textfiles.com/etext/AUTHORS/POE/poe-romance-563.txt'),\n",
       " ('POE', 'http://www.textfiles.com/etext/AUTHORS/POE/poe-scenes-653.txt'),\n",
       " ('POE', 'http://www.textfiles.com/etext/AUTHORS/POE/poe-serenade-654.txt'),\n",
       " ('POE', 'http://www.textfiles.com/etext/AUTHORS/POE/poe-shadow-655.txt'),\n",
       " ('POE', 'http://www.textfiles.com/etext/AUTHORS/POE/poe-silence-656.txt'),\n",
       " ('POE', 'http://www.textfiles.com/etext/AUTHORS/POE/poe-sleeper-703.txt'),\n",
       " ('POE', 'http://www.textfiles.com/etext/AUTHORS/POE/poe-some-657.txt'),\n",
       " ('POE', 'http://www.textfiles.com/etext/AUTHORS/POE/poe-song-658.txt'),\n",
       " ('POE', 'http://www.textfiles.com/etext/AUTHORS/POE/poe-sonnet-659.txt'),\n",
       " ('POE', 'http://www.textfiles.com/etext/AUTHORS/POE/poe-sonnet-660.txt'),\n",
       " ('POE', 'http://www.textfiles.com/etext/AUTHORS/POE/poe-sonnet-661.txt'),\n",
       " ('POE', 'http://www.textfiles.com/etext/AUTHORS/POE/poe-spectacles-704.txt'),\n",
       " ('POE', 'http://www.textfiles.com/etext/AUTHORS/POE/poe-sphinx-705.txt'),\n",
       " ('POE', 'http://www.textfiles.com/etext/AUTHORS/POE/poe-spirits-662.txt'),\n",
       " ('POE', 'http://www.textfiles.com/etext/AUTHORS/POE/poe-stanzas-663.txt'),\n",
       " ('POE', 'http://www.textfiles.com/etext/AUTHORS/POE/poe-system-706.txt'),\n",
       " ('POE', 'http://www.textfiles.com/etext/AUTHORS/POE/poe-tale-422.txt'),\n",
       " ('POE', 'http://www.textfiles.com/etext/AUTHORS/POE/poe-tale-664.txt'),\n",
       " ('POE', 'http://www.textfiles.com/etext/AUTHORS/POE/poe-tamerlane-665.txt'),\n",
       " ('POE', 'http://www.textfiles.com/etext/AUTHORS/POE/poe-tell-707.txt'),\n",
       " ('POE', 'http://www.textfiles.com/etext/AUTHORS/POE/poe-thou-416.txt'),\n",
       " ('POE', 'http://www.textfiles.com/etext/AUTHORS/POE/poe-thousand-708.txt'),\n",
       " ('POE', 'http://www.textfiles.com/etext/AUTHORS/POE/poe-three-710.txt'),\n",
       " ('POE', 'http://www.textfiles.com/etext/AUTHORS/POE/poe-to-711.txt'),\n",
       " ('POE', 'http://www.textfiles.com/etext/AUTHORS/POE/poe-to-712.txt'),\n",
       " ('POE', 'http://www.textfiles.com/etext/AUTHORS/POE/poe-to-713.txt'),\n",
       " ('POE', 'http://www.textfiles.com/etext/AUTHORS/POE/poe-to-714.txt'),\n",
       " ('POE', 'http://www.textfiles.com/etext/AUTHORS/POE/poe-to-715.txt'),\n",
       " ('POE', 'http://www.textfiles.com/etext/AUTHORS/POE/poe-to-716.txt'),\n",
       " ('POE', 'http://www.textfiles.com/etext/AUTHORS/POE/poe-to-717.txt'),\n",
       " ('POE', 'http://www.textfiles.com/etext/AUTHORS/POE/poe-to-718.txt'),\n",
       " ('POE', 'http://www.textfiles.com/etext/AUTHORS/POE/poe-to-719.txt'),\n",
       " ('POE', 'http://www.textfiles.com/etext/AUTHORS/POE/poe-to-720.txt'),\n",
       " ('POE', 'http://www.textfiles.com/etext/AUTHORS/POE/poe-to-721.txt'),\n",
       " ('POE', 'http://www.textfiles.com/etext/AUTHORS/POE/poe-ulalame-722.txt'),\n",
       " ('POE', 'http://www.textfiles.com/etext/AUTHORS/POE/poe-valentine-424.txt'),\n",
       " ('POE', 'http://www.textfiles.com/etext/AUTHORS/POE/poe-valley-709.txt'),\n",
       " ('POE', 'http://www.textfiles.com/etext/AUTHORS/POE/poe-von-723.txt'),\n",
       " ('POE', 'http://www.textfiles.com/etext/AUTHORS/POE/poe-why-724.txt'),\n",
       " ('POE', 'http://www.textfiles.com/etext/AUTHORS/POE/poe-william-725.txt'),\n",
       " ('POE', 'http://www.textfiles.com/etext/AUTHORS/POE/poe-x-726.txt'),\n",
       " ('POE', 'http://www.textfiles.com/etext/AUTHORS/POE/raven.txt'),\n",
       " ('POE', 'http://www.textfiles.com/etext/AUTHORS/POE/rue.poe'),\n",
       " ('POE', 'http://www.textfiles.com/etext/AUTHORS/POE/telltale.txt'),\n",
       " ('POE', 'http://www.textfiles.com/etext/AUTHORS/POE/the_pit.txt'),\n",
       " ('POE', 'http://www.textfiles.com/etext/AUTHORS/POE/usher.poe'),\n",
       " ('PLATO',\n",
       "  'http://www.textfiles.com/etext/AUTHORS/PLATO/plato-charmides-337.txt'),\n",
       " ('PLATO',\n",
       "  'http://www.textfiles.com/etext/AUTHORS/PLATO/plato-cratylus-338.txt'),\n",
       " ('PLATO',\n",
       "  'http://www.textfiles.com/etext/AUTHORS/PLATO/plato-critias-339.txt'),\n",
       " ('PLATO', 'http://www.textfiles.com/etext/AUTHORS/PLATO/plato-crito-340.txt'),\n",
       " ('PLATO',\n",
       "  'http://www.textfiles.com/etext/AUTHORS/PLATO/plato-euthydemus-341.txt'),\n",
       " ('PLATO',\n",
       "  'http://www.textfiles.com/etext/AUTHORS/PLATO/plato-euthyphro-342.txt'),\n",
       " ('PLATO',\n",
       "  'http://www.textfiles.com/etext/AUTHORS/PLATO/plato-gorgias-343.txt'),\n",
       " ('PLATO', 'http://www.textfiles.com/etext/AUTHORS/PLATO/plato-ion-344.txt'),\n",
       " ('PLATO',\n",
       "  'http://www.textfiles.com/etext/AUTHORS/PLATO/plato-laches-345.txt'),\n",
       " ('PLATO', 'http://www.textfiles.com/etext/AUTHORS/PLATO/plato-laws-346.txt'),\n",
       " ('PLATO', 'http://www.textfiles.com/etext/AUTHORS/PLATO/plato-lysis-347.txt'),\n",
       " ('PLATO', 'http://www.textfiles.com/etext/AUTHORS/PLATO/plato-meno-348.txt'),\n",
       " ('PLATO',\n",
       "  'http://www.textfiles.com/etext/AUTHORS/PLATO/plato-parmenides-349.txt'),\n",
       " ('PLATO',\n",
       "  'http://www.textfiles.com/etext/AUTHORS/PLATO/plato-phaedo-350.txt'),\n",
       " ('PLATO',\n",
       "  'http://www.textfiles.com/etext/AUTHORS/PLATO/plato-phaedrus-351.txt'),\n",
       " ('PLATO',\n",
       "  'http://www.textfiles.com/etext/AUTHORS/PLATO/plato-philebus-352.txt'),\n",
       " ('PLATO',\n",
       "  'http://www.textfiles.com/etext/AUTHORS/PLATO/plato-protagoras-353.txt'),\n",
       " ('PLATO',\n",
       "  'http://www.textfiles.com/etext/AUTHORS/PLATO/plato-republic-762.txt'),\n",
       " ('PLATO',\n",
       "  'http://www.textfiles.com/etext/AUTHORS/PLATO/plato-seventh-358.txt'),\n",
       " ('PLATO',\n",
       "  'http://www.textfiles.com/etext/AUTHORS/PLATO/plato-sophist-354.txt'),\n",
       " ('PLATO',\n",
       "  'http://www.textfiles.com/etext/AUTHORS/PLATO/plato-statesman-355.txt'),\n",
       " ('PLATO',\n",
       "  'http://www.textfiles.com/etext/AUTHORS/PLATO/plato-symposium-356.txt'),\n",
       " ('PLATO',\n",
       "  'http://www.textfiles.com/etext/AUTHORS/PLATO/plato-theaetetus-359.txt'),\n",
       " ('PLATO',\n",
       "  'http://www.textfiles.com/etext/AUTHORS/PLATO/plato-timaeus-360.txt'),\n",
       " ('MILTON',\n",
       "  'http://www.textfiles.com/etext/AUTHORS/MILTON/milton-another-517.txt'),\n",
       " ('MILTON',\n",
       "  'http://www.textfiles.com/etext/AUTHORS/MILTON/milton-areopagitica-518.txt'),\n",
       " ('MILTON', 'http://www.textfiles.com/etext/AUTHORS/MILTON/milton-at-519.txt'),\n",
       " ('MILTON', 'http://www.textfiles.com/etext/AUTHORS/MILTON/milton-at-520.txt'),\n",
       " ('MILTON',\n",
       "  'http://www.textfiles.com/etext/AUTHORS/MILTON/milton-comus-521.txt'),\n",
       " ('MILTON',\n",
       "  'http://www.textfiles.com/etext/AUTHORS/MILTON/milton-epitaph-516.txt'),\n",
       " ('MILTON',\n",
       "  'http://www.textfiles.com/etext/AUTHORS/MILTON/milton-fifth-537.txt'),\n",
       " ('MILTON', 'http://www.textfiles.com/etext/AUTHORS/MILTON/milton-il-522.txt'),\n",
       " ('MILTON', 'http://www.textfiles.com/etext/AUTHORS/MILTON/milton-l-523.txt'),\n",
       " ('MILTON',\n",
       "  'http://www.textfiles.com/etext/AUTHORS/MILTON/milton-lycidas-524.txt'),\n",
       " ('MILTON', 'http://www.textfiles.com/etext/AUTHORS/MILTON/milton-on-525.txt'),\n",
       " ('MILTON', 'http://www.textfiles.com/etext/AUTHORS/MILTON/milton-on-526.txt'),\n",
       " ('MILTON', 'http://www.textfiles.com/etext/AUTHORS/MILTON/milton-on-527.txt'),\n",
       " ('MILTON', 'http://www.textfiles.com/etext/AUTHORS/MILTON/milton-on-528.txt'),\n",
       " ('MILTON', 'http://www.textfiles.com/etext/AUTHORS/MILTON/milton-on-529.txt'),\n",
       " ('MILTON', 'http://www.textfiles.com/etext/AUTHORS/MILTON/milton-on-530.txt'),\n",
       " ('MILTON', 'http://www.textfiles.com/etext/AUTHORS/MILTON/milton-on-531.txt'),\n",
       " ('MILTON',\n",
       "  'http://www.textfiles.com/etext/AUTHORS/MILTON/milton-paradise-108.txt'),\n",
       " ('MILTON',\n",
       "  'http://www.textfiles.com/etext/AUTHORS/MILTON/milton-paradise-219.txt'),\n",
       " ('MILTON',\n",
       "  'http://www.textfiles.com/etext/AUTHORS/MILTON/milton-paraphrase-515.txt'),\n",
       " ('MILTON',\n",
       "  'http://www.textfiles.com/etext/AUTHORS/MILTON/milton-passion-538.txt'),\n",
       " ('MILTON',\n",
       "  'http://www.textfiles.com/etext/AUTHORS/MILTON/milton-psalm-532.txt'),\n",
       " ('MILTON',\n",
       "  'http://www.textfiles.com/etext/AUTHORS/MILTON/milton-psalms-533.txt'),\n",
       " ('MILTON',\n",
       "  'http://www.textfiles.com/etext/AUTHORS/MILTON/milton-samson-534.txt'),\n",
       " ('MILTON',\n",
       "  'http://www.textfiles.com/etext/AUTHORS/MILTON/milton-song-535.txt'),\n",
       " ('MILTON',\n",
       "  'http://www.textfiles.com/etext/AUTHORS/MILTON/milton-sonnets-536.txt'),\n",
       " ('MILTON', 'http://www.textfiles.com/etext/AUTHORS/MILTON/milton-to-539.txt'),\n",
       " ('MILTON', 'http://www.textfiles.com/etext/AUTHORS/MILTON/milton-to-540.txt'),\n",
       " ('MILTON', 'http://www.textfiles.com/etext/AUTHORS/MILTON/milton-to-541.txt'),\n",
       " ('MILTON',\n",
       "  'http://www.textfiles.com/etext/AUTHORS/MILTON/milton-upon-542.txt'),\n",
       " ('KEATS',\n",
       "  'http://www.textfiles.com/etext/AUTHORS/KEATS/keats-character-482.txt'),\n",
       " ('KEATS', 'http://www.textfiles.com/etext/AUTHORS/KEATS/keats-day-504.txt'),\n",
       " ('KEATS',\n",
       "  'http://www.textfiles.com/etext/AUTHORS/KEATS/keats-dedication-483.txt'),\n",
       " ('KEATS',\n",
       "  'http://www.textfiles.com/etext/AUTHORS/KEATS/keats-endymion-484.txt'),\n",
       " ('KEATS', 'http://www.textfiles.com/etext/AUTHORS/KEATS/keats-eve-505.txt'),\n",
       " ('KEATS', 'http://www.textfiles.com/etext/AUTHORS/KEATS/keats-for-485.txt'),\n",
       " ('KEATS', 'http://www.textfiles.com/etext/AUTHORS/KEATS/keats-how-486.txt'),\n",
       " ('KEATS',\n",
       "  'http://www.textfiles.com/etext/AUTHORS/KEATS/keats-hyperion-487.txt'),\n",
       " ('KEATS', 'http://www.textfiles.com/etext/AUTHORS/KEATS/keats-i-488.txt'),\n",
       " ('KEATS',\n",
       "  'http://www.textfiles.com/etext/AUTHORS/KEATS/keats-imitation-489.txt'),\n",
       " ('KEATS',\n",
       "  'http://www.textfiles.com/etext/AUTHORS/KEATS/keats-isabella-490.txt'),\n",
       " ('KEATS', 'http://www.textfiles.com/etext/AUTHORS/KEATS/keats-lines-491.txt'),\n",
       " ('KEATS', 'http://www.textfiles.com/etext/AUTHORS/KEATS/keats-o-492.txt'),\n",
       " ('KEATS', 'http://www.textfiles.com/etext/AUTHORS/KEATS/keats-ode-493.txt'),\n",
       " ('KEATS', 'http://www.textfiles.com/etext/AUTHORS/KEATS/keats-ode-494.txt'),\n",
       " ('KEATS', 'http://www.textfiles.com/etext/AUTHORS/KEATS/keats-ode-495.txt'),\n",
       " ('KEATS', 'http://www.textfiles.com/etext/AUTHORS/KEATS/keats-ode-496.txt'),\n",
       " ('KEATS', 'http://www.textfiles.com/etext/AUTHORS/KEATS/keats-on-497.txt'),\n",
       " ('KEATS', 'http://www.textfiles.com/etext/AUTHORS/KEATS/keats-on-498.txt'),\n",
       " ('KEATS', 'http://www.textfiles.com/etext/AUTHORS/KEATS/keats-on-499.txt'),\n",
       " ('KEATS', 'http://www.textfiles.com/etext/AUTHORS/KEATS/keats-on-500.txt'),\n",
       " ('KEATS', 'http://www.textfiles.com/etext/AUTHORS/KEATS/keats-over-501.txt'),\n",
       " ('KEATS', 'http://www.textfiles.com/etext/AUTHORS/KEATS/keats-poet-506.txt'),\n",
       " ('KEATS', 'http://www.textfiles.com/etext/AUTHORS/KEATS/keats-sleep-502.txt'),\n",
       " ('KEATS', 'http://www.textfiles.com/etext/AUTHORS/KEATS/keats-song-481.txt'),\n",
       " ('KEATS',\n",
       "  'http://www.textfiles.com/etext/AUTHORS/KEATS/keats-stanzas-503.txt'),\n",
       " ('KEATS', 'http://www.textfiles.com/etext/AUTHORS/KEATS/keats-to-507.txt'),\n",
       " ('KEATS', 'http://www.textfiles.com/etext/AUTHORS/KEATS/keats-to-508.txt'),\n",
       " ('KEATS', 'http://www.textfiles.com/etext/AUTHORS/KEATS/keats-to-509.txt'),\n",
       " ('KEATS', 'http://www.textfiles.com/etext/AUTHORS/KEATS/keats-to-510.txt'),\n",
       " ('KEATS', 'http://www.textfiles.com/etext/AUTHORS/KEATS/keats-to-511.txt'),\n",
       " ('KEATS',\n",
       "  'http://www.textfiles.com/etext/AUTHORS/KEATS/keats-translated-512.txt'),\n",
       " ('KEATS', 'http://www.textfiles.com/etext/AUTHORS/KEATS/keats-when-513.txt'),\n",
       " ('KEATS', 'http://www.textfiles.com/etext/AUTHORS/KEATS/keats-why-514.txt'),\n",
       " ('KANT', 'http://www.textfiles.com/etext/AUTHORS/KANT/c_of_j.txt'),\n",
       " ('KANT', 'http://www.textfiles.com/etext/AUTHORS/KANT/c_of_p_r.txt'),\n",
       " ('KANT', 'http://www.textfiles.com/etext/AUTHORS/KANT/c_of_pr.txt'),\n",
       " ('KANT', 'http://www.textfiles.com/etext/AUTHORS/KANT/i-m_of_m.txt'),\n",
       " ('KANT', 'http://www.textfiles.com/etext/AUTHORS/KANT/kant-critique-140.txt'),\n",
       " ('KANT', 'http://www.textfiles.com/etext/AUTHORS/KANT/kant-critique-141.txt'),\n",
       " ('KANT', 'http://www.textfiles.com/etext/AUTHORS/KANT/kant-critique-142.txt'),\n",
       " ('KANT',\n",
       "  'http://www.textfiles.com/etext/AUTHORS/KANT/kant-fundamental-143.txt'),\n",
       " ('KANT',\n",
       "  'http://www.textfiles.com/etext/AUTHORS/KANT/kant-introduction-144.txt'),\n",
       " ('KANT',\n",
       "  'http://www.textfiles.com/etext/AUTHORS/KANT/kant-metaphysical-145.txt'),\n",
       " ('KANT',\n",
       "  'http://www.textfiles.com/etext/AUTHORS/KANT/kant-prolegomena-752.txt'),\n",
       " ('KANT', 'http://www.textfiles.com/etext/AUTHORS/KANT/kant-science-146.txt'),\n",
       " ('KANT', 'http://www.textfiles.com/etext/AUTHORS/KANT/p_of_m_m.txt'),\n",
       " ('JEFFERSON',\n",
       "  'http://www.textfiles.com/etext/AUTHORS/JEFFERSON/jefferson-addresses-253.txt'),\n",
       " ('JEFFERSON',\n",
       "  'http://www.textfiles.com/etext/AUTHORS/JEFFERSON/jefferson-autobiography-73.txt'),\n",
       " ('JEFFERSON',\n",
       "  'http://www.textfiles.com/etext/AUTHORS/JEFFERSON/jefferson-first-139.txt'),\n",
       " ('JEFFERSON',\n",
       "  'http://www.textfiles.com/etext/AUTHORS/JEFFERSON/jefferson-indian-138.txt'),\n",
       " ('JEFFERSON',\n",
       "  'http://www.textfiles.com/etext/AUTHORS/JEFFERSON/jefferson-letters-256.txt'),\n",
       " ('JEFFERSON',\n",
       "  'http://www.textfiles.com/etext/AUTHORS/JEFFERSON/jefferson-miscellany-257.txt'),\n",
       " ('JEFFERSON',\n",
       "  'http://www.textfiles.com/etext/AUTHORS/JEFFERSON/jefferson-notes-258.txt'),\n",
       " ('JEFFERSON',\n",
       "  'http://www.textfiles.com/etext/AUTHORS/JEFFERSON/jefferson-public-259.txt'),\n",
       " ('JEFFERSON',\n",
       "  'http://www.textfiles.com/etext/AUTHORS/JEFFERSON/jefferson-summary-260.txt'),\n",
       " ('JEFFERSON', 'http://www.textfiles.com/etext/AUTHORS/JEFFERSON/tj_abio.txt'),\n",
       " ('JEFFERSON', 'http://www.textfiles.com/etext/AUTHORS/JEFFERSON/tj_addr.txt'),\n",
       " ('JEFFERSON',\n",
       "  'http://www.textfiles.com/etext/AUTHORS/JEFFERSON/tj_inaug.txt'),\n",
       " ('JEFFERSON', 'http://www.textfiles.com/etext/AUTHORS/JEFFERSON/tj_indn.txt'),\n",
       " ('JEFFERSON',\n",
       "  'http://www.textfiles.com/etext/AUTHORS/JEFFERSON/tj_lettr.txt'),\n",
       " ('JEFFERSON', 'http://www.textfiles.com/etext/AUTHORS/JEFFERSON/tj_misc.txt'),\n",
       " ('JEFFERSON', 'http://www.textfiles.com/etext/AUTHORS/JEFFERSON/tj_pubp.txt'),\n",
       " ('JEFFERSON',\n",
       "  'http://www.textfiles.com/etext/AUTHORS/JEFFERSON/tj_virgn.txt'),\n",
       " ('IRVING', 'http://www.textfiles.com/etext/AUTHORS/IRVING/alhambra'),\n",
       " ('IRVING', 'http://www.textfiles.com/etext/AUTHORS/IRVING/america'),\n",
       " ('IRVING', 'http://www.textfiles.com/etext/AUTHORS/IRVING/antiques'),\n",
       " ('IRVING', 'http://www.textfiles.com/etext/AUTHORS/IRVING/art_book'),\n",
       " ('IRVING', 'http://www.textfiles.com/etext/AUTHORS/IRVING/broken_heart'),\n",
       " ('IRVING', 'http://www.textfiles.com/etext/AUTHORS/IRVING/funerals'),\n",
       " ('IRVING', 'http://www.textfiles.com/etext/AUTHORS/IRVING/himself'),\n",
       " ('IRVING',\n",
       "  'http://www.textfiles.com/etext/AUTHORS/IRVING/irving-alhambra-67.txt'),\n",
       " ('IRVING',\n",
       "  'http://www.textfiles.com/etext/AUTHORS/IRVING/irving-art-599.txt'),\n",
       " ('IRVING',\n",
       "  'http://www.textfiles.com/etext/AUTHORS/IRVING/irving-authors-580.txt'),\n",
       " ('IRVING',\n",
       "  'http://www.textfiles.com/etext/AUTHORS/IRVING/irving-boars-572.txt'),\n",
       " ('IRVING',\n",
       "  'http://www.textfiles.com/etext/AUTHORS/IRVING/irving-broken-571.txt'),\n",
       " ('IRVING',\n",
       "  'http://www.textfiles.com/etext/AUTHORS/IRVING/irving-christmas-575.txt'),\n",
       " ('IRVING',\n",
       "  'http://www.textfiles.com/etext/AUTHORS/IRVING/irving-christmas-576.txt'),\n",
       " ('IRVING',\n",
       "  'http://www.textfiles.com/etext/AUTHORS/IRVING/irving-christmas-577.txt'),\n",
       " ('IRVING',\n",
       "  'http://www.textfiles.com/etext/AUTHORS/IRVING/irving-christmas-578.txt'),\n",
       " ('IRVING',\n",
       "  'http://www.textfiles.com/etext/AUTHORS/IRVING/irving-country-574.txt'),\n",
       " ('IRVING',\n",
       "  'http://www.textfiles.com/etext/AUTHORS/IRVING/irving-english-597.txt'),\n",
       " ('IRVING',\n",
       "  'http://www.textfiles.com/etext/AUTHORS/IRVING/irving-inn-581.txt'),\n",
       " ('IRVING',\n",
       "  'http://www.textfiles.com/etext/AUTHORS/IRVING/irving-legend-588.txt'),\n",
       " ('IRVING',\n",
       "  'http://www.textfiles.com/etext/AUTHORS/IRVING/irving-legend-68.txt'),\n",
       " ('IRVING',\n",
       "  'http://www.textfiles.com/etext/AUTHORS/IRVING/irving-little-573.txt'),\n",
       " ('IRVING',\n",
       "  'http://www.textfiles.com/etext/AUTHORS/IRVING/irving-london-598.txt'),\n",
       " ('IRVING',\n",
       "  'http://www.textfiles.com/etext/AUTHORS/IRVING/irving-mutability-582.txt'),\n",
       " ('IRVING',\n",
       "  'http://www.textfiles.com/etext/AUTHORS/IRVING/irving-philip-583.txt'),\n",
       " ('IRVING',\n",
       "  'http://www.textfiles.com/etext/AUTHORS/IRVING/irving-rip-586.txt'),\n",
       " ('IRVING',\n",
       "  'http://www.textfiles.com/etext/AUTHORS/IRVING/irving-roscoe-587.txt'),\n",
       " ('IRVING',\n",
       "  'http://www.textfiles.com/etext/AUTHORS/IRVING/irving-royal-585.txt'),\n",
       " ('IRVING',\n",
       "  'http://www.textfiles.com/etext/AUTHORS/IRVING/irving-rural-579.txt'),\n",
       " ('IRVING',\n",
       "  'http://www.textfiles.com/etext/AUTHORS/IRVING/irving-rural-584.txt'),\n",
       " ('IRVING',\n",
       "  'http://www.textfiles.com/etext/AUTHORS/IRVING/irving-spectre-600.txt'),\n",
       " ('IRVING',\n",
       "  'http://www.textfiles.com/etext/AUTHORS/IRVING/irving-stage-589.txt'),\n",
       " ('IRVING',\n",
       "  'http://www.textfiles.com/etext/AUTHORS/IRVING/irving-stratford-590.txt'),\n",
       " ('IRVING',\n",
       "  'http://www.textfiles.com/etext/AUTHORS/IRVING/irving-sunday-591.txt'),\n",
       " ('IRVING',\n",
       "  'http://www.textfiles.com/etext/AUTHORS/IRVING/irving-traits-592.txt'),\n",
       " ('IRVING',\n",
       "  'http://www.textfiles.com/etext/AUTHORS/IRVING/irving-voyage-593.txt'),\n",
       " ('IRVING',\n",
       "  'http://www.textfiles.com/etext/AUTHORS/IRVING/irving-westminster-594.txt'),\n",
       " ('IRVING',\n",
       "  'http://www.textfiles.com/etext/AUTHORS/IRVING/irving-widow-595.txt'),\n",
       " ('IRVING',\n",
       "  'http://www.textfiles.com/etext/AUTHORS/IRVING/irving-wife-596.txt'),\n",
       " ('IRVING', 'http://www.textfiles.com/etext/AUTHORS/IRVING/kitchen'),\n",
       " ('HAWTHORNE',\n",
       "  'http://www.textfiles.com/etext/AUTHORS/HAWTHORNE/hawthorne-alice-457.txt'),\n",
       " ('HAWTHORNE',\n",
       "  'http://www.textfiles.com/etext/AUTHORS/HAWTHORNE/hawthorne-ambitious-467.txt'),\n",
       " ('HAWTHORNE',\n",
       "  'http://www.textfiles.com/etext/AUTHORS/HAWTHORNE/hawthorne-artist-458.txt'),\n",
       " ('HAWTHORNE',\n",
       "  'http://www.textfiles.com/etext/AUTHORS/HAWTHORNE/hawthorne-birthmark-459.txt'),\n",
       " ('HAWTHORNE',\n",
       "  'http://www.textfiles.com/etext/AUTHORS/HAWTHORNE/hawthorne-celestial-477.txt'),\n",
       " ('HAWTHORNE',\n",
       "  'http://www.textfiles.com/etext/AUTHORS/HAWTHORNE/hawthorne-dr-468.txt'),\n",
       " ('HAWTHORNE',\n",
       "  'http://www.textfiles.com/etext/AUTHORS/HAWTHORNE/hawthorne-earths-471.txt'),\n",
       " ('HAWTHORNE',\n",
       "  'http://www.textfiles.com/etext/AUTHORS/HAWTHORNE/hawthorne-egotism-463.txt'),\n",
       " ('HAWTHORNE',\n",
       "  'http://www.textfiles.com/etext/AUTHORS/HAWTHORNE/hawthorne-ethan-461.txt'),\n",
       " ('HAWTHORNE',\n",
       "  'http://www.textfiles.com/etext/AUTHORS/HAWTHORNE/hawthorne-feathertop-464.txt'),\n",
       " ('HAWTHORNE',\n",
       "  'http://www.textfiles.com/etext/AUTHORS/HAWTHORNE/hawthorne-great-466.txt'),\n",
       " ('HAWTHORNE',\n",
       "  'http://www.textfiles.com/etext/AUTHORS/HAWTHORNE/hawthorne-hollow-470.txt'),\n",
       " ('HAWTHORNE',\n",
       "  'http://www.textfiles.com/etext/AUTHORS/HAWTHORNE/hawthorne-house-64.txt'),\n",
       " ('HAWTHORNE',\n",
       "  'http://www.textfiles.com/etext/AUTHORS/HAWTHORNE/hawthorne-lady-472.txt'),\n",
       " ('HAWTHORNE',\n",
       "  'http://www.textfiles.com/etext/AUTHORS/HAWTHORNE/hawthorne-maypole-474.txt'),\n",
       " ('HAWTHORNE',\n",
       "  'http://www.textfiles.com/etext/AUTHORS/HAWTHORNE/hawthorne-ministers-473.txt'),\n",
       " ('HAWTHORNE',\n",
       "  'http://www.textfiles.com/etext/AUTHORS/HAWTHORNE/hawthorne-mr-469.txt'),\n",
       " ('HAWTHORNE',\n",
       "  'http://www.textfiles.com/etext/AUTHORS/HAWTHORNE/hawthorne-my-475.txt'),\n",
       " ('HAWTHORNE',\n",
       "  'http://www.textfiles.com/etext/AUTHORS/HAWTHORNE/hawthorne-old-462.txt'),\n",
       " ('HAWTHORNE',\n",
       "  'http://www.textfiles.com/etext/AUTHORS/HAWTHORNE/hawthorne-peter-479.txt'),\n",
       " ('HAWTHORNE',\n",
       "  'http://www.textfiles.com/etext/AUTHORS/HAWTHORNE/hawthorne-prophetic-476.txt'),\n",
       " ('HAWTHORNE',\n",
       "  'http://www.textfiles.com/etext/AUTHORS/HAWTHORNE/hawthorne-rappaccinis-460.txt'),\n",
       " ('HAWTHORNE',\n",
       "  'http://www.textfiles.com/etext/AUTHORS/HAWTHORNE/hawthorne-scarlet-63.txt'),\n",
       " ('HAWTHORNE',\n",
       "  'http://www.textfiles.com/etext/AUTHORS/HAWTHORNE/hawthorne-snow-478.txt'),\n",
       " ('HAWTHORNE',\n",
       "  'http://www.textfiles.com/etext/AUTHORS/HAWTHORNE/hawthorne-wedding-480.txt'),\n",
       " ('HAWTHORNE',\n",
       "  'http://www.textfiles.com/etext/AUTHORS/HAWTHORNE/hawthorne-young-465.txt'),\n",
       " ('EMERSON',\n",
       "  'http://www.textfiles.com/etext/AUTHORS/EMERSON/emerson-address-226.txt'),\n",
       " ('EMERSON',\n",
       "  'http://www.textfiles.com/etext/AUTHORS/EMERSON/emerson-american-227.txt'),\n",
       " ('EMERSON',\n",
       "  'http://www.textfiles.com/etext/AUTHORS/EMERSON/emerson-conduct-228.txt'),\n",
       " ('EMERSON',\n",
       "  'http://www.textfiles.com/etext/AUTHORS/EMERSON/emerson-conservative-229.txt'),\n",
       " ('EMERSON',\n",
       "  'http://www.textfiles.com/etext/AUTHORS/EMERSON/emerson-english-230.txt'),\n",
       " ('EMERSON',\n",
       "  'http://www.textfiles.com/etext/AUTHORS/EMERSON/emerson-essays-231.txt'),\n",
       " ('EMERSON',\n",
       "  'http://www.textfiles.com/etext/AUTHORS/EMERSON/emerson-essays-232.txt'),\n",
       " ('EMERSON',\n",
       "  'http://www.textfiles.com/etext/AUTHORS/EMERSON/emerson-lecture-233.txt'),\n",
       " ('EMERSON',\n",
       "  'http://www.textfiles.com/etext/AUTHORS/EMERSON/emerson-literary-234.txt'),\n",
       " ('EMERSON',\n",
       "  'http://www.textfiles.com/etext/AUTHORS/EMERSON/emerson-man-235.txt'),\n",
       " ('EMERSON',\n",
       "  'http://www.textfiles.com/etext/AUTHORS/EMERSON/emerson-method-236.txt'),\n",
       " ('EMERSON',\n",
       "  'http://www.textfiles.com/etext/AUTHORS/EMERSON/emerson-nature-237.txt'),\n",
       " ('EMERSON',\n",
       "  'http://www.textfiles.com/etext/AUTHORS/EMERSON/emerson-representative-238.txt'),\n",
       " ('EMERSON',\n",
       "  'http://www.textfiles.com/etext/AUTHORS/EMERSON/emerson-transcendentalist-239.txt'),\n",
       " ('EMERSON',\n",
       "  'http://www.textfiles.com/etext/AUTHORS/EMERSON/emerson-uncollected-240.txt'),\n",
       " ('EMERSON',\n",
       "  'http://www.textfiles.com/etext/AUTHORS/EMERSON/emerson-young-241.txt'),\n",
       " ('DOYLE', 'http://www.textfiles.com/etext/AUTHORS/DOYLE/agrange.txt'),\n",
       " ('DOYLE', 'http://www.textfiles.com/etext/AUTHORS/DOYLE/b-p_plan.txt'),\n",
       " ('DOYLE', 'http://www.textfiles.com/etext/AUTHORS/DOYLE/bascombe.txt'),\n",
       " ('DOYLE', 'http://www.textfiles.com/etext/AUTHORS/DOYLE/beryl.txt'),\n",
       " ('DOYLE', 'http://www.textfiles.com/etext/AUTHORS/DOYLE/blanced.txt'),\n",
       " ('DOYLE', 'http://www.textfiles.com/etext/AUTHORS/DOYLE/blkpeter.txt'),\n",
       " ('DOYLE', 'http://www.textfiles.com/etext/AUTHORS/DOYLE/bluecar.txt'),\n",
       " ('DOYLE', 'http://www.textfiles.com/etext/AUTHORS/DOYLE/cardbox.txt'),\n",
       " ('DOYLE', 'http://www.textfiles.com/etext/AUTHORS/DOYLE/caseide.txt'),\n",
       " ('DOYLE', 'http://www.textfiles.com/etext/AUTHORS/DOYLE/charles.txt'),\n",
       " ('DOYLE', 'http://www.textfiles.com/etext/AUTHORS/DOYLE/copper.txt'),\n",
       " ('DOYLE', 'http://www.textfiles.com/etext/AUTHORS/DOYLE/creeping.txt'),\n",
       " ...]"
      ]
     },
     "execution_count": 31,
     "metadata": {},
     "output_type": "execute_result"
    }
   ],
   "source": [
    "authors_links.map(lambda x: 1)"
   ]
  },
  {
   "cell_type": "code",
   "execution_count": null,
   "metadata": {
    "collapsed": true
   },
   "outputs": [],
   "source": [
    "authors_links.map(lambda x: 1).reduce(lambda x,y: x+y) == authors_links.count()"
   ]
  },
  {
   "cell_type": "code",
   "execution_count": null,
   "metadata": {
    "collapsed": true
   },
   "outputs": [],
   "source": [
    "# let's see this approach more in detail\n",
    "\n",
    "# this transformation generates an rdd of 1, one per element in the RDD\n",
    "authors_map = authors_links.map(lambda x: 1)\n",
    "authors_map.takeSample(True,10)\n",
    "\n",
    "# with reduce, we pass a function with two parameters which is applied by pairs\n",
    "# inside the the function we specify which operation we perform with the two parameters\n",
    "# the result is then returned and the action is applied again using the result until there is only one element in the resulting "
   ]
  },
  {
   "cell_type": "code",
   "execution_count": null,
   "metadata": {
    "collapsed": true
   },
   "outputs": [],
   "source": [
    "# this is a very efficient way to do a summation in parallel\n",
    "# using a functional approach\n",
    "# we could define any operation inside the function\n",
    "authors_map.reduce(lambda x,y: x*y)"
   ]
  },
  {
   "cell_type": "markdown",
   "metadata": {},
   "source": [
    "**Exercise 9:** Compute the mean price of estates from csv containing Sacramento's estate price using aggregate function.\n",
    "\n",
    "**Answer 9**"
   ]
  },
  {
   "cell_type": "code",
   "execution_count": null,
   "metadata": {
    "collapsed": true
   },
   "outputs": [],
   "source": [
    "sacramento_estate_csv = sc.textFile(\"../data/Sacramentorealestatetransactions.csv\")\n",
    "header = sacramento_estate_csv.first()\n",
    "\n",
    "# first load the data\n",
    "# we know that the price is in column 9\n",
    "sacramento_estate = sacramento_estate_csv.filter(lambda x: x != header)\\\n",
    "        .map(lambda x: x.split(\",\"))\\\n",
    "        .map(lambda x: int(x[9]))\n",
    "\n",
    "sacramento_estate.takeSample(True, 10)"
   ]
  },
  {
   "cell_type": "code",
   "execution_count": null,
   "metadata": {
    "collapsed": true
   },
   "outputs": [],
   "source": [
    "seqOp = (lambda x,y: (x[0] + y, x[1] + 1))\n",
    "combOp = (lambda x,y: (x[0] + y[0], x[1] + y[1]))\n",
    "\n",
    "total_sum, number = sacramento_estate.aggregate((0,0),seqOp,combOp)\n",
    "mean = float(total_sum)/number\n",
    "mean"
   ]
  },
  {
   "cell_type": "markdown",
   "metadata": {},
   "source": [
    "**Exercise 10:** Get top 5 highest and lowest prices in Sacramento estate's transactions\n",
    "\n",
    "**Answer 10**"
   ]
  },
  {
   "cell_type": "code",
   "execution_count": null,
   "metadata": {
    "collapsed": true
   },
   "outputs": [],
   "source": [
    "print(sacramento_estate.top(5))\n",
    "print(sacramento_estate.top(5, key=lambda x: -x))"
   ]
  },
  {
   "cell_type": "markdown",
   "metadata": {
    "collapsed": true
   },
   "source": [
    "## Spark Key/Value Pairs\n",
    "\n",
    "Spark provides special operations on RDDs containing key/value pairs. \n",
    "\n",
    "These RDDs are called pair RDDs, but are simple RDDs with an special structure. In Python, for the functions on keyed data to work we need to return an RDD composed of tuples.\n",
    "\n",
    "**Exercise 1:** Create a pair RDD from our books information data, having author as key and the rest of the information as value. (Hint: the answer is very similar to the previous section Exercise 6)\n",
    "\n",
    "**Exercise 2:** Check that pair RDDs are also RDDs and that common RDD operations work as well. Filter elements with author equals to \"UNKNOWN\" from previous RDD. \n",
    "\n",
    "**Exercise 3:** Check mapValue in Spark API (http://spark.apache.org/docs/latest/api/python/pyspark.html#pyspark.RDD.mapValues) function that works on pair RDDs."
   ]
  },
  {
   "cell_type": "markdown",
   "metadata": {},
   "source": [
    "**Exercise 1:** Create a pair RDD from our books information data, having author as key and the rest of the information as value. (Hint: the answer is very similar to the previous section Exercise 6)\n",
    "\n",
    "**Answer 1:**"
   ]
  },
  {
   "cell_type": "code",
   "execution_count": 32,
   "metadata": {},
   "outputs": [
    {
     "name": "stdout",
     "output_type": "stream",
     "text": [
      "[('UNKNOWN', ['http://www.textfiles.com/etext/REFERENCE/15-songs.txt', '15-songs.txt', '17619', 'A Civil War Songbook (January 1990)']), ('UNKNOWN', ['http://www.textfiles.com/etext/REFERENCE/1776-va.rts', '1776-va.rts', '5907', 'The Virginia Declaration of Rights']), ('UNKNOWN', ['http://www.textfiles.com/etext/REFERENCE/1mlkd11.txt', '1mlkd11.txt', '817486', '\"Project Gutenberg: Martin Luther King\\'s \"\"I have a Dream\"\" Speech\"']), ('UNKNOWN', ['http://www.textfiles.com/etext/REFERENCE/1st_than.txt', '1st_than.txt', '2979', '\"The First Thanksgiving Proclomation', ' June 20', ' 1676\"']), ('UNKNOWN', ['http://www.textfiles.com/etext/REFERENCE/2sqrt10a.txt', '2sqrt10a.txt', '5262079', '\"Project Gutenberg: The Square Root of Two', ' to 5 Million digits\"'])]\n"
     ]
    }
   ],
   "source": [
    "import re\n",
    "\n",
    "def get_author_data(csv_line):\n",
    "    link = csv_line[0]\n",
    "    t = re.match(\"http://www.textfiles.com/etext/AUTHORS/(\\w+)/\",link)\n",
    "    if t:\n",
    "        return (t.group(1), csv_line)\n",
    "    return (u'UNKNOWN', csv_line)\n",
    "\n",
    "books_info = sc.textFile(\"../data/books.csv\").map(lambda x: x.split(\",\"))\n",
    "authors_info = books_info.map(get_author_data)\n",
    "\n",
    "print(authors_info.take(5))"
   ]
  },
  {
   "cell_type": "markdown",
   "metadata": {
    "collapsed": true
   },
   "source": [
    "**Exercise 2:** Check that pair RDDs are also RDDs and that common RDD operations work as well. Filter elements with author equals to \"UNKNOWN\" from previous RDD.\n",
    "\n",
    "**Answer 2:**\n",
    "\n",
    "The operations over pair RDDs will also be slightly different.\n",
    "\n",
    "But take into account that pair RDDs are just *special* RDDs that some operations can be applied, however common RDDs also fork for them.\n"
   ]
  },
  {
   "cell_type": "code",
   "execution_count": null,
   "metadata": {
    "collapsed": true
   },
   "outputs": [],
   "source": [
    "authors_info.filter(lambda x: x[0] != \"UNKNOWN\").take(3)"
   ]
  },
  {
   "cell_type": "markdown",
   "metadata": {},
   "source": [
    "**Exercise 3:** Check mapValue in Spark API (http://spark.apache.org/docs/latest/api/python/pyspark.html#pyspark.RDD.mapValues) function that works on pair RDDs.\n",
    "\n",
    "**Answer 3:** \n",
    "\n",
    "Sometimes is awkward to work with pairs, and Spark provides a map function that operates over values."
   ]
  },
  {
   "cell_type": "code",
   "execution_count": 33,
   "metadata": {},
   "outputs": [
    {
     "data": {
      "text/plain": [
       "[('UNKNOWN', '17619'),\n",
       " ('UNKNOWN', '5907'),\n",
       " ('UNKNOWN', '817486'),\n",
       " ('UNKNOWN', '2979'),\n",
       " ('UNKNOWN', '5262079')]"
      ]
     },
     "execution_count": 33,
     "metadata": {},
     "output_type": "execute_result"
    }
   ],
   "source": [
    "authors_info.mapValues(lambda x: x[2]).take(5)"
   ]
  },
  {
   "cell_type": "markdown",
   "metadata": {},
   "source": [
    "## Transformations on Pair RDDs\n",
    "\n",
    " Since pair RDDs contain tuples, we need to pass functions that operate on tuples rather than on individual elements.\n",
    " \n",
    " * *reduceByKey(func):* Combine values with the same key.\n",
    " * *groupByKey():* Group values with the same key.\n",
    " * *combineByKey(createCombiner, mergeValue, mergeCombiners, partitioner):* Combine values with the same key using a different result type.\n",
    " * *keys():* return RDD keys\n",
    " * *values():* return RDD values\n",
    " * *groupBy():* takes a function that it applies to every element in the source RDD and uses the result to determine the key.\n",
    " * *cogroup():* over two RDDs sharing the same key type, K, with the respective value types V and W gives us back RDD[(K,(Iterable[V], Iterable[W]))]. If one of the RDDs doesn’t have elements for a given key that is present in the other RDD, the corresponding Iterable is simply empty. cogroup() gives us the power to group data from multiple RDDs.\n",
    "\n",
    "**Exercise 1:** Get the total size of files for each author. \n",
    "\n",
    "**Exercise 2:** Get the top 5 authors with more data.\n",
    "\n",
    "**Exercise 3:** Try the combineByKey() with a randomly generated set of 5 values for 4 keys. Get the average value of the random variable for each key.\n",
    "\n",
    "**Exercise 4:** Compute the average book size per author using combineByKey(). If you were an English Literature student and your teacher says: \"Pick one Author and I'll randomly pick a book for you to read\", what would be a Data Scientist answer?\n",
    "\n",
    "**Exercise 5:** All Spark books have the word count example. Let's count words over all our books! (This might take some time)\n",
    "\n",
    "**Exercise 6:** Group author data by author surname initial. How many authors have we grouped? \n",
    "\n",
    "**Exercise 7:** Generate a pair RDD with alphabet letters in upper case as key, and empty list as value. Then group the previous RDD with this new one."
   ]
  },
  {
   "cell_type": "markdown",
   "metadata": {},
   "source": [
    "**Exercise 1:** Get the total size of files for each author. \n",
    "\n",
    "**Answer 1**"
   ]
  },
  {
   "cell_type": "code",
   "execution_count": 34,
   "metadata": {},
   "outputs": [
    {
     "data": {
      "text/plain": [
       "[('UNKNOWN', 17619),\n",
       " ('UNKNOWN', 5907),\n",
       " ('UNKNOWN', 817486),\n",
       " ('UNKNOWN', 2979),\n",
       " ('UNKNOWN', 5262079)]"
      ]
     },
     "execution_count": 34,
     "metadata": {},
     "output_type": "execute_result"
    }
   ],
   "source": [
    "# first get each book size, keyed by author\n",
    "authors_data = authors_info.mapValues(lambda x: int(x[2]))\n",
    "authors_data.take(5)"
   ]
  },
  {
   "cell_type": "code",
   "execution_count": 35,
   "metadata": {},
   "outputs": [
    {
     "data": {
      "text/plain": [
       "[('WILDE', 669926),\n",
       " ('TWAIN', 13259786),\n",
       " ('SHAKESPEARE', 5347823),\n",
       " ('KEATS', 360556),\n",
       " ('KANT', 5901915),\n",
       " ('EMERSON', 2655619),\n",
       " ('DICKENS', 14236826),\n",
       " ('BURROUGHS', 10070497),\n",
       " ('ARISTOTLE', 6219825),\n",
       " ('UNKNOWN', 266421132),\n",
       " ('STEVENSON', 6965452),\n",
       " ('POE', 3395985),\n",
       " ('PLATO', 3648947),\n",
       " ('MILTON', 911458),\n",
       " ('JEFFERSON', 6565921),\n",
       " ('IRVING', 2223565),\n",
       " ('HAWTHORNE', 1898878),\n",
       " ('DOYLE', 8450256)]"
      ]
     },
     "execution_count": 35,
     "metadata": {},
     "output_type": "execute_result"
    }
   ],
   "source": [
    "# ther reduce summing\n",
    "authors_data.reduceByKey(lambda y,x: y+x).collect()"
   ]
  },
  {
   "cell_type": "markdown",
   "metadata": {},
   "source": [
    "**Exercise 2:** Get the top 5 authors with more data.\n",
    "\n",
    "**Answer 2:**"
   ]
  },
  {
   "cell_type": "code",
   "execution_count": 36,
   "metadata": {},
   "outputs": [
    {
     "data": {
      "text/plain": [
       "[('UNKNOWN', 266421132),\n",
       " ('DICKENS', 14236826),\n",
       " ('TWAIN', 13259786),\n",
       " ('BURROUGHS', 10070497),\n",
       " ('DOYLE', 8450256)]"
      ]
     },
     "execution_count": 36,
     "metadata": {},
     "output_type": "execute_result"
    }
   ],
   "source": [
    "authors_data.reduceByKey(lambda y,x: y+x).top(5,key=lambda x: x[1])"
   ]
  },
  {
   "cell_type": "markdown",
   "metadata": {},
   "source": [
    "**Exercise 3:** Try the combineByKey() with a randomly generated set of 5 values for 4 keys. Get the average value of the random variable for each key.\n",
    "\n",
    "**Answer 3:**"
   ]
  },
  {
   "cell_type": "code",
   "execution_count": 37,
   "metadata": {},
   "outputs": [
    {
     "name": "stdout",
     "output_type": "stream",
     "text": [
      "(0, 1.5437653337261694)\n",
      "(1, 0.65748608206221792)\n",
      "(2, -0.38235526009897841)\n",
      "(3, 0.039119358601580403)\n",
      "(4, -1.7397145373854754)\n",
      "(0, -1.7465247350830679)\n",
      "(1, -1.0386139399438958)\n",
      "(2, -0.50536795184340111)\n",
      "(3, 1.9100846531883953)\n",
      "(4, -0.87816792400983468)\n",
      "(0, -0.087730040704187925)\n",
      "(1, 0.33529193852942135)\n",
      "(2, -0.61831288058166778)\n",
      "(3, 0.76907737141969079)\n",
      "(4, -1.7186907641940854)\n",
      "(0, 0.21791433652567552)\n",
      "(1, -0.18006545143964928)\n",
      "(2, 0.89234370071574598)\n",
      "(3, 2.5872563617692288)\n",
      "(4, 0.78651884477127676)\n",
      "(0, 0.66646042307510822)\n",
      "(1, -0.29374527303519687)\n",
      "(2, 2.1624520079384633)\n",
      "(3, 0.76208266251226742)\n",
      "(4, 1.8676136698087802)\n"
     ]
    }
   ],
   "source": [
    "import numpy as np\n",
    "\n",
    "# generate the data\n",
    "for pair in list(zip(np.arange(5).tolist()*5, np.random.normal(0,1,5*5))):\n",
    "    print(pair)\n",
    "    \n",
    "rdd = sc.parallelize(zip(np.arange(5).tolist()*5, np.random.normal(0,1,5*5)))"
   ]
  },
  {
   "cell_type": "code",
   "execution_count": 38,
   "metadata": {},
   "outputs": [
    {
     "name": "stdout",
     "output_type": "stream",
     "text": [
      "[(0, (-0.10144514438418839, 5)), (4, (0.35367314705332142, 5)), (1, (1.7978246140886409, 5)), (2, (-2.8083650654125174, 5)), (3, (2.0831148526502314, 5))]\n"
     ]
    },
    {
     "data": {
      "text/plain": [
       "[(0, -0.020289028876837679),\n",
       " (4, 0.070734629410664288),\n",
       " (1, 0.35956492281772817),\n",
       " (2, -0.5616730130825035),\n",
       " (3, 0.41662297053004627)]"
      ]
     },
     "execution_count": 38,
     "metadata": {},
     "output_type": "execute_result"
    }
   ],
   "source": [
    "createCombiner = lambda value: (value,1)\n",
    "# you can check what createCombiner does\n",
    "# rdd.mapValues(createCombiner).collect()\n",
    "\n",
    "# here x is the combiner (sum,count) and value is value in the \n",
    "# initial RDD (the random variable)\n",
    "mergeValue = lambda x, value: (x[0] + value, x[1] + 1)\n",
    "\n",
    "# here, all combiners are summed (sum,count)\n",
    "mergeCombiner = lambda x, y: (x[0] + y[0], x[1] + y[1])\n",
    "\n",
    "sumCount = rdd.combineByKey(createCombiner,\n",
    "                        mergeValue,\n",
    "                         mergeCombiner)\n",
    "\n",
    "print(sumCount.collect())\n",
    "sumCount.mapValues(lambda x: x[0]/x[1]).collect()"
   ]
  },
  {
   "cell_type": "markdown",
   "metadata": {},
   "source": [
    "**Exercise 4:** Compute the average book size per author using combineByKey(). If you were an English Literature student and your teacher says: \"Pick one Author and I'll randomly pick a book for you to read\", what would be a Data Scientist answer?\n",
    "\n",
    "**Answer 4:**"
   ]
  },
  {
   "cell_type": "code",
   "execution_count": null,
   "metadata": {
    "collapsed": true
   },
   "outputs": [],
   "source": [
    "createCombiner = lambda value: (value,1)\n",
    "# you can check what createCombiner does\n",
    "# rdd.mapValues(createCombiner).collect()\n",
    "\n",
    "# here x is the combiner (sum,count) and value is value in the \n",
    "# initial RDD (the random variable)\n",
    "mergeValue = lambda x, value: (x[0] + value, x[1] + 1)\n",
    "\n",
    "# here, all combiners are summed (sum,count)\n",
    "mergeCombiner = lambda x, y: (x[0] + y[0], x[1] + y[1])\n",
    "\n",
    "sumCount = authors_data.combineByKey(createCombiner,\n",
    "                        mergeValue,\n",
    "                         mergeCombiner)\n",
    "\n",
    "print(sumCount.mapValues(lambda x: x[0]/x[1]).collect())\n",
    "# I would choose the author with lowest average book size\n",
    "print(sumCount.mapValues(lambda x: x[0]/x[1]).top(5,lambda x: -x[1]))"
   ]
  },
  {
   "cell_type": "markdown",
   "metadata": {},
   "source": [
    "**Exercise 5:** All Spark books have the word count example. Let's count words over all our books! (This might take some time)\n",
    "\n",
    "**Answer 5:**"
   ]
  },
  {
   "cell_type": "code",
   "execution_count": null,
   "metadata": {
    "collapsed": true
   },
   "outputs": [],
   "source": [
    "import urllib3\n",
    "import re\n",
    "\n",
    "def download_file(csv_line):\n",
    "    link = csv_line[0]\n",
    "    http = urllib3.PoolManager()\n",
    "    r = http.request('GET', link, preload_content=False)\n",
    "    response = r.read()\n",
    "    return str(response)\n",
    "    \n",
    "books_info = sc.textFile(\"../data/books.csv\").map(lambda x: x.split(\",\"))\n",
    "#books_content = books_info.map(download_file)\n",
    "# while trying the function use only two samples\n",
    "books_content = sc.parallelize(books_info.map(download_file).take(2))\n",
    "\n",
    "words_rdd = books_content.flatMap(lambda x: x.split(\" \")).\\\n",
    "                          flatMap(lambda x: x.split(\"\\r\\n\")).\\\n",
    "                          map(lambda x: re.sub('[^0-9a-zA-Z]+', '', x).lower()).\\\n",
    "                          filter(lambda x: x != '')\n",
    "\n",
    "words_rdd.map(lambda x: (x,1)).reduceByKey(lambda x,y: x+y).top(5, key=lambda x: x[1])"
   ]
  },
  {
   "cell_type": "markdown",
   "metadata": {},
   "source": [
    "**Exercise 6:** Group author data by author surname initial. How many authors have we grouped? \n",
    "\n",
    "**Answer 6:**"
   ]
  },
  {
   "cell_type": "code",
   "execution_count": null,
   "metadata": {
    "collapsed": true
   },
   "outputs": [],
   "source": [
    "print(authors_info.groupBy(lambda x: x[0][0]).collect())\n",
    "\n",
    "authors_info.map(lambda x: x[0]).distinct().\\\n",
    "                map(lambda x: (x[0],1)).\\\n",
    "                reduceByKey(lambda x,y: x+y).\\\n",
    "                filter(lambda x: x[1]>1).\\\n",
    "                collect()"
   ]
  },
  {
   "cell_type": "markdown",
   "metadata": {},
   "source": [
    "**Exercise 7:** Generate a pair RDD with alphabet letters in upper case as key, and empty list as value. Then group the previous RDD with this new one.\n",
    "\n",
    "**Answer 7:**"
   ]
  },
  {
   "cell_type": "code",
   "execution_count": null,
   "metadata": {
    "collapsed": true
   },
   "outputs": [],
   "source": [
    "import string\n",
    "\n",
    "sc.parallelize(list(string.ascii_uppercase)).\\\n",
    "                                map(lambda x: (x,[])).\\\n",
    "                                cogroup(authors_info.groupBy(lambda x: x[0][0])).\\\n",
    "                                take(5)"
   ]
  },
  {
   "cell_type": "markdown",
   "metadata": {},
   "source": [
    "## Joins\n",
    "\n",
    "Some of the most useful operations we get with keyed data comes from using it together with other keyed data. \n",
    "\n",
    "Joining data together is probably one of the most common operations on a pair RDD, and we have a full range of options including right and left outer joins, cross joins, and inner joins.\n",
    "\n",
    "### Inner Join\n",
    "\n",
    "Only keys that are present in both pair RDDs are output. \n",
    "\n",
    "When there are multiple values for the same key in one of the inputs, the resulting pair RDD will have an entry for every possible pair of values with that key from the two input RDDs\n"
   ]
  },
  {
   "cell_type": "markdown",
   "metadata": {},
   "source": [
    "**Exercise:**\n",
    "\n",
    "Take countries_data_clean.csv and countries_GDP_clean.csv and join them using country name as key. \n",
    "\n",
    "Before doing the join, please, check how many element should the resulting pair RDD have. \n",
    "\n",
    "After the join, check if the initial hypothesis was true. \n",
    "\n",
    "In case it is not, what is the reason? \n",
    "\n",
    "How would you resolve that problem?"
   ]
  },
  {
   "cell_type": "code",
   "execution_count": 39,
   "metadata": {},
   "outputs": [
    {
     "name": "stdout",
     "output_type": "stream",
     "text": [
      "The final number of elements in the joined rdd should be:  229\n",
      "[('Afghanistan', ['0', 'Afghanistan', 'Afghanistan', 'Afganistan/Afqanestan', 'AF', 'Asia', '', '32564342', '652230', '0', 'islamic republic', 'Afghani', 'AFN', '93', '38.6', '13.9', '50.9', 'https://www.laenderdaten.info/Asien/Afghanistan/index.php'])]\n",
      "[('United States', ['0', 'USA', '1', 'United States', '17946996.0'])]\n",
      "The initial hypothesis is  False\n",
      "The final joined rdd size is  184\n"
     ]
    }
   ],
   "source": [
    "#more info: https://www.worlddata.info/downloads/\n",
    "rdd_countries = sc.textFile(\"../data/countries_data_clean.csv\").map(lambda x: x.split(\",\"))\n",
    "#more info: http://data.worldbank.org/data-catalog/GDP-ranking-table\n",
    "rdd_gdp = sc.textFile(\"../data/countries_GDP_clean.csv\").map(lambda x: x.split(\";\"))\n",
    "\n",
    "# check rdds size\n",
    "hyp_final_rdd_num = rdd_gdp.count() if rdd_countries.count() > rdd_gdp.count() else rdd_countries.count()\n",
    "print(\"The final number of elements in the joined rdd should be: \", hyp_final_rdd_num)\n",
    "p_rdd_gdp = rdd_gdp.map(lambda x: (x[3],x))\n",
    "p_rdd_countries = rdd_countries.map(lambda x: (x[1],x))\n",
    "\n",
    "print(p_rdd_countries.take(1))\n",
    "print(p_rdd_gdp.take(1))\n",
    "\n",
    "p_rdd_contry_data = p_rdd_countries.join(p_rdd_gdp)\n",
    "\n",
    "final_join_rdd_size = p_rdd_contry_data.count()\n",
    "hyp = hyp_final_rdd_num == final_join_rdd_size\n",
    "print(\"The initial hypothesis is \", hyp)\n",
    "if not hyp:\n",
    "    print(\"The final joined rdd size is \", final_join_rdd_size)"
   ]
  },
  {
   "cell_type": "markdown",
   "metadata": {},
   "source": [
    "## Left and Right outer Joins\n",
    "\n",
    "Sometimes we don’t need the key to be present in both RDDs to want it in our result.\n",
    "\n",
    "For example, imagine that our list of countries is not complete, and we don't want to miss data if it a country is not present in both RDDs.\n",
    "\n",
    "**leftOuterJoin(other)** and **rightOuterJoin(other)** both join pair RDDs together by key, where one of the pair RDDs can be missing the key.\n",
    "\n",
    "With **leftOuterJoin()** the resulting pair RDD has entries for each key in the source RDD.\n",
    "\n",
    "The value associated with each key in the result is a tuple of the value from the source RDD and an Option for the value from the other pair RDD. \n",
    "\n",
    "In Python, if a value isn’t present None is used; and if the value is present the regular value, without any wrapper, is used. \n",
    "\n",
    "As with join(), we can have multiple entries for each key; when this occurs, we get the Cartesian product between the two lists of values.\n",
    "\n",
    "**rightOuterJoin()** is almost identical to leftOuterJoin() except the key must be present in the other RDD and the tuple has an option for the source rather than the other RDD."
   ]
  },
  {
   "cell_type": "markdown",
   "metadata": {},
   "source": [
    "**Exercise:**\n",
    "\n",
    "Use two simple RDDs to show the results of left and right outer join."
   ]
  },
  {
   "cell_type": "code",
   "execution_count": 40,
   "metadata": {},
   "outputs": [
    {
     "name": "stdout",
     "output_type": "stream",
     "text": [
      "rdd_1:  [(0, 1), (1, 1), (2, 1), (3, 1), (4, 1)]\n",
      "rdd_2:  [(0, 1), (2, 1), (4, 1), (6, 1), (8, 1)]\n",
      "leftOuterJoin:  [(0, (1, 1)), (1, (1, None)), (2, (1, 1)), (3, (1, None)), (4, (1, 1))]\n",
      "rightOuterJoin:  [(0, (1, 1)), (8, (None, 1)), (2, (1, 1)), (4, (1, 1)), (6, (None, 1))]\n",
      "join:  [(0, (1, 1)), (2, (1, 1)), (4, (1, 1))]\n",
      "rdd_3:  [(0, 1), (2, 1), (4, 1), (6, 1), (8, 1), (4, 2), (6, 4)]\n",
      "join:  [(0, (1, 1)), (8, (1, 1)), (2, (1, 1)), (4, (1, 1)), (4, (1, 2)), (6, (1, 1)), (6, (1, 4))]\n"
     ]
    }
   ],
   "source": [
    "n = 5\n",
    "rdd_1 = sc.parallelize([(x,1) for x in range(n)])\n",
    "rdd_2 = sc.parallelize([(x*2,1) for x in range(n)])\n",
    "\n",
    "print(\"rdd_1: \",rdd_1.collect())\n",
    "print(\"rdd_2: \",rdd_2.collect())\n",
    "\n",
    "print(\"leftOuterJoin: \",rdd_1.leftOuterJoin(rdd_2).collect())\n",
    "print(\"rightOuterJoin: \",rdd_1.rightOuterJoin(rdd_2).collect())\n",
    "\n",
    "print(\"join: \", rdd_1.join(rdd_2).collect())\n",
    "\n",
    "#explore what hapens if a key is present twice or more\n",
    "rdd_3 = sc.parallelize([(x*2,1) for x in range(n)] + [(4,2),(6,4)])\n",
    "print(\"rdd_3: \",rdd_3.collect())\n",
    "print(\"join: \", rdd_2.join(rdd_3).collect())\n"
   ]
  },
  {
   "cell_type": "markdown",
   "metadata": {},
   "source": [
    "**Exercise:**\n",
    "\n",
    "Generate two pair RDDs with country info:\n",
    "1. A first one with country code and GDP\n",
    "2. A second one with country code and life expectancy\n",
    "\n",
    "Then join them to have a pair RDD with country code plus GDP and life expentancy."
   ]
  },
  {
   "cell_type": "markdown",
   "metadata": {},
   "source": [
    "**Answer:**\n",
    "\n",
    "Inspect the dataset with GDP."
   ]
  },
  {
   "cell_type": "code",
   "execution_count": null,
   "metadata": {
    "collapsed": true
   },
   "outputs": [],
   "source": [
    "rdd_gdp = sc.textFile(\"../data/countries_GDP_clean.csv\").map(lambda x: x.split(\";\"))\n",
    "rdd_gdp.take(2)\n",
    "#generate a pair rdd with countrycode and GDP\n",
    "rdd_cc_gdp = rdd_gdp.map(lambda x: (x[1],x[4]))\n",
    "rdd_cc_gdp.take(2)"
   ]
  },
  {
   "cell_type": "markdown",
   "metadata": {},
   "source": [
    "Inspect the dataset with life expectancy."
   ]
  },
  {
   "cell_type": "code",
   "execution_count": null,
   "metadata": {
    "collapsed": true
   },
   "outputs": [],
   "source": [
    "rdd_countries = sc.textFile(\"../data/countries_data_clean.csv\").map(lambda x: x.split(\",\"))\n",
    "print(rdd_countries.take(2))\n",
    "#generate a pair rdd with countrycode and lifexpectancy \n",
    "#(more info in https://www.worlddata.info/downloads/)\n",
    "#we don't have countrycode in this dataset, but let's try to add it\n",
    "#we have a dataset with countrynames and countrycodes\n",
    "#let's take countryname and ISO 3166-1 alpha3 code\n",
    "rdd_cc = sc.textFile(\"../data/countrycodes.csv\").\\\n",
    "                    map(lambda x: x.split(\";\")).\\\n",
    "                    map(lambda x: (x[0].strip(\"\\\"\"),x[4].strip(\"\\\"\"))).\\\n",
    "                    filter(lambda x: x[0] != 'Country (en)')\n",
    "print(rdd_cc.take(2))"
   ]
  },
  {
   "cell_type": "code",
   "execution_count": null,
   "metadata": {
    "collapsed": true
   },
   "outputs": [],
   "source": [
    "rdd_cc_info = rdd_countries.map(lambda x: (x[1],x[16]))\n",
    "rdd_cc_info.take(2)"
   ]
  },
  {
   "cell_type": "code",
   "execution_count": null,
   "metadata": {
    "collapsed": true
   },
   "outputs": [],
   "source": [
    "#let's count and see if something is missing\n",
    "print(rdd_cc.count())\n",
    "print(rdd_cc_info.count())"
   ]
  },
  {
   "cell_type": "code",
   "execution_count": null,
   "metadata": {
    "collapsed": true
   },
   "outputs": [],
   "source": [
    "#take only values, the name is no longer needed\n",
    "rdd_name_cc_le = rdd_cc_info.leftOuterJoin(rdd_cc)\n",
    "rdd_cc_le = rdd_name_cc_le.map(lambda x: x[1])\n",
    "print(rdd_cc_le.take(5))\n",
    "print(rdd_cc_le.count())"
   ]
  },
  {
   "cell_type": "code",
   "execution_count": null,
   "metadata": {
    "collapsed": true
   },
   "outputs": [],
   "source": [
    "#what is missing?\n",
    "rdd_name_cc_le.filter(lambda x: x[1][1] == None).collect()\n",
    "#how can we solve this problem??"
   ]
  },
  {
   "cell_type": "markdown",
   "metadata": {},
   "source": [
    "We have some missing data, that we have to complete, but we have quite a lot of data, let's follow.\n",
    "\n",
    "Inspect the results of GDP and life expectancy and join them. **Is there some data missing?**"
   ]
  },
  {
   "cell_type": "code",
   "execution_count": null,
   "metadata": {
    "collapsed": true
   },
   "outputs": [],
   "source": [
    "print(\"Is there some data missing?\", rdd_cc_gdp.count() != rdd_cc_le.count())\n",
    "print(\"GDP dataset: \", rdd_cc_gdp.count())\n",
    "print(\"Life expectancy dataset: \", rdd_cc_le.count())"
   ]
  },
  {
   "cell_type": "code",
   "execution_count": null,
   "metadata": {
    "collapsed": true
   },
   "outputs": [],
   "source": [
    "#lets try to see what happens\n",
    "print(rdd_cc_le.take(10))\n",
    "print (rdd_cc_gdp.take(10))"
   ]
  },
  {
   "cell_type": "code",
   "execution_count": null,
   "metadata": {
    "collapsed": true
   },
   "outputs": [],
   "source": [
    "rdd_cc_gdp_le = rdd_cc_le.map(lambda x: (x[1],x[0])).leftOuterJoin(rdd_cc_gdp)\n",
    "#we have some countries that the data is missing\n",
    "# we have to check if this data is available\n",
    "# or there is any error\n",
    "rdd_cc_gdp_le.take(10)"
   ]
  },
  {
   "cell_type": "markdown",
   "metadata": {},
   "source": [
    "## Sort Data\n",
    "\n",
    "sortByKey(): We can sort an RDD with key/value pairs provided that there is an ordering defined on the key.\n",
    "\n",
    "Once we have sorted our data, any subsequent call on the sorted data to collect() or save() will result in ordered data."
   ]
  },
  {
   "cell_type": "markdown",
   "metadata": {},
   "source": [
    "**Exercise:**\n",
    "Sort country data by key."
   ]
  },
  {
   "cell_type": "code",
   "execution_count": 41,
   "metadata": {},
   "outputs": [
    {
     "data": {
      "text/plain": [
       "[('Afghanistan',\n",
       "  (['0',\n",
       "    'Afghanistan',\n",
       "    'Afghanistan',\n",
       "    'Afganistan/Afqanestan',\n",
       "    'AF',\n",
       "    'Asia',\n",
       "    '',\n",
       "    '32564342',\n",
       "    '652230',\n",
       "    '0',\n",
       "    'islamic republic',\n",
       "    'Afghani',\n",
       "    'AFN',\n",
       "    '93',\n",
       "    '38.6',\n",
       "    '13.9',\n",
       "    '50.9',\n",
       "    'https://www.laenderdaten.info/Asien/Afghanistan/index.php'],\n",
       "   ['109', 'AFG', '110', 'Afghanistan', '19199.0'])),\n",
       " ('Albania',\n",
       "  (['2',\n",
       "    'Albania',\n",
       "    'Albanien',\n",
       "    'Shqipëria',\n",
       "    'AL',\n",
       "    'Europe',\n",
       "    '',\n",
       "    '3029278',\n",
       "    '28748',\n",
       "    '362',\n",
       "    'republic',\n",
       "    'Lek',\n",
       "    'ALL',\n",
       "    '355',\n",
       "    '12.9',\n",
       "    '6.6',\n",
       "    '78.1',\n",
       "    'https://www.laenderdaten.info/Europa/Albanien/index.php'],\n",
       "   ['129', 'ALB', '130', 'Albania', '11456.0']))]"
      ]
     },
     "execution_count": 41,
     "metadata": {},
     "output_type": "execute_result"
    }
   ],
   "source": [
    "p_rdd_contry_data.sortByKey().take(2)"
   ]
  },
  {
   "cell_type": "markdown",
   "metadata": {},
   "source": [
    "## Actions over Pair RDDs\n",
    "\n",
    "* countByKey(): Count the number of elements for each key.\n",
    "* collectAsMap(): Collect the result as a map to provide easy lookup.\n",
    "* lookup(key): Return all values associated with the provided key.\n",
    "\n",
    "**Exercises:**\n",
    "    1. Count countries RDD by key\n",
    "    2. Collect countries RDD as map\n",
    "    3. Lookup Andorra info in countries RDD"
   ]
  },
  {
   "cell_type": "code",
   "execution_count": 42,
   "metadata": {},
   "outputs": [
    {
     "data": {
      "text/plain": [
       "1"
      ]
     },
     "execution_count": 42,
     "metadata": {},
     "output_type": "execute_result"
    }
   ],
   "source": [
    "p_rdd_contry_data.countByKey()[\"Andorra\"]"
   ]
  },
  {
   "cell_type": "code",
   "execution_count": 43,
   "metadata": {},
   "outputs": [
    {
     "data": {
      "text/plain": [
       "(['5',\n",
       "  'Andorra',\n",
       "  'Andorra',\n",
       "  'Andorra',\n",
       "  'AD',\n",
       "  'Europe',\n",
       "  '',\n",
       "  '85580',\n",
       "  '468',\n",
       "  '0',\n",
       "  'constitutional monarchy',\n",
       "  'Euro',\n",
       "  'EUR',\n",
       "  '376',\n",
       "  '8.1',\n",
       "  '7.0',\n",
       "  '82.7',\n",
       "  'https://www.laenderdaten.info/Europa/Andorra/index.php'],\n",
       " ['161', 'ADO', '162', 'Andorra', '3249.0'])"
      ]
     },
     "execution_count": 43,
     "metadata": {},
     "output_type": "execute_result"
    }
   ],
   "source": [
    "p_rdd_contry_data.collectAsMap()[\"Andorra\"]"
   ]
  },
  {
   "cell_type": "code",
   "execution_count": null,
   "metadata": {
    "collapsed": true
   },
   "outputs": [],
   "source": [
    "#p_rdd_contry_data.lookup(\"Andorra\")"
   ]
  },
  {
   "cell_type": "markdown",
   "metadata": {},
   "source": [
    "## Data Partitioning\n",
    "\n",
    "(*from: Learning Spark - O'Reilly*)\n",
    "\n",
    "Spark programs can choose to control their RDDs’ partitioning to reduce communication. \n",
    "\n",
    "Partitioning will not be helpful in all applications— for example, if a given RDD is scanned only once, there is no point in partitioning it in advance. \n",
    "\n",
    "It is useful only when a dataset is reused multiple times in key-oriented operations such as joins.\n",
    "\n",
    "Spark’s partitioning is **available on all RDDs of key/value pairs**, and causes the system to **group elements based on a function of each key**.\n",
    "\n",
    "Spark does not give explicit control of which worker node each key goes to (partly because the system is designed to work even if specific nodes fail), it lets the program ensure that a set of keys will appear together on some node. \n",
    "\n",
    "**Example:**\n",
    "\n",
    "As a simple example, consider an application that keeps a large table of user information in memory—say, an RDD of (UserID, UserInfo) pairs, where UserInfo contains a list of topics the user is subscribed to. "
   ]
  },
  {
   "cell_type": "code",
   "execution_count": null,
   "metadata": {
    "collapsed": true
   },
   "outputs": [],
   "source": [
    "rdd_userinfo = sc.textFile(\"../data/users_events_example/user_info_1000users_20topics.csv\")\\\n",
    "                    .filter(lambda x: len(x)>0)\\\n",
    "                    .map(lambda x: (x.split(\",\")[0],x.split(\",\")[1].split(\"|\")))\n",
    "rdd_userinfo.take(2)"
   ]
  },
  {
   "cell_type": "markdown",
   "metadata": {},
   "source": [
    "The application periodically combines this table with a smaller file representing events that happened in the past five minutes—say, a table of (UserID, LinkInfo) pairs for users who have clicked a link on a website in those five minutes."
   ]
  },
  {
   "cell_type": "code",
   "execution_count": null,
   "metadata": {
    "collapsed": true
   },
   "outputs": [],
   "source": [
    "rdd_userevents = sc.textFile(\"../data/users_events_example/userevents_*.log\")\\\n",
    "                                .filter(lambda x: len(x))\\\n",
    "                                .map(lambda x: (x.split(\",\")[1], [x.split(\",\")[2]]))\n",
    "print(rdd_userevents.take(2))"
   ]
  },
  {
   "cell_type": "markdown",
   "metadata": {},
   "source": [
    "For example, we may wish to count how many users visited a link that was not to one of their subscribed topics. We can perform this combination with Spark’s join() operation, which can be used to group the User Info and LinkInfo pairs for each UserID by key."
   ]
  },
  {
   "cell_type": "code",
   "execution_count": null,
   "metadata": {
    "collapsed": true
   },
   "outputs": [],
   "source": [
    "rdd_joined = rdd_userinfo.join(rdd_userevents)\n",
    "print(rdd_joined.count())\n",
    "print(rdd_joined.filter(lambda x: (x[1][1][0] not in x[1][0])).count())\n",
    "print(rdd_joined.filter(lambda x: (x[1][1][0] in x[1][0])).count())"
   ]
  },
  {
   "cell_type": "markdown",
   "metadata": {},
   "source": [
    "Imagine that we want to count the number of visits to non-subscribed visits using a function. "
   ]
  },
  {
   "cell_type": "code",
   "execution_count": null,
   "metadata": {
    "collapsed": true
   },
   "outputs": [],
   "source": [
    "rdd_userinfo = sc.textFile(\"../data/users_events_example/user_info_1000users_20topics.csv\")\\\n",
    "                    .filter(lambda x: len(x)>0)\\\n",
    "                    .map(lambda x: (x.split(\",\")[0],x.split(\",\")[1].split(\"|\"))).persist()\n",
    "        \n",
    "def process_new_logs(event_fite_path):\n",
    "    rdd_userevents = sc.textFile(event_fite_path)\\\n",
    "                                .filter(lambda x: len(x))\\\n",
    "                                .map(lambda x: (x.split(\",\")[1], [x.split(\",\")[2]]))\n",
    "    rdd_joined = rdd_userinfo.join(rdd_userevents)\n",
    "    print(\"Number of visits to non-subscribed topics: \",\n",
    "        rdd_joined.filter(lambda x: (x[1][1][0] not in x[1][0])).count())\n",
    "        \n",
    "process_new_logs(\"../data/users_events_example/userevents_01012016000500.log\")"
   ]
  },
  {
   "cell_type": "markdown",
   "metadata": {},
   "source": [
    "This code will run fine as is, but it will be inefficient. \n",
    "\n",
    "This is because the join() operation, called each time process_new_logs() is invoked, does not know anything about how the keys are partitioned in the datasets. \n",
    "\n",
    "By default, this operation will hash all  the keys of both datasets, sending elements with the same key hash across the network to the same machine, and then join together the elements with the same key on that machine (see figure below). \n",
    "\n",
    "![user partitioning example rdds](https://github.com/f-guitart/data_mining/blob/master/notes/img/user_partitioning_example_rdds.png?raw=true \"user partitioning example rdds\")"
   ]
  },
  {
   "cell_type": "markdown",
   "metadata": {},
   "source": [
    "Because we expect the rdd_userinfo table to be much larger than the small log of events seen every five minutes, this wastes a lot of work: the rdd_userinfo table is hashed and shuffled across the network on every call, even though it doesn’t change.\n",
    "\n",
    "Fixing this is simple: just use the **partitionBy()** transformation on rdd_userinfo to hash-partition it at the start of the program. We do this by passing a spark.HashPartitioner object to partitionBy."
   ]
  },
  {
   "cell_type": "code",
   "execution_count": null,
   "metadata": {
    "collapsed": true
   },
   "outputs": [],
   "source": [
    "rdd_userinfo = sc.textFile(\"../data/users_events_example/user_info_1000users_20topics.csv\")\\\n",
    "                    .filter(lambda x: len(x)>0)\\\n",
    "                    .map(lambda x: (x.split(\",\")[0],x.split(\",\")[1].split(\"|\"))).partitionBy(10)    \n",
    "rdd_userinfo"
   ]
  },
  {
   "cell_type": "markdown",
   "metadata": {},
   "source": [
    "The process_new_logs() method can remain unchanged: the rdd_userevents RDD is local to process_new_logs(), and is used only once within this method, so there is no advantage in specifying a partitioner for events. \n",
    "\n",
    "Because we called partitionBy() when building userData, Spark will now know that it is hash-partitioned, and calls to join() on it will take advantage of this information. \n",
    "\n",
    "In particular, when we call user rdd_userinfo.join(rdd_userevents), Spark will shuffle only the events RDD, sending events with each particular UserID to the machine that contains the corresponding hash partition of rdd_userinfo. \n",
    "\n",
    "The result is that a lot less data is communicated over the network, and the program runs significantly faster.\n",
    "\n",
    "![user partitioning example rdds 2](https://github.com/f-guitart/data_mining/blob/master/notes/img/user_partitioning_example_rdds_partitionBy.png?raw=true \"user partitioning example rdds 2\")\n",
    "\n",
    "More on partitioning:\n",
    " * http://stackoverflow.com/questions/35973590/pyspark-partioning-data-using-partitionby\n",
    " * http://stackoverflow.com/questions/31424396/apache-spark-hashpartitioner-how-does-it-work\n",
    "\n",
    "Note that partitionBy() is a transformation, so it always returns a new RDD—it does not change the original RDD in place. RDDs can never be modified once created. Therefore it is important to persist and save as rdd_userinfo the result of partitionBy(), not the original textFile().\n",
    "\n",
    "Also, the 100 passed to partitionBy() represents the number of partitions, which will control how many parallel tasks perform further operations on the RDD (e.g., joins); in general, **make this at least as large as the number of cores in your cluster**.\n",
    "\n",
    "In fact, many other Spark operations automatically result in an RDD with known partitioning information, and many operations other than join() will take advantage of this information.\n",
    "\n",
    "For example, sortByKey() and groupByKey() will result in range-partitioned and hash-partitioned RDDs, respectively. \n",
    "\n",
    "On the other hand, operations like map() cause the new RDD to forget the parent’s partitioning information, because such operations could theoretically modify the key of each record. "
   ]
  }
 ],
 "metadata": {
  "anaconda-cloud": {},
  "kernelspec": {
   "display_name": "Python 3",
   "language": "python",
   "name": "python3"
  },
  "language_info": {
   "codemirror_mode": {
    "name": "ipython",
    "version": 3
   },
   "file_extension": ".py",
   "mimetype": "text/x-python",
   "name": "python",
   "nbconvert_exporter": "python",
   "pygments_lexer": "ipython3",
   "version": "3.6.3"
  }
 },
 "nbformat": 4,
 "nbformat_minor": 1
}
