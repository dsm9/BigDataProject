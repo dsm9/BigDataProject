{
 "cells": [
  {
   "cell_type": "markdown",
   "metadata": {},
   "source": [
    "# Clustering data"
   ]
  },
  {
   "cell_type": "markdown",
   "metadata": {},
   "source": [
    "We    are going to discuss in this notebook two different approaches to the problem of clustering data sets. We consider data sets of points, where each point is considered to be a $d-$ dimensional numeric vector in an euclidean space.\n",
    "Given a data set, a cluster is a subset of points of the data set that are somehow related to each other. That is, they share some similar features, or we say that globally they form a group of related/similar points. For example, consider different demografic and economic variables for the countries. Do we observe a clear division between countries when  looking at those indicators ?\n",
    "\n",
    "That we assume an euclidean space is at least necessary for our first approach, because the algorithm we use for it, the k-means algorithm, considers euclidean distances between points when measuring the Variance within each cluster produced. However, there are other variants of this algorithm that work with other distance metrics. So, if our original problem cannot be mapped, in a right way, to an euclidean space, then we shoudld consider the other variants. \n",
    "\n",
    "Both algorithms we show here are examples of **unsupervised learning** algorithms, they learn to what cluster belongs each data point without the prior knowledge of any *good* examples of points already well linked to their clusters. So, the algorithms work without practical clues about what points contain each cluster. In other words, they **discover** concepts without prior human assistance about how are the concepts they should find."
   ]
  },
  {
   "cell_type": "code",
   "execution_count": 1,
   "metadata": {},
   "outputs": [
    {
     "name": "stderr",
     "output_type": "stream",
     "text": [
      "/opt/conda/lib/python3.5/site-packages/matplotlib/font_manager.py:273: UserWarning: Matplotlib is building the font cache using fc-list. This may take a moment.\n",
      "  warnings.warn('Matplotlib is building the font cache using fc-list. This may take a moment.')\n",
      "/opt/conda/lib/python3.5/site-packages/matplotlib/font_manager.py:273: UserWarning: Matplotlib is building the font cache using fc-list. This may take a moment.\n",
      "  warnings.warn('Matplotlib is building the font cache using fc-list. This may take a moment.')\n"
     ]
    },
    {
     "name": "stdout",
     "output_type": "stream",
     "text": [
      "/usr/local/spark <pyspark.context.SparkContext object at 0x7f4ee04dbb38>\n"
     ]
    }
   ],
   "source": [
    "#\n",
    "# Our preliminary set-up code\n",
    "#\n",
    "\n",
    "import pyspark\n",
    "import os\n",
    "import math\n",
    "import random\n",
    "import sys\n",
    "\n",
    "%matplotlib inline\n",
    "import matplotlib\n",
    "import numpy as np\n",
    "import matplotlib.pyplot as plt\n",
    "\n",
    "\n",
    "spark_home = os.environ.get('SPARK_HOME', None)\n",
    "sc = pyspark.SparkContext('local[*]')\n",
    "\n",
    "print (spark_home, sc)"
   ]
  },
  {
   "cell_type": "markdown",
   "metadata": {},
   "source": [
    "## Exact (crisp) clustering with Lloyd algorithm"
   ]
  },
  {
   "cell_type": "markdown",
   "metadata": {},
   "source": [
    "We first consider the problem of *exact* clustering. We assume that there exist k clusters (groups of points), and that each point in our data set belongs to exactly one of the k clusters. We start assuming that we know the right number of clusters $k$, although this value is usually something we have to guess in real applications of clustering.\n",
    "\n",
    "For presenting the algorithm, we need to introduce some notation first:\n",
    "\n",
    "- Target set of data points: Target set of $n$-dimensional points $D=\\{X_1,X_2,\\ldots,X_m \\}$\n",
    "\n",
    "- Euclidean distance between two points: $ || x-y || = \\sqrt{ \\sum_{i = 1}^{n} (x_i-y_i)^2 } $  \n",
    "\n",
    "- Centroid of a subset Y:  $  \\frac{1}{|Y|} \\sum_{y \\in Y} y $ \n",
    "\n",
    "- Within-cluster sum of square errors (WCSSE) for a set of clusters C: \n",
    "$$ \\sum_{c \\in C} \\sum_{x \\in c} || x-center(c) ||^2 $$\n",
    "\n",
    "Then, Lloyd algorithm considers that a cluster is defined simply by its center, and that the set of points that belong to a cluster is the set of points with smaller euclidean distance to that center than to any other cluster center. We can think about the cluster center as being the mean representative point of the cluster (although it can be the case that there is no single point in our data set that is exactly equal to that cluster center).\n",
    "Then, Lloyd algorithm finds a set of k clusters with the following iterative WCSSE improving algorithm:\n",
    "\n",
    "```python\n",
    "clusters = Initial Guess for k clusters centers  \n",
    "iters = 1  \n",
    "while (clusters changed significantly  &   iters <= limit) do:  \n",
    "  # Assign closest cluster to each point based on current cluster centers   \n",
    "  for p in D:\n",
    "      assign to p its nearest cluster center                    \n",
    "  # Find best new set of cluster centers based on current centroids   \n",
    "  For each c in k: \n",
    "      cluster(c) = centroid(points in D assigned to c)  \n",
    "  iters = iters + 1 \n",
    "```\n",
    "\n",
    "From the two criterions to stop modifying the clusters, the first one refers to measuring the difference of the clusters between the previous iterations and the current one. We need to define what we mean by *changed significantly*, but usually that means that the distance between at least one pair (old_center_i,new_center_i), for some cluster i, is greater than certain threshold value. "
   ]
  },
  {
   "cell_type": "markdown",
   "metadata": {
    "collapsed": true
   },
   "source": [
    "### Parallel implementation in the Map-Reduce framework\n",
    "\n",
    "The k-means  algorithm we have just presented is a good example of an interesting algorithm to think about an efficient implementation in the Map-Reduce framework, and in the particular Spark programming framework where we can benefit from the memory-based, resilient distributed data sets that we can define from input data or from transformations of previous iterations.\n",
    "\n",
    "First, regarding the data needed to store our current *model* for the clusters, observe that they are simply a set of k d-dimensional points (representing the centers of each cluster). So, assuming k is a small number compared with the total number of points in D (as it happens in typical applications of clustering), we are going to assume that the set of cluster centers can be mantained as shared information between all the workers in our spark application. \n",
    "\n",
    "Let's analyze how to implement the two steps performed in every iteration of Lloyd algorithm. \n",
    "- In the first step, we have to assign to each data point its closest cluster center, so in the next step we can group together all the points of each cluster to compute its centroid. This is clearly a map operation that can be performed locally with each point (provided we call a function where the set of cluster centers is packed with the function). A good way to format the ouput of such map function is to use (key,value) pairs, where the key is the cluster center and the value is a point assigned to that cluster center.\n",
    "\n",
    "- In the second step, we have to compute the centroid of each set of points assigned to the same cluster center. So, in this case this is clearly a reduceByKey operation, where the reduce operation for two points assigned to the same cluster center is simply: p1+p2 (coordinate wise addition). Once we have all the points of every cluster added, we simply divide by the number of points of each cluster to get its centroid."
   ]
  },
  {
   "cell_type": "markdown",
   "metadata": {},
   "source": [
    "Consider the following data set of countries where we include the birth rate and death rate of every country in the data set. We will try to discover if there are any subgroups of countries, regarding their similarites in these two demographic indicators, using the k-means clustering algorithm"
   ]
  },
  {
   "cell_type": "code",
   "execution_count": 2,
   "metadata": {
    "collapsed": true
   },
   "outputs": [],
   "source": [
    "#\n",
    "#  Coutry information about birth rate (2nd col) and death rate (3th col):\n",
    "#\n",
    "#  The complete countries data set can be found at: data/countries_data.csv\n",
    "#\n",
    "countriesdata = [ [ 'Afghanistan', 38.6, 13.9 ], \\\n",
    "                  [ 'Armenia',  13.6  ,  9.3 ], \\\n",
    "                  [ 'India',  19.6  ,  7.3 ], \\\n",
    "                  [ 'Iran', 18  ,  5.9 ], \\\n",
    "                  [ 'Iraq', 31.5  ,  3.8 ], \\\n",
    "                  [ 'Yemen', 30  ,  6.3 ], \\\n",
    "                  [ 'Israel', 18.5  ,  5.2 ], \\\n",
    "                  [ 'Italy',  8.7  ,  10.2  ], \\\n",
    "                  [ 'Germany'  ,  8.5  ,  11.4 ], \\\n",
    "                  [  'Denmark'  ,  10.3  ,  10.3    ], \\\n",
    "                  [  'France'  ,  12.4  ,  9.2    ], \\\n",
    "                  [  'Spain'  ,  9.6  ,  9     ], \\\n",
    "                  [ 'Austria'  ,  9.4  ,  9.4  ], \\\n",
    "                  [ 'Switzerland'  ,  10.5  ,  8.1 ], \\\n",
    "                  [  'Ecuador'  ,  18.5  ,  5.1 ], \\\n",
    "                  [  'Peru'  ,  18.3  ,  6 ], \\\n",
    "                  [  'Bolivia'  ,  22.8  ,  6.5 ], \\\n",
    "                  [  'Brazil'  ,  14.5  ,  6.6, ], \\\n",
    "                  [ 'Argentina'  ,  16.6  ,  7.3 ], \\\n",
    "                  [  'Chile'  ,  13.8  ,  6    ], \\\n",
    "                  [  'Colombia'  ,  16.5  ,  5.4 ] ]\n",
    "                  "
   ]
  },
  {
   "cell_type": "markdown",
   "metadata": {},
   "source": [
    "We are going to use the implementation of k-means available in spark, that incorporates an alternative way of creating the initial set of cluster centers (apart of the random method of picking uniformly at random k points to build the initial centers). But in this notebook we will not explore the alternative ways to create the initial centers, although they can have a big impact in the needed number of iterations to achieve good results. Check the paper:\n",
    "\n",
    "> B. Bahmani, B. Moseley, A. Vattani, R. Kumar and S. Vassilvitskii. *Scalable K-Means++*. In Proceedings of PVLDB 5(7): 622-633. URL: http://theory.stanford.edu/~sergei/papers/vldb12-kmpar.pdf (2012)\n",
    "\n",
    "If you want to know more about the specific alternative centers initialization available in the k-means implementation available in spark"
   ]
  },
  {
   "cell_type": "code",
   "execution_count": 4,
   "metadata": {
    "collapsed": true
   },
   "outputs": [],
   "source": [
    "#\n",
    "#  Load specific packages for working with Kmeans clustering\n",
    "#\n",
    "# Full info about spark 1.6 k-means algorithm at:\n",
    "#\n",
    "#   http://spark.apache.org/docs/1.6.0/mllib-clustering.html#k-means\n",
    "\n",
    "from pyspark.mllib.clustering import KMeans, KMeansModel\n",
    "\n",
    "# Evaluate the error of a point, computed with its distance to the predicted cluster center\n",
    "# (Within Cluster Sum of Squared Errors)\n",
    "def error(clusters,point):\n",
    "    center = clusters.centers[clusters.predict(point)]\n",
    "    return sum([x**2 for x in (point - center)])"
   ]
  },
  {
   "cell_type": "code",
   "execution_count": 7,
   "metadata": {},
   "outputs": [
    {
     "name": "stdout",
     "output_type": "stream",
     "text": [
      "[ 10.375    9.6125]\n",
      "[ 33.36666667   8.        ]\n",
      "[ 17.71   6.13]\n",
      "\n",
      "Cluster for  Afghanistan  :  1\n",
      "Cluster for  Armenia  :  0\n",
      "Cluster for  India  :  2\n",
      "Cluster for  Iran  :  2\n",
      "Cluster for  Iraq  :  1\n",
      "Cluster for  Yemen  :  1\n",
      "Cluster for  Israel  :  2\n",
      "Cluster for  Italy  :  0\n",
      "Cluster for  Germany  :  0\n",
      "Cluster for  Denmark  :  0\n",
      "Cluster for  France  :  0\n",
      "Cluster for  Spain  :  0\n",
      "Cluster for  Austria  :  0\n",
      "Cluster for  Switzerland  :  0\n",
      "Cluster for  Ecuador  :  2\n",
      "Cluster for  Peru  :  2\n",
      "Cluster for  Bolivia  :  2\n",
      "Cluster for  Brazil  :  2\n",
      "Cluster for  Argentina  :  2\n",
      "Cluster for  Chile  :  2\n",
      "Cluster for  Colombia  :  2\n",
      "Within Cluster Sum of Squared Error = 192.020416667\n",
      "Average Square Error = 9.14382936508\n"
     ]
    }
   ],
   "source": [
    "countriesRDD = sc.parallelize( countriesdata ).map( lambda p : np.array(p[1:]) )\n",
    "countriesRDD.persist()\n",
    "\n",
    "# Cluster the data in 3 clusters\n",
    "countriesclusters1 = KMeans.train( countriesRDD, 3, maxIterations=20, \\\n",
    "                               initializationMode=\"random\")\n",
    "\n",
    "\n",
    "\n",
    "# Check the cluster assigned to each data point (user)\n",
    "# If you execute several times the clustering algorithm, given\n",
    "# the random initialization, the result obtained will be different\n",
    "# in several executions.\n",
    "# We could pick the one with smallest Error\n",
    "\n",
    "#Show clusters centers:\n",
    "for c in countriesclusters1.centers:\n",
    "    print (c)\n",
    "\n",
    "print (\"\")\n",
    "cpredictions = {}\n",
    "for country in countriesdata:\n",
    "    cpredictions[country[0]] = countriesclusters1.predict(np.array(country[1:]))\n",
    "    print (\"Cluster for \", country[0], \" : \", cpredictions[country[0]])\n",
    "\n",
    "WCSSE = countriesRDD .map(lambda point: error(countriesclusters1,point)).reduce(lambda x, y: x + y)\n",
    "print(\"Within Cluster Sum of Squared Error = \" + str(WCSSE))\n",
    "print(\"Average Square Error = \"+ str(WCSSE/countriesRDD.count()))"
   ]
  },
  {
   "cell_type": "markdown",
   "metadata": {
    "collapsed": true
   },
   "source": [
    "If we execute k-means with the countries data set, almost all the executions obtain a model with WCSSE around 190, although some of them achieve a bigger error.\n",
    "\n",
    "Because we have only two dimensions per point, we can easily plot the points of each cluster to visually inspect if the clusters learned make any sense. We can do this with a 2D plot that we make with matplotlib. "
   ]
  },
  {
   "cell_type": "code",
   "execution_count": 8,
   "metadata": {},
   "outputs": [
    {
     "data": {
      "image/png": "[encoded data removed]",
      "text/plain": [
       "<matplotlib.figure.Figure at 0x7f4eb9dc74e0>"
      ]
     },
     "metadata": {},
     "output_type": "display_data"
    }
   ],
   "source": [
    "import itertools\n",
    "\n",
    "palette = itertools.cycle(['b','r','m'])\n",
    "for c in range(3):\n",
    "  cclusterx = [ x[1] for x in countriesdata if cpredictions[x[0]] == c]               \n",
    "  cclustery = [ x[2] for x in countriesdata if cpredictions[x[0]] == c]  \n",
    "  plt.scatter(cclusterx,cclustery,color=next(palette) )\n",
    "     \n",
    "\n",
    "centersX = [ x[0] for x in countriesclusters1.centers ]\n",
    "centersY = [ x[1] for x in countriesclusters1.centers ]\n",
    "# Plot the center of each cluster\n",
    "plt.scatter(centersX, centersY, marker='x', s=100, linewidths=3, color=['b','r','m'], zorder=10) \n",
    "\n",
    "plt.xlabel('birth rate')\n",
    "plt.ylabel('death rate')\n",
    "plt.show()    "
   ]
  },
  {
   "cell_type": "markdown",
   "metadata": {},
   "source": [
    "Let's now turn our attention to the topic of discovering similar users for recommender systems. In particular, let's consider a data base of users, where for each user we store the ratings given by the user to different movies. We will talk more about recommender systems later in this course, dicussing more appropriate ways of dealing with such data, where tipically many entries (actually most of the entries) of such user-product matrix will be empty, so this clustering approach may not be always usable."
   ]
  },
  {
   "cell_type": "code",
   "execution_count": 10,
   "metadata": {
    "collapsed": true
   },
   "outputs": [],
   "source": [
    "# Example data\n",
    "#\n",
    "# We have 10 users, and 10 movies: STW1, STW2, STW3, STW4, STW5, STW6\n",
    "#                                  T1, T2, T3 and BaT\n",
    "# Each entry i,j is the rating given by the user in the range [-5.0,5.0]\n",
    "# We can observe that we have 4 clear Star Wars fans (that they also like a \n",
    "# little bit Terminator movies)\n",
    "# We also have four clear Terminator fans (that they also like a little STWs movies)\n",
    "# Finally, we have two clear Breakfast at tiffannies fans (BaT), that they do not\n",
    "# like too much science-fiction movies\n",
    "\n",
    "usersandmovies = [ [3,3,3,5,5,4, 3,3,-1, -1], \\\n",
    "                   [3,3,3,5,5,4, 4,2,0, -1], \\\n",
    "                   [3,3,4,5,5,4, 4,4,1, 0], \\\n",
    "                   [4,3,3,4,5,4, 3,3,1, -1], \\\n",
    "                   [1,1,1,0,1,1, 5,4,2, -1], \\\n",
    "                   [1,2,1,0,1,1, 4,4,2, -1], \\\n",
    "                   [1,2,2,1,1,1, 4,4,2, -1], \\\n",
    "                   [1,2,2,1,1,0, 5,4,3, -1], \\\n",
    "                   [-2,-3,-2,0,-2,-1, 0,0,-1,4], \\\n",
    "                   [-2,-3,-2,0,-2,-1, 0,0,-1,4]   ]\n",
    "\n",
    "# An important issue, that we will not cover here, is what we do when there are \n",
    "# missing entries in a data set we want to cluster with an algorithm like\n",
    "# k-means (for example, what we should put in the previous matrix for a movie j not seen\n",
    "# by an user i ?). Take a look at this blog post if you want to explore a possible solution:\n",
    "#\n",
    "#  http://blog.supplyframe.com/2013/04/30/handling-missing-data-in-k-means/"
   ]
  },
  {
   "cell_type": "markdown",
   "metadata": {
    "collapsed": true
   },
   "source": [
    "The code we use for discovering three clusters in this second data set is almost identical to the previous one, given that the input data format is almost the same:"
   ]
  },
  {
   "cell_type": "code",
   "execution_count": 13,
   "metadata": {},
   "outputs": [
    {
     "name": "stdout",
     "output_type": "stream",
     "text": [
      "Cluster for  [3, 3, 3, 5, 5, 4, 3, 3, -1, -1]  :  1\n",
      "Cluster for  [3, 3, 3, 5, 5, 4, 4, 2, 0, -1]  :  1\n",
      "Cluster for  [3, 3, 4, 5, 5, 4, 4, 4, 1, 0]  :  1\n",
      "Cluster for  [4, 3, 3, 4, 5, 4, 3, 3, 1, -1]  :  1\n",
      "Cluster for  [1, 1, 1, 0, 1, 1, 5, 4, 2, -1]  :  2\n",
      "Cluster for  [1, 2, 1, 0, 1, 1, 4, 4, 2, -1]  :  2\n",
      "Cluster for  [1, 2, 2, 1, 1, 1, 4, 4, 2, -1]  :  2\n",
      "Cluster for  [1, 2, 2, 1, 1, 0, 5, 4, 3, -1]  :  2\n",
      "Cluster for  [-2, -3, -2, 0, -2, -1, 0, 0, -1, 4]  :  0\n",
      "Cluster for  [-2, -3, -2, 0, -2, -1, 0, 0, -1, 4]  :  0\n",
      "Within Cluster Sum of Squared Error = 14.0\n"
     ]
    }
   ],
   "source": [
    "usersandmoviesRDD = sc.parallelize( usersandmovies ).map( lambda p : np.array(p) )\n",
    "usersandmoviesRDD.persist()\n",
    "\n",
    "# Cluster the data in 3 clusters\n",
    "userclusters1 = KMeans.train( usersandmoviesRDD, 3, maxIterations=20, \\\n",
    "                               initializationMode=\"random\")\n",
    "\n",
    "# Check the cluster assigned to each data point (user)\n",
    "# If you execute several times the clustering algorithm, given\n",
    "# the random initialization, the result obtained will be different\n",
    "# in several executions.\n",
    "# We could pick the one with smallest Error\n",
    "\n",
    "for user in usersandmovies:\n",
    "    print (\"Cluster for \", user, \" : \", userclusters1.predict(np.array(user)))\n",
    "\n",
    "WCSSE = usersandmoviesRDD.map(lambda point: error(userclusters1,point)).reduce(lambda x, y: x + y)\n",
    "print(\"Within Cluster Sum of Squared Error = \" + str(WCSSE))"
   ]
  },
  {
   "cell_type": "markdown",
   "metadata": {
    "collapsed": true
   },
   "source": [
    "Observe that in *almost all* the executions of k-means with this data set, we discover the three subgroups of user profiles we have intentionally introduced in this data set of user movie reviews. However, in some executions the clusters discovered differ slightly, and the WCSSE increases from 14 to 35."
   ]
  },
  {
   "cell_type": "markdown",
   "metadata": {},
   "source": [
    "## Probabilistic (soft) clustering with Expectation Maximization\n",
    "\n",
    "We are now going to tackle the problem of clustering data as assigning clusters to points following a probabilistic model. In this case, we assume that there is a probabilistic generative model with two components:\n",
    "1. There is a probability distribution among the $k$ different clusters. This probability distribution dictates which cluster generates each point obtained from the source that generated our data set.\n",
    "2. Once a cluster $i$ has been selected, the value for each dimension of the data point comes from a particular Multivariate gaussian distribution with particular mean ($d$-dimensional) vector $\\mu_i$ and covariance ($d \\times d$) matrix $\\Sigma_i$.\n",
    "\n",
    "This generation model is called a **k-Gaussian mixture model**. So, in this model we have two different sets of parameters: the probabilities that define the finite probability distribution among the $k$ clusters and the $\\mu_i$ and $\\Sigma_i$ parameters of the Multivariate gaussian distributions associated with the clusters. The conditional probability theorem tell us that the probability that a certain data point $\\overline{x}$ is obtained in our data set can be expresed as:\n",
    "\n",
    "$$ P(\\overline{x} ) = \\sum_i P(C=i) P( \\overline{x} | C=i ) $$\n",
    "\n",
    "where $ P(C=i) $ is the probability that the cluster that generated the data was $i$ and $   P( \\overline{x} | C=i ) $ is the probability to obtain $\\overline{x}$ with the multivariate gaussian distribution with parameters $\\mu_i$ and  $\\Sigma_i$. However, observe that in our clustering problem we do not know neither the cluster probabilities ($P(C=i)$) nor the gaussian parameters $\\mu_i$ and  $\\Sigma_i$ that allow us to compute $  P( \\overline{x} | C=i ) $. So, the question is:\n",
    "\n",
    "> Can we learn estimates of these $P(C=i)$ and  $\\mu_i,\\Sigma_i$ parameters from our data set ?\n",
    "\n",
    "Observe that in our data set we do not have any attributes that indicate which clusters generated each data point. So even if we assume a model where the clusters are indicated by a certain random variable, that variable **is hidden** in our data (we cannot directly observe its value in our data points). The previous conditional probability equation gives us two possible ways to discover such parameters:\n",
    "\n",
    "1. If we knew the $  P(C=i) $ parameters, we could learn the most likely values for the parameters  $\\mu_i,\\Sigma_i$ (the values for them that maximize the probabilities observed for our data points).\n",
    "\n",
    "2. If we knew the  $\\mu_i,\\Sigma_i$ parameters, we could learn the most likely values for the cluster probabilities  $  P(C=i)$.\n",
    "\n",
    "So, how can we break this deadlock situation ?\n",
    "\n",
    "### The EM algorithm for learning a k-Gaussian mixture model\n",
    "\n",
    "Given the mutual dependence between the two sets of parameters we want to learn, the approach to learn a good estimation of them is to use an iterative algorithm that although it may not always learn the best possible model, in many cases learns a good enough model (one that predicts with good accuracy the probabilities of the observed data points). This algorithm is the Expectation Maximization algorithm for a k-Gaussian mixture model. As we are going to see, this algorithm actually behaves like a probabilistic version of the previous k-means algorithm, where instead of assigning an unique cluster to each point, we define a probability distribution over cluster selection and  $\\mu_i,\\Sigma_i$  parameters for each cluster that change in every iteration until no further changes to the parameters can give a better fit to the probabilites observed. But with this  k-Gaussian mixture model, a point is never crisply assigned to a cluster, although the algorithm computes the probability that a particular cluster generated one of our data points. The EM algorithm for  learning a k-Gaussian mixture model is the following one:\n",
    "\n",
    "Initially, we generate random/pseudo-random values (or with some other method) for the parameters $  P(C=i) $ and $\\mu_i,\\Sigma_i$ .\n",
    "\n",
    "Then, we change the parameters iteratively **until they converge** repeating the two following steps:  \n",
    "1. In the E-step, we compute the expected values for the hidden indicator random variables that indicate which cluster generated each data point, given the current model parameters. That is, the expected values for probabilities $ P(C=i| \\overline{x} )  $. By bayes conditional probability rule these probabilities can be computed using our initial equation and current model parameters as:\n",
    "$$ P(C=i| \\overline{x} ) = \\frac{   P(C=i) P( \\overline{x} | C=i ) }{\\sum_j P(C=j) P( \\overline{x} | C=j ) } $$  \n",
    "Observe that $P(C=i)$ and $ P( \\overline{x} | C=i ) $ are computed with our current model parameters, as $ P( \\overline{x} | C=i ) $ is computed with the probability density function of a multivariate normal distribution with parameters  $\\mu_i,\\Sigma_i$. Check https://en.wikipedia.org/wiki/Multivariate_normal_distribution#Density_function\n",
    "  \n",
    "2. In the M-step, we compute new parameter values for  $  P(C=i) $ and $\\mu_i,\\Sigma_i$ that maximize the likelihood of our data points, given the expected values $ P(C=i| \\overline{x} ) $ for the hidden variables  computed in the previous step:\n",
    "$$ \\mu_i = \\frac{1}{p_i} \\sum_{\\overline{x}} \\overline{x}   P(C=i| \\overline{x} )  $$ \n",
    "$$ \\Sigma_i = \\frac{1}{p_i} \\sum_{\\overline{x}}\n",
    "  P(C=i| \\overline{x} ) (\\overline{x}-\\mu_i)(\\overline{x}-\\mu_i)^T $$  \n",
    "$$ P(C=i) = p_i / N  $$ \n",
    "\n",
    "where $p_i = \\sum_{\\overline{x}} P(C=i| \\overline{x} )$  and $N$ is the number of data points in the data set.\n",
    "\n",
    "\n",
    "###  Parallel implementation in the Map-Reduce framework\n",
    "\n",
    "The implementation in a Map-Reduce framework of this algorithm follows a similar scheme to the one described for the k-means algorithm, as both algorithms perform a similar work inside of the two steps they execute in every iteration:\n",
    "\n",
    "1. In the E-step, for each point $\\overline{x}$ we have to compute the probabilites $ P(C=i| \\overline{x} )  $ associated with the hidden variable. This computation is local to each data point (for each point $\\overline{x}$  we compute its set of k $ P(C=i| \\overline{x} )  $ values using only the current parameters of the model. So, this step is totally independent for each data point, and thus it can be implemented as a pure Map operation. Observe the analogy with k-means: in k-means, in the first step we compute the most probable cluster for each point, here we compute a probability distribution over clusters for each point.\n",
    "2. In the M-step, for each cluster $i$ we compute new parameters  $  P(C=i) $ and $\\mu_i,\\Sigma_i$ collecting the values $ P(C=i| \\overline{x} )  $ computed for all the points $ \\overline{x}$. First, we can compute $\\mu_i$ using a Map-Reduce operation (with all the $  \\overline{x} P(C=i| \\overline{x} )  $ values), and then $ \\Sigma_i$ is  computed with a second Map-Reduce operation, with Map we compute the $d \\times d$ matrix $ (\\overline{x}-\\mu_i)(\\overline{x}-\\mu_i)^T $ for each point and cluster $i$, and then all such matrices with the same $i$ value are summed up in a Reduce operation to finally compute $\\Sigma_i$. Compare this with k-means: in k-means, in the second step we combined all the points of a same cluster i to compute the new centers of the clusters.\n",
    "\n",
    "\n",
    "Then, once the algorithm converges (so no better parameters can be found), we end up with a model that although is locally good, it may not necessarilly be the best global model. That is, better models could be found if we were changing at the same time both the hidden variables distributions and the clusters parameters. But there is no good method to perform such global search through the space of all parameter combinations. \n",
    "With the resulting model, observe that we can use the final parameters $  P(C=i| \\overline{x} )  $ to make a soft prediction of the cluster that generated each data point $\\overline{x}$.\n",
    "\n",
    "For a more detailed discussion of the implementation of the distributed version of this algorithm in different distributed frameworks, read the paper:\n",
    "> H. Cui, J. Wei and W Dai. *Parallel Implementation of Expectation-Maximization for Fast Convergence*. URL: https://users.ece.cmu.edu/~hengganc/archive/report/final.pdf\n",
    "\n",
    "It is worth noticing that EM based algorithms are also used for predicting values of other families of random variables in problems where we assume that our data has been generated (or can be modelled) with certain random variables where some of their parameters are unkown, but we want to learn the most probable parameters for those random variables given our data. As an another example of the use of EM based algorithms for big data applications, check for example the following paper:\n",
    "\n",
    "> Timothy Hunter, Teodor Mihai Moldovan, Matei Zaharia, Samy Merzgui, Justin Ma, Michael J. Franklin, Pieter Abbeel, Alexandre M. Bayen: Scaling the mobile millennium system in the cloud. SoCC 2011: 28\n",
    "URL: https://cs.stanford.edu/~matei/papers/2011/socc_mobile_millennium.pdf"
   ]
  },
  {
   "cell_type": "code",
   "execution_count": 14,
   "metadata": {
    "collapsed": true
   },
   "outputs": [],
   "source": [
    "#\n",
    "#  Load specific packages for working with Gaussian-Mixture clustering\n",
    "#\n",
    "#  More info at:\n",
    "#   http://spark.apache.org/docs/1.6.0/mllib-clustering.html#gaussian-mixture\n",
    "\n",
    "from pyspark.mllib.clustering import GaussianMixture\n"
   ]
  },
  {
   "cell_type": "markdown",
   "metadata": {},
   "source": [
    "We are going to test the learning of a k-Gaussian mixture model with an implementation of the EM algorithm available in spark. Let's try it first with our data set of countries."
   ]
  },
  {
   "cell_type": "code",
   "execution_count": 15,
   "metadata": {
    "scrolled": true
   },
   "outputs": [
    {
     "name": "stdout",
     "output_type": "stream",
     "text": [
      "Afghanistan  soft:  array('d', [1.0, 7.051187845292559e-19, 7.051187845292559e-19])  most probable:  0\n",
      "Armenia  soft:  array('d', [4.91345524134259e-15, 0.8939218142606888, 0.10607818573930626])  most probable:  1\n",
      "India  soft:  array('d', [1.7967258440500964e-14, 0.9916321272022548, 0.00836787279772732])  most probable:  1\n",
      "Iran  soft:  array('d', [1.3300629162566005e-14, 1.3300629162566005e-14, 0.9999999999999734])  most probable:  2\n",
      "Iraq  soft:  array('d', [1.0570881106867672e-14, 0.9999999999974185, 2.5708606099069032e-12])  most probable:  1\n",
      "Yemen  soft:  array('d', [1.0, 7.051187845291895e-19, 7.057115751982228e-19])  most probable:  0\n",
      "Israel  soft:  array('d', [1.4137560418520932e-14, 1.4137560418520932e-14, 0.9999999999999717])  most probable:  2\n",
      "Italy  soft:  array('d', [1.6380994226824038e-14, 1.7069326595499638e-14, 0.9999999999999666])  most probable:  2\n",
      "Germany  soft:  array('d', [5.841111247463616e-14, 5.885378858878423e-14, 0.9999999999998828])  most probable:  2\n",
      "Denmark  soft:  array('d', [6.196290061037925e-15, 0.7246709050966031, 0.2753290949033907])  most probable:  1\n",
      "France  soft:  array('d', [1.3764717949309896e-14, 2.755515392998224e-09, 0.9999999972444708])  most probable:  2\n",
      "Spain  soft:  array('d', [1.4825420735905063e-14, 1.4825420735905063e-14, 0.9999999999999704])  most probable:  2\n",
      "Austria  soft:  array('d', [1.3192132922207254e-14, 1.3192132922207254e-14, 0.9999999999999736])  most probable:  2\n",
      "Switzerland  soft:  array('d', [1.990079955127282e-14, 1.990079955127282e-14, 0.9999999999999601])  most probable:  2\n",
      "Ecuador  soft:  array('d', [1.441077835223981e-14, 1.441077835223981e-14, 0.9999999999999711])  most probable:  2\n",
      "Peru  soft:  array('d', [1.7344685946370393e-14, 1.7344685946370393e-14, 0.9999999999999654])  most probable:  2\n",
      "Bolivia  soft:  array('d', [4.565047904097682e-15, 0.9999812473821897, 1.8752617805729283e-05])  most probable:  1\n",
      "Brazil  soft:  array('d', [8.515200471343344e-15, 8.515200471343344e-15, 0.999999999999983])  most probable:  2\n",
      "Argentina  soft:  array('d', [2.0292308647941783e-14, 2.0292308647941783e-14, 0.9999999999999594])  most probable:  2\n",
      "Chile  soft:  array('d', [3.5114427842857146e-14, 3.5114427842857146e-14, 0.9999999999999297])  most probable:  2\n",
      "Colombia  soft:  array('d', [1.3890845242459964e-14, 1.3890845242459964e-14, 0.9999999999999722])  most probable:  2\n",
      "\n",
      "\n",
      "weight =  0.0952380952381 mu =  [34.3,10.1] sigma =  [[ 18.49  16.34]\n",
      " [ 16.34  14.44]]\n",
      "weight =  0.219503433062 mu =  [20.2512972719,7.22627757859] sigma =  [[ 53.0868367  -16.25301824]\n",
      " [-16.25301824   4.98049359]]\n",
      "weight =  0.6852584717 mu =  [13.7765316307,7.55293402255] sigma =  [[ 14.26626112  -6.8526651 ]\n",
      " [ -6.8526651    3.99198457]]\n"
     ]
    }
   ],
   "source": [
    "countriesRDD = sc.parallelize( countriesdata ).map( lambda p : np.array(p[1:]) )\n",
    "countriesRDD.persist()\n",
    "\n",
    "# Learn a 3-Gaussian mixture model with EM algorithm with 20 as the maximum\n",
    "# number of iterations, but stop before if convergence is reached.\n",
    "# Remember that each iteration executes different Map-reduce operations\n",
    "# so, the less iterations the less \n",
    "gmc = GaussianMixture.train( countriesRDD , 3, maxIterations=20)\n",
    "\n",
    "# Show probability distribution over clusters for each point,\n",
    "# the probability that a certain cluster generated one of our points\n",
    "# (soft prediction)\n",
    "# This can be turned to a crisp prediction if we select for the cluster\n",
    "# of the data point the most probable cluster\n",
    "# We can also make the soft prediction for all the whole RDD with:\n",
    "bestcclustersRDD = gmc.predictSoft(countriesRDD)\n",
    "\n",
    "i = 0\n",
    "for countrypred in bestcclustersRDD.collect():\n",
    "    print ( countriesdata[i][0], \" soft: \",countrypred , \\\n",
    "    \" most probable: \", countrypred.index(max(countrypred)))\n",
    "    i = i + 1\n",
    "\n",
    "print (\"\\n\")\n",
    "\n",
    "# output parameters of model\n",
    "#\n",
    "#  weights[i] = probability of selecting cluster i in k-Gaussian mixture model\n",
    "#  gmc.gaussians[i].mu = mean vector for i cluster\n",
    "#  gmc.gaussians[i].sigma.toArray() = covariance matrix for i cluster\n",
    "for i in range(3):\n",
    "    print (\"weight = \", gmc.weights[i], \"mu = \", gmc.gaussians[i].mu,\n",
    "        \"sigma = \", gmc.gaussians[i].sigma.toArray())\n",
    "    "
   ]
  },
  {
   "cell_type": "markdown",
   "metadata": {},
   "source": [
    "###  Exercises\n",
    "\n",
    "Can you make a program that compares the set clusters predicted with both clustering algorithms (k-means and EM for k-Gaussian mixture) ? \n",
    "\n",
    "Can you adapt the previous matplotlib code to plot the clusters obtained with the EM algorithm (assuming we assign to each point the most probable cluster) ?\n",
    "\n",
    "Consider clustering all the countries in the file countries_data.csv but using also the variables Population, life expectancy and GDP (this last one found in the file countries_GDP.csv)  "
   ]
  },
  {
   "cell_type": "markdown",
   "metadata": {},
   "source": [
    "### The user-movies data set\n",
    "\n",
    "Next, let's check the probabilistic model obtained with our users and movies data set"
   ]
  },
  {
   "cell_type": "code",
   "execution_count": 19,
   "metadata": {},
   "outputs": [
    {
     "name": "stdout",
     "output_type": "stream",
     "text": [
      "array('d', [1.0, 8.298324962378164e-42, 8.298324962378164e-42])  most probable:  0\n",
      "array('d', [1.0, 8.298324962378164e-42, 8.298324962378164e-42])  most probable:  0\n",
      "array('d', [1.0, 8.298324962378045e-42, 8.298324962378045e-42])  most probable:  0\n",
      "array('d', [1.0, 8.298324962377987e-42, 8.298324962422972e-42])  most probable:  0\n",
      "array('d', [4.815055708594409e-12, 4.815055708594409e-12, 0.9999999999903699])  most probable:  2\n",
      "array('d', [4.815055708594426e-12, 4.815055708594426e-12, 0.9999999999903699])  most probable:  2\n",
      "array('d', [4.815055708594409e-12, 4.815055708594409e-12, 0.9999999999903699])  most probable:  2\n",
      "array('d', [4.8150557085944e-12, 4.8150557085944e-12, 0.9999999999903699])  most probable:  2\n",
      "array('d', [1.0771127486461517e-48, 1.0, 4.587066399685257e-44])  most probable:  1\n",
      "array('d', [1.0771127486461517e-48, 1.0, 4.587066399685257e-44])  most probable:  1\n",
      "\n",
      "\n"
     ]
    }
   ],
   "source": [
    "# Build the model (cluster the data) with expectation maximization\n",
    "# for our usersandmovies data set\n",
    "gmm = GaussianMixture.train( usersandmoviesRDD, 3, maxIterations=20)\n",
    "\n",
    "# Let's show the soft prediction for each data point\n",
    "bestclustersRDD = gmm.predictSoft(usersandmoviesRDD)\n",
    "for user in bestclustersRDD.collect():\n",
    "    print (user,\\\n",
    "    \" most probable: \", user.index(max(user)))\n",
    "\n",
    "print (\"\\n\")\n"
   ]
  },
  {
   "cell_type": "markdown",
   "metadata": {
    "collapsed": true
   },
   "source": [
    "As you can see, picking the most probable cluster for each data point we obtain **in many executions** the same user clusters we obtained with the most typical executions of k-means. However, observe that the probability distributions obtained over the three clusters give us more information, as they can be used to measure how similar may be two particular clusters, when considered as possible clusters for a data point."
   ]
  }
 ],
 "metadata": {
  "kernelspec": {
   "display_name": "Python 3",
   "language": "python",
   "name": "python3"
  },
  "language_info": {
   "codemirror_mode": {
    "name": "ipython",
    "version": 3
   },
   "file_extension": ".py",
   "mimetype": "text/x-python",
   "name": "python",
   "nbconvert_exporter": "python",
   "pygments_lexer": "ipython3",
   "version": "3.6.3"
  }
 },
 "nbformat": 4,
 "nbformat_minor": 1
}
